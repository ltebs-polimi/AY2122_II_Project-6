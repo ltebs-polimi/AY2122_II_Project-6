{
  "cells": [
    {
      "cell_type": "markdown",
      "metadata": {
        "id": "vEUoWHFe9KRm"
      },
      "source": [
        "# Sleep position classification"
      ]
    },
    {
      "cell_type": "code",
      "execution_count": null,
      "metadata": {
        "id": "Q-oK1_Vu9KRq"
      },
      "outputs": [],
      "source": [
        "# import the libraries\n",
        "import numpy as np\n",
        "import pandas as pd\n",
        "%matplotlib inline\n",
        "import seaborn as sns \n",
        "import natsort\n",
        "from natsort import natsorted\n",
        "import matplotlib.pyplot as plt\n",
        "import os \n",
        "import csv"
      ]
    },
    {
      "cell_type": "code",
      "execution_count": null,
      "metadata": {
        "id": "07wm7rw09KRt"
      },
      "outputs": [],
      "source": [
        "#This code is used to create a dataset with all the processed data\n",
        "mypath = os.getcwd() \n",
        "path1='./processed_data/'\n",
        "files = [f for f in os.listdir(path1) if not f.startswith('.')]\n",
        "files = natsorted(files)\n",
        "files_csv= [f for f in files if f[-3:] == 'csv']\n",
        "print(files_csv)\n",
        "i=0\n",
        "df=pd.DataFrame()\n",
        "for f in files_csv: \n",
        "    file_name= './processed_data/'+ f\n",
        "    print(file_name)\n",
        "    data=pd.read_csv(file_name)\n",
        "    df = df.append(data)\n",
        "\n",
        "print(df.head())\n",
        "df.to_csv('total_proc_py.csv', index=False, header=True"
      ]
    },
    {
      "cell_type": "markdown",
      "metadata": {
        "id": "J0JDU_8E9KRv"
      },
      "source": [
        "## 1. Data validation"
      ]
    },
    {
      "cell_type": "code",
      "execution_count": null,
      "metadata": {
        "id": "ZMp7xNCj9KRx"
      },
      "outputs": [],
      "source": [
        "## Data import\n",
        "df=pd.read_csv('total_proc_py.csv')\n"
      ]
    },
    {
      "cell_type": "code",
      "execution_count": null,
      "metadata": {
        "id": "596f0Hds9KRy",
        "outputId": "3ec48b71-8b4a-4487-c4ea-bc52d059bb89"
      },
      "outputs": [
        {
          "name": "stdout",
          "output_type": "stream",
          "text": [
            "(120, 16)\n"
          ]
        },
        {
          "data": {
            "text/html": [
              "<div>\n",
              "<style scoped>\n",
              "    .dataframe tbody tr th:only-of-type {\n",
              "        vertical-align: middle;\n",
              "    }\n",
              "\n",
              "    .dataframe tbody tr th {\n",
              "        vertical-align: top;\n",
              "    }\n",
              "\n",
              "    .dataframe thead th {\n",
              "        text-align: right;\n",
              "    }\n",
              "</style>\n",
              "<table border=\"1\" class=\"dataframe\">\n",
              "  <thead>\n",
              "    <tr style=\"text-align: right;\">\n",
              "      <th></th>\n",
              "      <th>BR</th>\n",
              "      <th>WL</th>\n",
              "      <th>MAV</th>\n",
              "      <th>MV</th>\n",
              "      <th>STD</th>\n",
              "      <th>RMSE</th>\n",
              "      <th>Max</th>\n",
              "      <th>Min</th>\n",
              "      <th>VAR</th>\n",
              "      <th>SEN</th>\n",
              "      <th>MDF</th>\n",
              "      <th>MNF</th>\n",
              "      <th>Max_p</th>\n",
              "      <th>Min_p</th>\n",
              "      <th>r_axis</th>\n",
              "      <th>target</th>\n",
              "    </tr>\n",
              "  </thead>\n",
              "  <tbody>\n",
              "    <tr>\n",
              "      <th>0</th>\n",
              "      <td>0.240080</td>\n",
              "      <td>-49.489306</td>\n",
              "      <td>0.016496</td>\n",
              "      <td>-0.016496</td>\n",
              "      <td>0.828765</td>\n",
              "      <td>0.024225</td>\n",
              "      <td>2.856031</td>\n",
              "      <td>-2.129246</td>\n",
              "      <td>-0.016502</td>\n",
              "      <td>10121.076678</td>\n",
              "      <td>50.301781</td>\n",
              "      <td>46.663023</td>\n",
              "      <td>711.235976</td>\n",
              "      <td>2.753353e-14</td>\n",
              "      <td>z</td>\n",
              "      <td>supine</td>\n",
              "    </tr>\n",
              "    <tr>\n",
              "      <th>1</th>\n",
              "      <td>0.220073</td>\n",
              "      <td>0.478272</td>\n",
              "      <td>0.000159</td>\n",
              "      <td>0.000159</td>\n",
              "      <td>0.507935</td>\n",
              "      <td>0.012104</td>\n",
              "      <td>1.034132</td>\n",
              "      <td>-1.496247</td>\n",
              "      <td>0.000160</td>\n",
              "      <td>34.109931</td>\n",
              "      <td>2.920185</td>\n",
              "      <td>18.695023</td>\n",
              "      <td>439.457656</td>\n",
              "      <td>4.096723e-14</td>\n",
              "      <td>z</td>\n",
              "      <td>supine</td>\n",
              "    </tr>\n",
              "    <tr>\n",
              "      <th>2</th>\n",
              "      <td>0.220073</td>\n",
              "      <td>16.022720</td>\n",
              "      <td>0.005343</td>\n",
              "      <td>0.005343</td>\n",
              "      <td>0.531967</td>\n",
              "      <td>0.012163</td>\n",
              "      <td>0.933654</td>\n",
              "      <td>-1.088899</td>\n",
              "      <td>0.005344</td>\n",
              "      <td>1189.987977</td>\n",
              "      <td>17.248101</td>\n",
              "      <td>40.609365</td>\n",
              "      <td>860.553796</td>\n",
              "      <td>1.476597e-14</td>\n",
              "      <td>z</td>\n",
              "      <td>supine</td>\n",
              "    </tr>\n",
              "    <tr>\n",
              "      <th>3</th>\n",
              "      <td>0.260087</td>\n",
              "      <td>-72.349807</td>\n",
              "      <td>0.024117</td>\n",
              "      <td>-0.024117</td>\n",
              "      <td>0.618624</td>\n",
              "      <td>0.017500</td>\n",
              "      <td>1.620029</td>\n",
              "      <td>-1.553317</td>\n",
              "      <td>-0.024125</td>\n",
              "      <td>19177.751270</td>\n",
              "      <td>69.241879</td>\n",
              "      <td>39.344414</td>\n",
              "      <td>526.384057</td>\n",
              "      <td>3.186340e-14</td>\n",
              "      <td>x</td>\n",
              "      <td>lateral R</td>\n",
              "    </tr>\n",
              "    <tr>\n",
              "      <th>4</th>\n",
              "      <td>0.260087</td>\n",
              "      <td>4.426925</td>\n",
              "      <td>0.001476</td>\n",
              "      <td>0.001476</td>\n",
              "      <td>0.415343</td>\n",
              "      <td>0.011135</td>\n",
              "      <td>0.848615</td>\n",
              "      <td>-0.834289</td>\n",
              "      <td>0.001477</td>\n",
              "      <td>15.765618</td>\n",
              "      <td>1.985297</td>\n",
              "      <td>96.913984</td>\n",
              "      <td>583.295626</td>\n",
              "      <td>1.665335e-16</td>\n",
              "      <td>x</td>\n",
              "      <td>lateral R</td>\n",
              "    </tr>\n",
              "  </tbody>\n",
              "</table>\n",
              "</div>"
            ],
            "text/plain": [
              "         BR         WL       MAV        MV       STD      RMSE       Max  \\\n",
              "0  0.240080 -49.489306  0.016496 -0.016496  0.828765  0.024225  2.856031   \n",
              "1  0.220073   0.478272  0.000159  0.000159  0.507935  0.012104  1.034132   \n",
              "2  0.220073  16.022720  0.005343  0.005343  0.531967  0.012163  0.933654   \n",
              "3  0.260087 -72.349807  0.024117 -0.024117  0.618624  0.017500  1.620029   \n",
              "4  0.260087   4.426925  0.001476  0.001476  0.415343  0.011135  0.848615   \n",
              "\n",
              "        Min       VAR           SEN        MDF        MNF       Max_p  \\\n",
              "0 -2.129246 -0.016502  10121.076678  50.301781  46.663023  711.235976   \n",
              "1 -1.496247  0.000160     34.109931   2.920185  18.695023  439.457656   \n",
              "2 -1.088899  0.005344   1189.987977  17.248101  40.609365  860.553796   \n",
              "3 -1.553317 -0.024125  19177.751270  69.241879  39.344414  526.384057   \n",
              "4 -0.834289  0.001477     15.765618   1.985297  96.913984  583.295626   \n",
              "\n",
              "          Min_p r_axis     target  \n",
              "0  2.753353e-14      z     supine  \n",
              "1  4.096723e-14      z     supine  \n",
              "2  1.476597e-14      z     supine  \n",
              "3  3.186340e-14      x  lateral R  \n",
              "4  1.665335e-16      x  lateral R  "
            ]
          },
          "execution_count": 142,
          "metadata": {},
          "output_type": "execute_result"
        }
      ],
      "source": [
        "print(df.shape)\n",
        "df.head()"
      ]
    },
    {
      "cell_type": "code",
      "execution_count": null,
      "metadata": {
        "id": "lekb6SdR9KRz",
        "outputId": "a9fa848b-20e2-403a-85f3-6e61e13c8289"
      },
      "outputs": [
        {
          "data": {
            "text/plain": [
              "BR        0\n",
              "WL        0\n",
              "MAV       0\n",
              "MV        0\n",
              "STD       0\n",
              "RMSE      0\n",
              "Max       0\n",
              "Min       0\n",
              "VAR       0\n",
              "SEN       0\n",
              "MDF       0\n",
              "MNF       0\n",
              "Max_p     0\n",
              "Min_p     0\n",
              "r_axis    0\n",
              "target    0\n",
              "dtype: int64"
            ]
          },
          "execution_count": 143,
          "metadata": {},
          "output_type": "execute_result"
        }
      ],
      "source": [
        "## Check missing data\n",
        "df.isnull().sum()"
      ]
    },
    {
      "cell_type": "code",
      "execution_count": null,
      "metadata": {
        "id": "vxu4h-7k9KRz",
        "outputId": "4847676a-b03b-428d-ad43-ca4efefa1a6a"
      },
      "outputs": [
        {
          "data": {
            "text/plain": [
              "BR        float64\n",
              "WL        float64\n",
              "MAV       float64\n",
              "MV        float64\n",
              "STD       float64\n",
              "RMSE      float64\n",
              "Max       float64\n",
              "Min       float64\n",
              "VAR       float64\n",
              "SEN       float64\n",
              "MDF       float64\n",
              "MNF       float64\n",
              "Max_p     float64\n",
              "Min_p     float64\n",
              "r_axis     object\n",
              "target     object\n",
              "dtype: object"
            ]
          },
          "execution_count": 144,
          "metadata": {},
          "output_type": "execute_result"
        }
      ],
      "source": [
        "## Categorical variables\n",
        "df.dtypes"
      ]
    },
    {
      "cell_type": "markdown",
      "metadata": {
        "id": "y1l5uxkz9KR0"
      },
      "source": [
        "## Univariate analisys: numerical data"
      ]
    },
    {
      "cell_type": "code",
      "execution_count": null,
      "metadata": {
        "id": "CXjIUjHz9KR2",
        "outputId": "a866d874-f352-4605-d262-eb1b713e3b25"
      },
      "outputs": [
        {
          "name": "stdout",
          "output_type": "stream",
          "text": [
            "16\n"
          ]
        }
      ],
      "source": [
        "print(len(df.columns))"
      ]
    },
    {
      "cell_type": "code",
      "execution_count": null,
      "metadata": {
        "scrolled": true,
        "id": "OhRf7CUM9KR3",
        "outputId": "9d4dd276-96cc-4e93-dc2f-37605f5b5315"
      },
      "outputs": [
        {
          "data": {
            "text/html": [
              "<div>\n",
              "<style scoped>\n",
              "    .dataframe tbody tr th:only-of-type {\n",
              "        vertical-align: middle;\n",
              "    }\n",
              "\n",
              "    .dataframe tbody tr th {\n",
              "        vertical-align: top;\n",
              "    }\n",
              "\n",
              "    .dataframe thead th {\n",
              "        text-align: right;\n",
              "    }\n",
              "</style>\n",
              "<table border=\"1\" class=\"dataframe\">\n",
              "  <thead>\n",
              "    <tr style=\"text-align: right;\">\n",
              "      <th></th>\n",
              "      <th>BR</th>\n",
              "      <th>WL</th>\n",
              "      <th>MAV</th>\n",
              "      <th>MV</th>\n",
              "      <th>STD</th>\n",
              "      <th>RMSE</th>\n",
              "      <th>Max</th>\n",
              "      <th>Min</th>\n",
              "      <th>VAR</th>\n",
              "      <th>SEN</th>\n",
              "      <th>MDF</th>\n",
              "      <th>MNF</th>\n",
              "      <th>Max_p</th>\n",
              "      <th>Min_p</th>\n",
              "    </tr>\n",
              "  </thead>\n",
              "  <tbody>\n",
              "    <tr>\n",
              "      <th>0</th>\n",
              "      <td>0.240080</td>\n",
              "      <td>-49.489306</td>\n",
              "      <td>0.016496</td>\n",
              "      <td>-0.016496</td>\n",
              "      <td>0.828765</td>\n",
              "      <td>0.024225</td>\n",
              "      <td>2.856031</td>\n",
              "      <td>-2.129246</td>\n",
              "      <td>-0.016502</td>\n",
              "      <td>10121.076678</td>\n",
              "      <td>50.301781</td>\n",
              "      <td>46.663023</td>\n",
              "      <td>711.235976</td>\n",
              "      <td>2.753353e-14</td>\n",
              "    </tr>\n",
              "    <tr>\n",
              "      <th>1</th>\n",
              "      <td>0.220073</td>\n",
              "      <td>0.478272</td>\n",
              "      <td>0.000159</td>\n",
              "      <td>0.000159</td>\n",
              "      <td>0.507935</td>\n",
              "      <td>0.012104</td>\n",
              "      <td>1.034132</td>\n",
              "      <td>-1.496247</td>\n",
              "      <td>0.000160</td>\n",
              "      <td>34.109931</td>\n",
              "      <td>2.920185</td>\n",
              "      <td>18.695023</td>\n",
              "      <td>439.457656</td>\n",
              "      <td>4.096723e-14</td>\n",
              "    </tr>\n",
              "    <tr>\n",
              "      <th>2</th>\n",
              "      <td>0.220073</td>\n",
              "      <td>16.022720</td>\n",
              "      <td>0.005343</td>\n",
              "      <td>0.005343</td>\n",
              "      <td>0.531967</td>\n",
              "      <td>0.012163</td>\n",
              "      <td>0.933654</td>\n",
              "      <td>-1.088899</td>\n",
              "      <td>0.005344</td>\n",
              "      <td>1189.987977</td>\n",
              "      <td>17.248101</td>\n",
              "      <td>40.609365</td>\n",
              "      <td>860.553796</td>\n",
              "      <td>1.476597e-14</td>\n",
              "    </tr>\n",
              "    <tr>\n",
              "      <th>3</th>\n",
              "      <td>0.260087</td>\n",
              "      <td>-72.349807</td>\n",
              "      <td>0.024117</td>\n",
              "      <td>-0.024117</td>\n",
              "      <td>0.618624</td>\n",
              "      <td>0.017500</td>\n",
              "      <td>1.620029</td>\n",
              "      <td>-1.553317</td>\n",
              "      <td>-0.024125</td>\n",
              "      <td>19177.751270</td>\n",
              "      <td>69.241879</td>\n",
              "      <td>39.344414</td>\n",
              "      <td>526.384057</td>\n",
              "      <td>3.186340e-14</td>\n",
              "    </tr>\n",
              "    <tr>\n",
              "      <th>4</th>\n",
              "      <td>0.260087</td>\n",
              "      <td>4.426925</td>\n",
              "      <td>0.001476</td>\n",
              "      <td>0.001476</td>\n",
              "      <td>0.415343</td>\n",
              "      <td>0.011135</td>\n",
              "      <td>0.848615</td>\n",
              "      <td>-0.834289</td>\n",
              "      <td>0.001477</td>\n",
              "      <td>15.765618</td>\n",
              "      <td>1.985297</td>\n",
              "      <td>96.913984</td>\n",
              "      <td>583.295626</td>\n",
              "      <td>1.665335e-16</td>\n",
              "    </tr>\n",
              "  </tbody>\n",
              "</table>\n",
              "</div>"
            ],
            "text/plain": [
              "         BR         WL       MAV        MV       STD      RMSE       Max  \\\n",
              "0  0.240080 -49.489306  0.016496 -0.016496  0.828765  0.024225  2.856031   \n",
              "1  0.220073   0.478272  0.000159  0.000159  0.507935  0.012104  1.034132   \n",
              "2  0.220073  16.022720  0.005343  0.005343  0.531967  0.012163  0.933654   \n",
              "3  0.260087 -72.349807  0.024117 -0.024117  0.618624  0.017500  1.620029   \n",
              "4  0.260087   4.426925  0.001476  0.001476  0.415343  0.011135  0.848615   \n",
              "\n",
              "        Min       VAR           SEN        MDF        MNF       Max_p  \\\n",
              "0 -2.129246 -0.016502  10121.076678  50.301781  46.663023  711.235976   \n",
              "1 -1.496247  0.000160     34.109931   2.920185  18.695023  439.457656   \n",
              "2 -1.088899  0.005344   1189.987977  17.248101  40.609365  860.553796   \n",
              "3 -1.553317 -0.024125  19177.751270  69.241879  39.344414  526.384057   \n",
              "4 -0.834289  0.001477     15.765618   1.985297  96.913984  583.295626   \n",
              "\n",
              "          Min_p  \n",
              "0  2.753353e-14  \n",
              "1  4.096723e-14  \n",
              "2  1.476597e-14  \n",
              "3  3.186340e-14  \n",
              "4  1.665335e-16  "
            ]
          },
          "execution_count": 146,
          "metadata": {},
          "output_type": "execute_result"
        }
      ],
      "source": [
        "# Split categorical and numerical variables\n",
        "df_num=df.iloc[:,0:(len(df.columns)-2)]\n",
        "\n",
        "\n",
        "\n",
        "df_num.head()\n"
      ]
    },
    {
      "cell_type": "code",
      "execution_count": null,
      "metadata": {
        "id": "YqrblFs09KR4",
        "outputId": "7332fff2-fb9e-4f55-c2a9-f7c3b26f9439"
      },
      "outputs": [
        {
          "data": {
            "text/html": [
              "<div>\n",
              "<style scoped>\n",
              "    .dataframe tbody tr th:only-of-type {\n",
              "        vertical-align: middle;\n",
              "    }\n",
              "\n",
              "    .dataframe tbody tr th {\n",
              "        vertical-align: top;\n",
              "    }\n",
              "\n",
              "    .dataframe thead th {\n",
              "        text-align: right;\n",
              "    }\n",
              "</style>\n",
              "<table border=\"1\" class=\"dataframe\">\n",
              "  <thead>\n",
              "    <tr style=\"text-align: right;\">\n",
              "      <th></th>\n",
              "      <th>BR</th>\n",
              "      <th>WL</th>\n",
              "      <th>MAV</th>\n",
              "      <th>MV</th>\n",
              "      <th>STD</th>\n",
              "      <th>RMSE</th>\n",
              "      <th>Max</th>\n",
              "      <th>Min</th>\n",
              "      <th>VAR</th>\n",
              "      <th>SEN</th>\n",
              "      <th>MDF</th>\n",
              "      <th>MNF</th>\n",
              "      <th>Max_p</th>\n",
              "      <th>Min_p</th>\n",
              "    </tr>\n",
              "  </thead>\n",
              "  <tbody>\n",
              "    <tr>\n",
              "      <th>0</th>\n",
              "      <td>0.240080</td>\n",
              "      <td>-49.489306</td>\n",
              "      <td>0.016496</td>\n",
              "      <td>-0.016496</td>\n",
              "      <td>0.828765</td>\n",
              "      <td>0.024225</td>\n",
              "      <td>2.856031</td>\n",
              "      <td>-2.129246</td>\n",
              "      <td>-0.016502</td>\n",
              "      <td>10121.076678</td>\n",
              "      <td>50.301781</td>\n",
              "      <td>46.663023</td>\n",
              "      <td>711.235976</td>\n",
              "      <td>2.753353e-14</td>\n",
              "    </tr>\n",
              "    <tr>\n",
              "      <th>1</th>\n",
              "      <td>0.220073</td>\n",
              "      <td>0.478272</td>\n",
              "      <td>0.000159</td>\n",
              "      <td>0.000159</td>\n",
              "      <td>0.507935</td>\n",
              "      <td>0.012104</td>\n",
              "      <td>1.034132</td>\n",
              "      <td>-1.496247</td>\n",
              "      <td>0.000160</td>\n",
              "      <td>34.109931</td>\n",
              "      <td>2.920185</td>\n",
              "      <td>18.695023</td>\n",
              "      <td>439.457656</td>\n",
              "      <td>4.096723e-14</td>\n",
              "    </tr>\n",
              "    <tr>\n",
              "      <th>2</th>\n",
              "      <td>0.220073</td>\n",
              "      <td>16.022720</td>\n",
              "      <td>0.005343</td>\n",
              "      <td>0.005343</td>\n",
              "      <td>0.531967</td>\n",
              "      <td>0.012163</td>\n",
              "      <td>0.933654</td>\n",
              "      <td>-1.088899</td>\n",
              "      <td>0.005344</td>\n",
              "      <td>1189.987977</td>\n",
              "      <td>17.248101</td>\n",
              "      <td>40.609365</td>\n",
              "      <td>860.553796</td>\n",
              "      <td>1.476597e-14</td>\n",
              "    </tr>\n",
              "    <tr>\n",
              "      <th>3</th>\n",
              "      <td>0.260087</td>\n",
              "      <td>-72.349807</td>\n",
              "      <td>0.024117</td>\n",
              "      <td>-0.024117</td>\n",
              "      <td>0.618624</td>\n",
              "      <td>0.017500</td>\n",
              "      <td>1.620029</td>\n",
              "      <td>-1.553317</td>\n",
              "      <td>-0.024125</td>\n",
              "      <td>19177.751270</td>\n",
              "      <td>69.241879</td>\n",
              "      <td>39.344414</td>\n",
              "      <td>526.384057</td>\n",
              "      <td>3.186340e-14</td>\n",
              "    </tr>\n",
              "    <tr>\n",
              "      <th>4</th>\n",
              "      <td>0.260087</td>\n",
              "      <td>4.426925</td>\n",
              "      <td>0.001476</td>\n",
              "      <td>0.001476</td>\n",
              "      <td>0.415343</td>\n",
              "      <td>0.011135</td>\n",
              "      <td>0.848615</td>\n",
              "      <td>-0.834289</td>\n",
              "      <td>0.001477</td>\n",
              "      <td>15.765618</td>\n",
              "      <td>1.985297</td>\n",
              "      <td>96.913984</td>\n",
              "      <td>583.295626</td>\n",
              "      <td>1.665335e-16</td>\n",
              "    </tr>\n",
              "    <tr>\n",
              "      <th>...</th>\n",
              "      <td>...</td>\n",
              "      <td>...</td>\n",
              "      <td>...</td>\n",
              "      <td>...</td>\n",
              "      <td>...</td>\n",
              "      <td>...</td>\n",
              "      <td>...</td>\n",
              "      <td>...</td>\n",
              "      <td>...</td>\n",
              "      <td>...</td>\n",
              "      <td>...</td>\n",
              "      <td>...</td>\n",
              "      <td>...</td>\n",
              "      <td>...</td>\n",
              "    </tr>\n",
              "    <tr>\n",
              "      <th>115</th>\n",
              "      <td>0.300100</td>\n",
              "      <td>-23.945668</td>\n",
              "      <td>0.007985</td>\n",
              "      <td>-0.007985</td>\n",
              "      <td>0.277522</td>\n",
              "      <td>0.008231</td>\n",
              "      <td>1.030795</td>\n",
              "      <td>-0.963738</td>\n",
              "      <td>-0.007987</td>\n",
              "      <td>1663.695798</td>\n",
              "      <td>20.394214</td>\n",
              "      <td>36.912484</td>\n",
              "      <td>299.056282</td>\n",
              "      <td>1.565414e-14</td>\n",
              "    </tr>\n",
              "    <tr>\n",
              "      <th>116</th>\n",
              "      <td>0.260087</td>\n",
              "      <td>9.330342</td>\n",
              "      <td>0.003111</td>\n",
              "      <td>0.003111</td>\n",
              "      <td>0.210104</td>\n",
              "      <td>0.006094</td>\n",
              "      <td>0.563488</td>\n",
              "      <td>-0.757839</td>\n",
              "      <td>0.003112</td>\n",
              "      <td>334.496317</td>\n",
              "      <td>9.144620</td>\n",
              "      <td>45.463654</td>\n",
              "      <td>210.754927</td>\n",
              "      <td>8.326673e-15</td>\n",
              "    </tr>\n",
              "    <tr>\n",
              "      <th>117</th>\n",
              "      <td>0.060020</td>\n",
              "      <td>5.913591</td>\n",
              "      <td>0.001971</td>\n",
              "      <td>0.001971</td>\n",
              "      <td>0.331902</td>\n",
              "      <td>0.007434</td>\n",
              "      <td>0.783421</td>\n",
              "      <td>-0.908550</td>\n",
              "      <td>0.001972</td>\n",
              "      <td>171.517668</td>\n",
              "      <td>6.548238</td>\n",
              "      <td>62.681782</td>\n",
              "      <td>373.320709</td>\n",
              "      <td>3.477774e-14</td>\n",
              "    </tr>\n",
              "    <tr>\n",
              "      <th>118</th>\n",
              "      <td>0.100033</td>\n",
              "      <td>-2.784492</td>\n",
              "      <td>0.000928</td>\n",
              "      <td>-0.000928</td>\n",
              "      <td>0.213264</td>\n",
              "      <td>0.005937</td>\n",
              "      <td>0.470299</td>\n",
              "      <td>-0.624875</td>\n",
              "      <td>-0.000929</td>\n",
              "      <td>217.126050</td>\n",
              "      <td>7.367599</td>\n",
              "      <td>74.158073</td>\n",
              "      <td>205.519786</td>\n",
              "      <td>1.801337e-14</td>\n",
              "    </tr>\n",
              "    <tr>\n",
              "      <th>119</th>\n",
              "      <td>0.280093</td>\n",
              "      <td>-1.361530</td>\n",
              "      <td>0.000454</td>\n",
              "      <td>-0.000454</td>\n",
              "      <td>0.180404</td>\n",
              "      <td>0.004941</td>\n",
              "      <td>0.487671</td>\n",
              "      <td>-0.457190</td>\n",
              "      <td>-0.000454</td>\n",
              "      <td>6.481333</td>\n",
              "      <td>1.272923</td>\n",
              "      <td>191.843629</td>\n",
              "      <td>187.621158</td>\n",
              "      <td>7.299716e-15</td>\n",
              "    </tr>\n",
              "  </tbody>\n",
              "</table>\n",
              "<p>120 rows × 14 columns</p>\n",
              "</div>"
            ],
            "text/plain": [
              "           BR         WL       MAV        MV       STD      RMSE       Max  \\\n",
              "0    0.240080 -49.489306  0.016496 -0.016496  0.828765  0.024225  2.856031   \n",
              "1    0.220073   0.478272  0.000159  0.000159  0.507935  0.012104  1.034132   \n",
              "2    0.220073  16.022720  0.005343  0.005343  0.531967  0.012163  0.933654   \n",
              "3    0.260087 -72.349807  0.024117 -0.024117  0.618624  0.017500  1.620029   \n",
              "4    0.260087   4.426925  0.001476  0.001476  0.415343  0.011135  0.848615   \n",
              "..        ...        ...       ...       ...       ...       ...       ...   \n",
              "115  0.300100 -23.945668  0.007985 -0.007985  0.277522  0.008231  1.030795   \n",
              "116  0.260087   9.330342  0.003111  0.003111  0.210104  0.006094  0.563488   \n",
              "117  0.060020   5.913591  0.001971  0.001971  0.331902  0.007434  0.783421   \n",
              "118  0.100033  -2.784492  0.000928 -0.000928  0.213264  0.005937  0.470299   \n",
              "119  0.280093  -1.361530  0.000454 -0.000454  0.180404  0.004941  0.487671   \n",
              "\n",
              "          Min       VAR           SEN        MDF         MNF       Max_p  \\\n",
              "0   -2.129246 -0.016502  10121.076678  50.301781   46.663023  711.235976   \n",
              "1   -1.496247  0.000160     34.109931   2.920185   18.695023  439.457656   \n",
              "2   -1.088899  0.005344   1189.987977  17.248101   40.609365  860.553796   \n",
              "3   -1.553317 -0.024125  19177.751270  69.241879   39.344414  526.384057   \n",
              "4   -0.834289  0.001477     15.765618   1.985297   96.913984  583.295626   \n",
              "..        ...       ...           ...        ...         ...         ...   \n",
              "115 -0.963738 -0.007987   1663.695798  20.394214   36.912484  299.056282   \n",
              "116 -0.757839  0.003112    334.496317   9.144620   45.463654  210.754927   \n",
              "117 -0.908550  0.001972    171.517668   6.548238   62.681782  373.320709   \n",
              "118 -0.624875 -0.000929    217.126050   7.367599   74.158073  205.519786   \n",
              "119 -0.457190 -0.000454      6.481333   1.272923  191.843629  187.621158   \n",
              "\n",
              "            Min_p  \n",
              "0    2.753353e-14  \n",
              "1    4.096723e-14  \n",
              "2    1.476597e-14  \n",
              "3    3.186340e-14  \n",
              "4    1.665335e-16  \n",
              "..            ...  \n",
              "115  1.565414e-14  \n",
              "116  8.326673e-15  \n",
              "117  3.477774e-14  \n",
              "118  1.801337e-14  \n",
              "119  7.299716e-15  \n",
              "\n",
              "[120 rows x 14 columns]"
            ]
          },
          "execution_count": 147,
          "metadata": {},
          "output_type": "execute_result"
        }
      ],
      "source": [
        "df_num"
      ]
    },
    {
      "cell_type": "markdown",
      "metadata": {
        "id": "93N1G4Xh9KR5"
      },
      "source": [
        "Outlier correction: removing the 25% and 75% quartile of the distribution (when the distribution is Gaussian)"
      ]
    },
    {
      "cell_type": "code",
      "execution_count": null,
      "metadata": {
        "id": "KgZ0XDe79KR5",
        "outputId": "41a3d10f-3b4a-4423-ddef-65567fa56953"
      },
      "outputs": [
        {
          "data": {
            "text/plain": [
              "array([[<AxesSubplot:title={'center':'BR'}>,\n",
              "        <AxesSubplot:title={'center':'WL'}>,\n",
              "        <AxesSubplot:title={'center':'MAV'}>,\n",
              "        <AxesSubplot:title={'center':'MV'}>],\n",
              "       [<AxesSubplot:title={'center':'STD'}>,\n",
              "        <AxesSubplot:title={'center':'RMSE'}>,\n",
              "        <AxesSubplot:title={'center':'Max'}>,\n",
              "        <AxesSubplot:title={'center':'Min'}>],\n",
              "       [<AxesSubplot:title={'center':'VAR'}>,\n",
              "        <AxesSubplot:title={'center':'SEN'}>,\n",
              "        <AxesSubplot:title={'center':'MDF'}>,\n",
              "        <AxesSubplot:title={'center':'MNF'}>],\n",
              "       [<AxesSubplot:title={'center':'Max_p'}>,\n",
              "        <AxesSubplot:title={'center':'Min_p'}>, <AxesSubplot:>,\n",
              "        <AxesSubplot:>]], dtype=object)"
            ]
          },
          "execution_count": 148,
          "metadata": {},
          "output_type": "execute_result"
        },
        {
          "data": {
            "image/png": "[encoded data removed]",
            "text/plain": [
              "<Figure size 720x720 with 16 Axes>"
            ]
          },
          "metadata": {
            "needs_background": "light"
          },
          "output_type": "display_data"
        }
      ],
      "source": [
        "df_num.hist(figsize=(10,10), bins=30)"
      ]
    },
    {
      "cell_type": "code",
      "execution_count": null,
      "metadata": {
        "id": "HGS9vVHl9KR6",
        "outputId": "1ee33168-cc2a-4ddd-8e87-5e7eeab458e5"
      },
      "outputs": [
        {
          "data": {
            "text/plain": [
              "<AxesSubplot:xlabel='WL'>"
            ]
          },
          "execution_count": 149,
          "metadata": {},
          "output_type": "execute_result"
        },
        {
          "data": {
            "image/png": "[encoded data removed]",
            "text/plain": [
              "<Figure size 432x288 with 1 Axes>"
            ]
          },
          "metadata": {
            "needs_background": "light"
          },
          "output_type": "display_data"
        }
      ],
      "source": [
        "for x in ['WL']:\n",
        "    q75,q25 = np.percentile(df_num.loc[:,x],[75,25])\n",
        "    intr_qr = q75-q25\n",
        " \n",
        "    max = q75+(1.5*intr_qr)\n",
        "    min = q25-(1.5*intr_qr)\n",
        " \n",
        "    df_num.loc[df_num[x] < min,x] = np.nan\n",
        "    df_num.loc[df_num[x] > max,x] = np.nan\n",
        "sns.boxplot(x=df_num['WL'])"
      ]
    },
    {
      "cell_type": "code",
      "execution_count": null,
      "metadata": {
        "id": "0xyTdamh9KR7",
        "outputId": "65ab1a2c-bb74-41ed-cb6f-a756b04fef42"
      },
      "outputs": [
        {
          "data": {
            "text/plain": [
              "<AxesSubplot:xlabel='Max_p'>"
            ]
          },
          "execution_count": 150,
          "metadata": {},
          "output_type": "execute_result"
        },
        {
          "data": {
            "image/png": "[encoded data removed]",
            "text/plain": [
              "<Figure size 432x288 with 1 Axes>"
            ]
          },
          "metadata": {
            "needs_background": "light"
          },
          "output_type": "display_data"
        }
      ],
      "source": [
        "for x in ['Max_p']:\n",
        "    q75,q25 = np.percentile(df_num.loc[:,x],[75,25])\n",
        "    intr_qr = q75-q25\n",
        " \n",
        "    max = q75+(1.5*intr_qr)\n",
        "    min = q25-(1.5*intr_qr)\n",
        " \n",
        "    df_num.loc[df_num[x] < min,x] = np.nan\n",
        "    df_num.loc[df_num[x] > max,x] = np.nan\n",
        "\n",
        "sns.boxplot(x=df_num['Max_p'])"
      ]
    },
    {
      "cell_type": "code",
      "execution_count": null,
      "metadata": {
        "id": "11m7Hh2a9KR7",
        "outputId": "a3650d42-a102-4225-9f8c-6540be838f97"
      },
      "outputs": [
        {
          "data": {
            "text/plain": [
              "<AxesSubplot:xlabel='BR'>"
            ]
          },
          "execution_count": 151,
          "metadata": {},
          "output_type": "execute_result"
        },
        {
          "data": {
            "image/png": "[encoded data removed]",
            "text/plain": [
              "<Figure size 432x288 with 1 Axes>"
            ]
          },
          "metadata": {
            "needs_background": "light"
          },
          "output_type": "display_data"
        }
      ],
      "source": [
        "for x in ['BR']:\n",
        "    q75,q25 = np.percentile(df_num.loc[:,x],[75,25])\n",
        "    intr_qr = q75-q25\n",
        " \n",
        "    max = q75+(1.5*intr_qr)\n",
        "    min = q25-(1.5*intr_qr)\n",
        " \n",
        "    df_num.loc[df_num[x] < min,x] = np.nan\n",
        "    df_num.loc[df_num[x] > max,x] = np.nan\n",
        "\n",
        "sns.boxplot(x=df_num['BR'])"
      ]
    },
    {
      "cell_type": "code",
      "execution_count": null,
      "metadata": {
        "id": "bg8OiYU59KR8",
        "outputId": "6b983236-410c-4e4b-d263-fb3c8f73c7ef"
      },
      "outputs": [
        {
          "data": {
            "text/plain": [
              "<AxesSubplot:xlabel='MV'>"
            ]
          },
          "execution_count": 152,
          "metadata": {},
          "output_type": "execute_result"
        },
        {
          "data": {
            "image/png": "[encoded data removed]",
            "text/plain": [
              "<Figure size 432x288 with 1 Axes>"
            ]
          },
          "metadata": {
            "needs_background": "light"
          },
          "output_type": "display_data"
        }
      ],
      "source": [
        "for x in ['MV']:\n",
        "    q75,q25 = np.percentile(df_num.loc[:,x],[75,25])\n",
        "    intr_qr = q75-q25\n",
        " \n",
        "    max = q75+(1.5*intr_qr)\n",
        "    min = q25-(1.5*intr_qr)\n",
        " \n",
        "    df_num.loc[df_num[x] < min,x] = np.nan\n",
        "    df_num.loc[df_num[x] > max,x] = np.nan\n",
        "\n",
        "sns.boxplot(x=df_num['MV'])"
      ]
    },
    {
      "cell_type": "code",
      "execution_count": null,
      "metadata": {
        "id": "EJcSSHH_9KR-",
        "outputId": "204fc9e1-32d0-4462-a402-ea59070226c4"
      },
      "outputs": [
        {
          "data": {
            "text/plain": [
              "<AxesSubplot:xlabel='VAR'>"
            ]
          },
          "execution_count": 153,
          "metadata": {},
          "output_type": "execute_result"
        },
        {
          "data": {
            "image/png": "[encoded data removed]",
            "text/plain": [
              "<Figure size 432x288 with 1 Axes>"
            ]
          },
          "metadata": {
            "needs_background": "light"
          },
          "output_type": "display_data"
        }
      ],
      "source": [
        "for x in ['VAR']:\n",
        "    q75,q25 = np.percentile(df_num.loc[:,x],[75,25])\n",
        "    intr_qr = q75-q25\n",
        " \n",
        "    max = q75+(1.5*intr_qr)\n",
        "    min = q25-(1.5*intr_qr)\n",
        " \n",
        "    df_num.loc[df_num[x] < min,x] = np.nan\n",
        "    df_num.loc[df_num[x] > max,x] = np.nan\n",
        "\n",
        "sns.boxplot(x=df_num['VAR'])"
      ]
    },
    {
      "cell_type": "code",
      "execution_count": null,
      "metadata": {
        "id": "jCwFiYOG9KR_",
        "outputId": "ee452f46-49ae-4362-f395-6ba0bf419a7a"
      },
      "outputs": [
        {
          "data": {
            "text/plain": [
              "array([[<AxesSubplot:title={'center':'BR'}>]], dtype=object)"
            ]
          },
          "execution_count": 154,
          "metadata": {},
          "output_type": "execute_result"
        },
        {
          "data": {
            "image/png": "[encoded data removed]",
            "text/plain": [
              "<Figure size 432x288 with 1 Axes>"
            ]
          },
          "metadata": {
            "needs_background": "light"
          },
          "output_type": "display_data"
        }
      ],
      "source": [
        "df_num.hist(column=\"BR\")"
      ]
    },
    {
      "cell_type": "code",
      "execution_count": null,
      "metadata": {
        "id": "PrO8kurp9KR_",
        "outputId": "cc8e2803-e83b-49c7-f64d-5c71e4726e66"
      },
      "outputs": [
        {
          "data": {
            "text/plain": [
              "array([[<AxesSubplot:title={'center':'SEN'}>]], dtype=object)"
            ]
          },
          "execution_count": 155,
          "metadata": {},
          "output_type": "execute_result"
        },
        {
          "data": {
            "image/png": "[encoded data removed]",
            "text/plain": [
              "<Figure size 432x288 with 1 Axes>"
            ]
          },
          "metadata": {
            "needs_background": "light"
          },
          "output_type": "display_data"
        }
      ],
      "source": [
        "df_num['SEN']=np.log10(df_num[\"SEN\"])\n",
        "\n",
        "\n",
        "for x in ['SEN']:\n",
        "    q75,q25 = np.percentile(df_num.loc[:,x],[75,25])\n",
        "    intr_qr = q75-q25\n",
        " \n",
        "    max = q75+(1.5*intr_qr)\n",
        "    min = q25-(1.5*intr_qr)\n",
        " \n",
        "    df_num.loc[df_num[x] < min,x] = np.nan\n",
        "    df_num.loc[df_num[x] > max,x] = np.nan\n",
        "\n",
        "df_num.hist(column=\"SEN\")"
      ]
    },
    {
      "cell_type": "code",
      "execution_count": null,
      "metadata": {
        "id": "TgqgDaT99KSA",
        "outputId": "c014519d-6c8b-4c9b-b3f4-767324d8b5df"
      },
      "outputs": [
        {
          "data": {
            "text/plain": [
              "array([[<AxesSubplot:title={'center':'MNF'}>]], dtype=object)"
            ]
          },
          "execution_count": 156,
          "metadata": {},
          "output_type": "execute_result"
        },
        {
          "data": {
            "image/png": "[encoded data removed]",
            "text/plain": [
              "<Figure size 432x288 with 1 Axes>"
            ]
          },
          "metadata": {
            "needs_background": "light"
          },
          "output_type": "display_data"
        }
      ],
      "source": [
        "df_num['MNF']=np.log10(df_num[\"MNF\"])\n",
        "\n",
        "\n",
        "for x in ['MNF']:\n",
        "    q75,q25 = np.percentile(df_num.loc[:,x],[75,25])\n",
        "    intr_qr = q75-q25\n",
        " \n",
        "    max = q75+(1.5*intr_qr)\n",
        "    min = q25-(1.5*intr_qr)\n",
        " \n",
        "    df_num.loc[df_num[x] < min,x] = np.nan\n",
        "    df_num.loc[df_num[x] > max,x] = np.nan\n",
        "\n",
        "df_num.hist(column=\"MNF\")"
      ]
    },
    {
      "cell_type": "code",
      "execution_count": null,
      "metadata": {
        "id": "AY-LjZg09KSA",
        "outputId": "6777a91e-b4fd-408a-b090-5fabb7dee52e"
      },
      "outputs": [
        {
          "data": {
            "text/plain": [
              "array([[<AxesSubplot:title={'center':'MDF'}>]], dtype=object)"
            ]
          },
          "execution_count": 157,
          "metadata": {},
          "output_type": "execute_result"
        },
        {
          "data": {
            "image/png": "[encoded data removed]",
            "text/plain": [
              "<Figure size 432x288 with 1 Axes>"
            ]
          },
          "metadata": {
            "needs_background": "light"
          },
          "output_type": "display_data"
        }
      ],
      "source": [
        "\n",
        "\n",
        "\n",
        "for x in ['MDF']:\n",
        "    q75,q25 = np.percentile(df_num.loc[:,x],[75,25])\n",
        "    intr_qr = q75-q25\n",
        " \n",
        "    max = q75+(1.5*intr_qr)\n",
        "    min = q25-(1.5*intr_qr)\n",
        " \n",
        "    df_num.loc[df_num[x] < min,x] = np.nan\n",
        "    df_num.loc[df_num[x] > max,x] = np.nan\n",
        "\n",
        "df_num.hist(column=\"MDF\")"
      ]
    },
    {
      "cell_type": "code",
      "execution_count": null,
      "metadata": {
        "id": "7sJ1eOBZ9KSB"
      },
      "outputs": [],
      "source": [
        ""
      ]
    },
    {
      "cell_type": "code",
      "execution_count": null,
      "metadata": {
        "id": "KXiNEc5l9KSB",
        "outputId": "bcbfa0db-0478-4d2f-b594-57eb1435a988"
      },
      "outputs": [
        {
          "data": {
            "text/plain": [
              "<AxesSubplot:xlabel='MDF'>"
            ]
          },
          "execution_count": 158,
          "metadata": {},
          "output_type": "execute_result"
        },
        {
          "data": {
            "image/png": "[encoded data removed]",
            "text/plain": [
              "<Figure size 432x288 with 1 Axes>"
            ]
          },
          "metadata": {
            "needs_background": "light"
          },
          "output_type": "display_data"
        }
      ],
      "source": [
        "sns.boxplot(x=df_num['MDF'])"
      ]
    },
    {
      "cell_type": "code",
      "execution_count": null,
      "metadata": {
        "id": "g3aHdbMR9KSB",
        "outputId": "fbd2d78a-3d8c-467f-dec4-bd2e7a39325f"
      },
      "outputs": [
        {
          "name": "stderr",
          "output_type": "stream",
          "text": [
            "c:\\Users\\Laura\\AppData\\Local\\Programs\\Python\\Python310\\lib\\site-packages\\pandas\\core\\arraylike.py:397: RuntimeWarning: divide by zero encountered in log10\n",
            "  result = getattr(ufunc, method)(*inputs, **kwargs)\n"
          ]
        },
        {
          "data": {
            "text/plain": [
              "array([[<AxesSubplot:title={'center':'Min_p'}>]], dtype=object)"
            ]
          },
          "execution_count": 159,
          "metadata": {},
          "output_type": "execute_result"
        },
        {
          "data": {
            "image/png": "[encoded data removed]",
            "text/plain": [
              "<Figure size 432x288 with 1 Axes>"
            ]
          },
          "metadata": {
            "needs_background": "light"
          },
          "output_type": "display_data"
        }
      ],
      "source": [
        "df_num['Min_p']=np.log10(df_num[\"Min_p\"])\n",
        "\n",
        "\n",
        "for x in ['Min_p']:\n",
        "    q75,q25 = np.percentile(df_num.loc[:,x],[75,25])\n",
        "    intr_qr = q75-q25\n",
        " \n",
        "    max = q75+(1.5*intr_qr)\n",
        "    min = q25-(1.5*intr_qr)\n",
        " \n",
        "    df_num.loc[df_num[x] < min,x] = np.nan\n",
        "    df_num.loc[df_num[x] > max,x] = np.nan\n",
        "\n",
        "df_num.hist(column=\"Min_p\")"
      ]
    },
    {
      "cell_type": "code",
      "execution_count": null,
      "metadata": {
        "id": "MkFhpMM39KSC",
        "outputId": "7876f462-53ec-4e98-b52b-6bfc41b8b747"
      },
      "outputs": [
        {
          "data": {
            "text/plain": [
              "array([[<AxesSubplot:title={'center':'BR'}>,\n",
              "        <AxesSubplot:title={'center':'WL'}>,\n",
              "        <AxesSubplot:title={'center':'MAV'}>,\n",
              "        <AxesSubplot:title={'center':'MV'}>],\n",
              "       [<AxesSubplot:title={'center':'STD'}>,\n",
              "        <AxesSubplot:title={'center':'RMSE'}>,\n",
              "        <AxesSubplot:title={'center':'Max'}>,\n",
              "        <AxesSubplot:title={'center':'Min'}>],\n",
              "       [<AxesSubplot:title={'center':'VAR'}>,\n",
              "        <AxesSubplot:title={'center':'SEN'}>,\n",
              "        <AxesSubplot:title={'center':'MDF'}>,\n",
              "        <AxesSubplot:title={'center':'MNF'}>],\n",
              "       [<AxesSubplot:title={'center':'Max_p'}>,\n",
              "        <AxesSubplot:title={'center':'Min_p'}>, <AxesSubplot:>,\n",
              "        <AxesSubplot:>]], dtype=object)"
            ]
          },
          "execution_count": 160,
          "metadata": {},
          "output_type": "execute_result"
        },
        {
          "data": {
            "image/png": "[encoded data removed]",
            "text/plain": [
              "<Figure size 720x720 with 16 Axes>"
            ]
          },
          "metadata": {
            "needs_background": "light"
          },
          "output_type": "display_data"
        }
      ],
      "source": [
        "\n",
        "\n",
        "df_num.hist(figsize=(10,10), bins=30)"
      ]
    },
    {
      "cell_type": "code",
      "execution_count": null,
      "metadata": {
        "id": "KTMpZWoO9KSC",
        "outputId": "e7339f6b-02a3-4c45-f363-ae959d43970d"
      },
      "outputs": [
        {
          "data": {
            "text/plain": [
              "<AxesSubplot:xlabel='MDF'>"
            ]
          },
          "execution_count": 161,
          "metadata": {},
          "output_type": "execute_result"
        },
        {
          "data": {
            "image/png": "[encoded data removed]",
            "text/plain": [
              "<Figure size 432x288 with 1 Axes>"
            ]
          },
          "metadata": {
            "needs_background": "light"
          },
          "output_type": "display_data"
        }
      ],
      "source": [
        "sns.boxplot(x=df_num['MDF'])"
      ]
    },
    {
      "cell_type": "code",
      "execution_count": null,
      "metadata": {
        "id": "X6oYgJYF9KSD",
        "outputId": "9b663764-32bf-459c-dedd-ae1e79310074"
      },
      "outputs": [
        {
          "data": {
            "text/plain": [
              "<bound method NDFrame.head of            BR         WL       MAV        MV       STD      RMSE       Max  \\\n",
              "0    0.240080        NaN  0.016496       NaN  0.828765  0.024225  2.856031   \n",
              "1    0.220073   0.478272  0.000159  0.000159  0.507935  0.012104  1.034132   \n",
              "2    0.220073  16.022720  0.005343  0.005343  0.531967  0.012163  0.933654   \n",
              "3    0.260087        NaN  0.024117       NaN  0.618624  0.017500  1.620029   \n",
              "4    0.260087   4.426925  0.001476  0.001476  0.415343  0.011135  0.848615   \n",
              "..        ...        ...       ...       ...       ...       ...       ...   \n",
              "115  0.300100 -23.945668  0.007985 -0.007985  0.277522  0.008231  1.030795   \n",
              "116  0.260087   9.330342  0.003111  0.003111  0.210104  0.006094  0.563488   \n",
              "117  0.060020   5.913591  0.001971  0.001971  0.331902  0.007434  0.783421   \n",
              "118  0.100033  -2.784492  0.000928 -0.000928  0.213264  0.005937  0.470299   \n",
              "119  0.280093  -1.361530  0.000454 -0.000454  0.180404  0.004941  0.487671   \n",
              "\n",
              "          Min       VAR       SEN        MDF       MNF       Max_p      Min_p  \n",
              "0   -2.129246       NaN  4.005227  50.301781  1.668973  711.235976 -13.560138  \n",
              "1   -1.496247  0.000160  1.532881   2.920185       NaN  439.457656 -13.387563  \n",
              "2   -1.088899  0.005344  3.075543  17.248101  1.608626  860.553796 -13.830738  \n",
              "3   -1.553317       NaN  4.282798        NaN  1.594883  526.384057 -13.496708  \n",
              "4   -0.834289  0.001477  1.197711   1.985297       NaN  583.295626        NaN  \n",
              "..        ...       ...       ...        ...       ...         ...        ...  \n",
              "115 -0.963738 -0.007987  3.221074  20.394214  1.567173  299.056282 -13.805371  \n",
              "116 -0.757839  0.003112  2.524391   9.144620  1.657664  210.754927 -14.079529  \n",
              "117 -0.908550  0.001972  2.234309   6.548238  1.797141  373.320709 -13.458699  \n",
              "118 -0.624875 -0.000929  2.336712   7.367599  1.870158  205.519786 -13.744405  \n",
              "119 -0.457190 -0.000454  0.811664   1.272923       NaN  187.621158 -14.136694  \n",
              "\n",
              "[120 rows x 14 columns]>"
            ]
          },
          "execution_count": 162,
          "metadata": {},
          "output_type": "execute_result"
        }
      ],
      "source": [
        "df_num.head"
      ]
    },
    {
      "cell_type": "code",
      "execution_count": null,
      "metadata": {
        "id": "eyjJKOAI9KSD",
        "outputId": "4346c17e-8989-4a9c-d958-750e584601ce"
      },
      "outputs": [
        {
          "data": {
            "image/png": "[encoded data removed]",
            "text/plain": [
              "<Figure size 720x720 with 2 Axes>"
            ]
          },
          "metadata": {
            "needs_background": "light"
          },
          "output_type": "display_data"
        }
      ],
      "source": [
        "import matplotlib.pyplot as plt\n",
        "import seaborn as sns\n",
        "%matplotlib inline\n",
        "\n",
        "#plot to visualize the correlations in the matrix\n",
        "\n",
        "plt.figure(figsize = (10,10))\n",
        "sns.heatmap(data=df_num.corr().round(2), cmap='coolwarm', linewidths=.5, annot=True, annot_kws={\"size\":12})\n",
        "plt.show()"
      ]
    },
    {
      "cell_type": "code",
      "execution_count": null,
      "metadata": {
        "id": "E6onrevC9KSD"
      },
      "outputs": [],
      "source": [
        "df_num=df_num.drop(['MDF','STD','Max_p'],axis=1)"
      ]
    },
    {
      "cell_type": "code",
      "execution_count": null,
      "metadata": {
        "id": "CeeSRtA89KSE"
      },
      "outputs": [],
      "source": [
        "df_num=df_num.drop(['Min','VAR','MV'],axis=1)"
      ]
    },
    {
      "cell_type": "code",
      "execution_count": null,
      "metadata": {
        "id": "u-XOONKh9KSE",
        "outputId": "0d55d081-9c3d-4062-9fe1-0b5613344176"
      },
      "outputs": [
        {
          "data": {
            "image/png": "[encoded data removed]",
            "text/plain": [
              "<Figure size 720x720 with 2 Axes>"
            ]
          },
          "metadata": {
            "needs_background": "light"
          },
          "output_type": "display_data"
        }
      ],
      "source": [
        "\n",
        "plt.figure(figsize = (10,10))\n",
        "sns.heatmap(data=df_num.corr().round(2), cmap='coolwarm', linewidths=.5, annot=True, annot_kws={\"size\":12})\n",
        "plt.show()"
      ]
    },
    {
      "cell_type": "code",
      "execution_count": null,
      "metadata": {
        "id": "61EV6aj79KSE",
        "outputId": "11270193-3ea0-4313-afca-db82b7509fa1"
      },
      "outputs": [
        {
          "data": {
            "text/html": [
              "<div>\n",
              "<style scoped>\n",
              "    .dataframe tbody tr th:only-of-type {\n",
              "        vertical-align: middle;\n",
              "    }\n",
              "\n",
              "    .dataframe tbody tr th {\n",
              "        vertical-align: top;\n",
              "    }\n",
              "\n",
              "    .dataframe thead th {\n",
              "        text-align: right;\n",
              "    }\n",
              "</style>\n",
              "<table border=\"1\" class=\"dataframe\">\n",
              "  <thead>\n",
              "    <tr style=\"text-align: right;\">\n",
              "      <th></th>\n",
              "      <th>z</th>\n",
              "    </tr>\n",
              "  </thead>\n",
              "  <tbody>\n",
              "    <tr>\n",
              "      <th>0</th>\n",
              "      <td>1</td>\n",
              "    </tr>\n",
              "    <tr>\n",
              "      <th>1</th>\n",
              "      <td>1</td>\n",
              "    </tr>\n",
              "    <tr>\n",
              "      <th>2</th>\n",
              "      <td>1</td>\n",
              "    </tr>\n",
              "    <tr>\n",
              "      <th>3</th>\n",
              "      <td>0</td>\n",
              "    </tr>\n",
              "    <tr>\n",
              "      <th>4</th>\n",
              "      <td>0</td>\n",
              "    </tr>\n",
              "    <tr>\n",
              "      <th>...</th>\n",
              "      <td>...</td>\n",
              "    </tr>\n",
              "    <tr>\n",
              "      <th>115</th>\n",
              "      <td>0</td>\n",
              "    </tr>\n",
              "    <tr>\n",
              "      <th>116</th>\n",
              "      <td>0</td>\n",
              "    </tr>\n",
              "    <tr>\n",
              "      <th>117</th>\n",
              "      <td>1</td>\n",
              "    </tr>\n",
              "    <tr>\n",
              "      <th>118</th>\n",
              "      <td>1</td>\n",
              "    </tr>\n",
              "    <tr>\n",
              "      <th>119</th>\n",
              "      <td>1</td>\n",
              "    </tr>\n",
              "  </tbody>\n",
              "</table>\n",
              "<p>120 rows × 1 columns</p>\n",
              "</div>"
            ],
            "text/plain": [
              "     z\n",
              "0    1\n",
              "1    1\n",
              "2    1\n",
              "3    0\n",
              "4    0\n",
              "..  ..\n",
              "115  0\n",
              "116  0\n",
              "117  1\n",
              "118  1\n",
              "119  1\n",
              "\n",
              "[120 rows x 1 columns]"
            ]
          },
          "execution_count": 167,
          "metadata": {},
          "output_type": "execute_result"
        }
      ],
      "source": [
        "#dummy variable for axis position (categorical variable) \n",
        "dummy = pd.get_dummies(df['r_axis'],drop_first=True)  \n",
        "dummy"
      ]
    },
    {
      "cell_type": "code",
      "execution_count": null,
      "metadata": {
        "id": "IFuI02RK9KSF"
      },
      "outputs": [],
      "source": [
        "y=df['target']"
      ]
    },
    {
      "cell_type": "code",
      "execution_count": null,
      "metadata": {
        "id": "jN1I9WLC9KSG",
        "outputId": "d863e159-215f-413b-dbb4-83cf76c873f8"
      },
      "outputs": [
        {
          "data": {
            "text/html": [
              "<div>\n",
              "<style scoped>\n",
              "    .dataframe tbody tr th:only-of-type {\n",
              "        vertical-align: middle;\n",
              "    }\n",
              "\n",
              "    .dataframe tbody tr th {\n",
              "        vertical-align: top;\n",
              "    }\n",
              "\n",
              "    .dataframe thead th {\n",
              "        text-align: right;\n",
              "    }\n",
              "</style>\n",
              "<table border=\"1\" class=\"dataframe\">\n",
              "  <thead>\n",
              "    <tr style=\"text-align: right;\">\n",
              "      <th></th>\n",
              "      <th>BR</th>\n",
              "      <th>WL</th>\n",
              "      <th>MAV</th>\n",
              "      <th>MV</th>\n",
              "      <th>RMSE</th>\n",
              "      <th>Max</th>\n",
              "      <th>SEN</th>\n",
              "      <th>MNF</th>\n",
              "      <th>Min_p</th>\n",
              "      <th>z</th>\n",
              "      <th>target</th>\n",
              "    </tr>\n",
              "  </thead>\n",
              "  <tbody>\n",
              "    <tr>\n",
              "      <th>0</th>\n",
              "      <td>0.240080</td>\n",
              "      <td>NaN</td>\n",
              "      <td>0.016496</td>\n",
              "      <td>NaN</td>\n",
              "      <td>0.024225</td>\n",
              "      <td>2.856031</td>\n",
              "      <td>4.005227</td>\n",
              "      <td>1.668973</td>\n",
              "      <td>-13.560138</td>\n",
              "      <td>1</td>\n",
              "      <td>supine</td>\n",
              "    </tr>\n",
              "    <tr>\n",
              "      <th>1</th>\n",
              "      <td>0.220073</td>\n",
              "      <td>0.478272</td>\n",
              "      <td>0.000159</td>\n",
              "      <td>0.000159</td>\n",
              "      <td>0.012104</td>\n",
              "      <td>1.034132</td>\n",
              "      <td>1.532881</td>\n",
              "      <td>NaN</td>\n",
              "      <td>-13.387563</td>\n",
              "      <td>1</td>\n",
              "      <td>supine</td>\n",
              "    </tr>\n",
              "    <tr>\n",
              "      <th>2</th>\n",
              "      <td>0.220073</td>\n",
              "      <td>16.022720</td>\n",
              "      <td>0.005343</td>\n",
              "      <td>0.005343</td>\n",
              "      <td>0.012163</td>\n",
              "      <td>0.933654</td>\n",
              "      <td>3.075543</td>\n",
              "      <td>1.608626</td>\n",
              "      <td>-13.830738</td>\n",
              "      <td>1</td>\n",
              "      <td>supine</td>\n",
              "    </tr>\n",
              "    <tr>\n",
              "      <th>3</th>\n",
              "      <td>0.260087</td>\n",
              "      <td>NaN</td>\n",
              "      <td>0.024117</td>\n",
              "      <td>NaN</td>\n",
              "      <td>0.017500</td>\n",
              "      <td>1.620029</td>\n",
              "      <td>4.282798</td>\n",
              "      <td>1.594883</td>\n",
              "      <td>-13.496708</td>\n",
              "      <td>0</td>\n",
              "      <td>lateral R</td>\n",
              "    </tr>\n",
              "    <tr>\n",
              "      <th>4</th>\n",
              "      <td>0.260087</td>\n",
              "      <td>4.426925</td>\n",
              "      <td>0.001476</td>\n",
              "      <td>0.001476</td>\n",
              "      <td>0.011135</td>\n",
              "      <td>0.848615</td>\n",
              "      <td>1.197711</td>\n",
              "      <td>NaN</td>\n",
              "      <td>NaN</td>\n",
              "      <td>0</td>\n",
              "      <td>lateral R</td>\n",
              "    </tr>\n",
              "    <tr>\n",
              "      <th>...</th>\n",
              "      <td>...</td>\n",
              "      <td>...</td>\n",
              "      <td>...</td>\n",
              "      <td>...</td>\n",
              "      <td>...</td>\n",
              "      <td>...</td>\n",
              "      <td>...</td>\n",
              "      <td>...</td>\n",
              "      <td>...</td>\n",
              "      <td>...</td>\n",
              "      <td>...</td>\n",
              "    </tr>\n",
              "    <tr>\n",
              "      <th>115</th>\n",
              "      <td>0.300100</td>\n",
              "      <td>-23.945668</td>\n",
              "      <td>0.007985</td>\n",
              "      <td>-0.007985</td>\n",
              "      <td>0.008231</td>\n",
              "      <td>1.030795</td>\n",
              "      <td>3.221074</td>\n",
              "      <td>1.567173</td>\n",
              "      <td>-13.805371</td>\n",
              "      <td>0</td>\n",
              "      <td>lateral L</td>\n",
              "    </tr>\n",
              "    <tr>\n",
              "      <th>116</th>\n",
              "      <td>0.260087</td>\n",
              "      <td>9.330342</td>\n",
              "      <td>0.003111</td>\n",
              "      <td>0.003111</td>\n",
              "      <td>0.006094</td>\n",
              "      <td>0.563488</td>\n",
              "      <td>2.524391</td>\n",
              "      <td>1.657664</td>\n",
              "      <td>-14.079529</td>\n",
              "      <td>0</td>\n",
              "      <td>lateral L</td>\n",
              "    </tr>\n",
              "    <tr>\n",
              "      <th>117</th>\n",
              "      <td>0.060020</td>\n",
              "      <td>5.913591</td>\n",
              "      <td>0.001971</td>\n",
              "      <td>0.001971</td>\n",
              "      <td>0.007434</td>\n",
              "      <td>0.783421</td>\n",
              "      <td>2.234309</td>\n",
              "      <td>1.797141</td>\n",
              "      <td>-13.458699</td>\n",
              "      <td>1</td>\n",
              "      <td>prone</td>\n",
              "    </tr>\n",
              "    <tr>\n",
              "      <th>118</th>\n",
              "      <td>0.100033</td>\n",
              "      <td>-2.784492</td>\n",
              "      <td>0.000928</td>\n",
              "      <td>-0.000928</td>\n",
              "      <td>0.005937</td>\n",
              "      <td>0.470299</td>\n",
              "      <td>2.336712</td>\n",
              "      <td>1.870158</td>\n",
              "      <td>-13.744405</td>\n",
              "      <td>1</td>\n",
              "      <td>prone</td>\n",
              "    </tr>\n",
              "    <tr>\n",
              "      <th>119</th>\n",
              "      <td>0.280093</td>\n",
              "      <td>-1.361530</td>\n",
              "      <td>0.000454</td>\n",
              "      <td>-0.000454</td>\n",
              "      <td>0.004941</td>\n",
              "      <td>0.487671</td>\n",
              "      <td>0.811664</td>\n",
              "      <td>NaN</td>\n",
              "      <td>-14.136694</td>\n",
              "      <td>1</td>\n",
              "      <td>prone</td>\n",
              "    </tr>\n",
              "  </tbody>\n",
              "</table>\n",
              "<p>120 rows × 11 columns</p>\n",
              "</div>"
            ],
            "text/plain": [
              "           BR         WL       MAV        MV      RMSE       Max       SEN  \\\n",
              "0    0.240080        NaN  0.016496       NaN  0.024225  2.856031  4.005227   \n",
              "1    0.220073   0.478272  0.000159  0.000159  0.012104  1.034132  1.532881   \n",
              "2    0.220073  16.022720  0.005343  0.005343  0.012163  0.933654  3.075543   \n",
              "3    0.260087        NaN  0.024117       NaN  0.017500  1.620029  4.282798   \n",
              "4    0.260087   4.426925  0.001476  0.001476  0.011135  0.848615  1.197711   \n",
              "..        ...        ...       ...       ...       ...       ...       ...   \n",
              "115  0.300100 -23.945668  0.007985 -0.007985  0.008231  1.030795  3.221074   \n",
              "116  0.260087   9.330342  0.003111  0.003111  0.006094  0.563488  2.524391   \n",
              "117  0.060020   5.913591  0.001971  0.001971  0.007434  0.783421  2.234309   \n",
              "118  0.100033  -2.784492  0.000928 -0.000928  0.005937  0.470299  2.336712   \n",
              "119  0.280093  -1.361530  0.000454 -0.000454  0.004941  0.487671  0.811664   \n",
              "\n",
              "          MNF      Min_p  z     target  \n",
              "0    1.668973 -13.560138  1     supine  \n",
              "1         NaN -13.387563  1     supine  \n",
              "2    1.608626 -13.830738  1     supine  \n",
              "3    1.594883 -13.496708  0  lateral R  \n",
              "4         NaN        NaN  0  lateral R  \n",
              "..        ...        ... ..        ...  \n",
              "115  1.567173 -13.805371  0  lateral L  \n",
              "116  1.657664 -14.079529  0  lateral L  \n",
              "117  1.797141 -13.458699  1      prone  \n",
              "118  1.870158 -13.744405  1      prone  \n",
              "119       NaN -14.136694  1      prone  \n",
              "\n",
              "[120 rows x 11 columns]"
            ]
          },
          "execution_count": 169,
          "metadata": {},
          "output_type": "execute_result"
        }
      ],
      "source": [
        "df_num=pd.concat([df_num,dummy, y],axis=1)\n",
        "df_num"
      ]
    },
    {
      "cell_type": "code",
      "execution_count": null,
      "metadata": {
        "scrolled": true,
        "id": "0hD6jNsK9KSG",
        "outputId": "cf9261db-c7b5-491f-ebaa-30ca9b684c62"
      },
      "outputs": [
        {
          "name": "stderr",
          "output_type": "stream",
          "text": [
            "c:\\Users\\Laura\\AppData\\Local\\Programs\\Python\\Python310\\lib\\site-packages\\numpy\\core\\fromnumeric.py:3472: FutureWarning: In a future version, DataFrame.mean(axis=None) will return a scalar mean over the entire DataFrame. To retain the old behavior, use 'frame.mean(axis=0)' or just 'frame.mean()'\n",
            "  return mean(axis=axis, dtype=dtype, out=out, **kwargs)\n",
            "c:\\Users\\Laura\\AppData\\Local\\Programs\\Python\\Python310\\lib\\site-packages\\numpy\\core\\fromnumeric.py:3472: FutureWarning: Dropping of nuisance columns in DataFrame reductions (with 'numeric_only=None') is deprecated; in a future version this will raise TypeError.  Select only valid columns before calling the reduction.\n",
            "  return mean(axis=axis, dtype=dtype, out=out, **kwargs)\n"
          ]
        }
      ],
      "source": [
        "df_num=df_num.fillna(np.mean(df_num))\n",
        "df_num\n",
        "z=df_num[['z','target']]\n",
        "df_num=df_num.drop(['z','target'], axis = 1)\n"
      ]
    },
    {
      "cell_type": "code",
      "execution_count": null,
      "metadata": {
        "id": "_IfEZ-SN9KSH",
        "outputId": "2b20094c-5e1e-4069-c193-45b70076e9b4"
      },
      "outputs": [
        {
          "name": "stdout",
          "output_type": "stream",
          "text": [
            "           BR         WL       MAV        MV      RMSE       Max       SEN  \\\n",
            "0    0.240080   4.111350  0.016496  0.001371  0.024225  2.856031  4.005227   \n",
            "1    0.220073   0.478272  0.000159  0.000159  0.012104  1.034132  1.532881   \n",
            "2    0.220073  16.022720  0.005343  0.005343  0.012163  0.933654  3.075543   \n",
            "3    0.260087   4.111350  0.024117  0.001371  0.017500  1.620029  4.282798   \n",
            "4    0.260087   4.426925  0.001476  0.001476  0.011135  0.848615  1.197711   \n",
            "..        ...        ...       ...       ...       ...       ...       ...   \n",
            "115  0.300100 -23.945668  0.007985 -0.007985  0.008231  1.030795  3.221074   \n",
            "116  0.260087   9.330342  0.003111  0.003111  0.006094  0.563488  2.524391   \n",
            "117  0.060020   5.913591  0.001971  0.001971  0.007434  0.783421  2.234309   \n",
            "118  0.100033  -2.784492  0.000928 -0.000928  0.005937  0.470299  2.336712   \n",
            "119  0.280093  -1.361530  0.000454 -0.000454  0.004941  0.487671  0.811664   \n",
            "\n",
            "          MNF      Min_p  \n",
            "0    1.668973 -13.560138  \n",
            "1    1.668395 -13.387563  \n",
            "2    1.608626 -13.830738  \n",
            "3    1.594883 -13.496708  \n",
            "4    1.668395 -13.760787  \n",
            "..        ...        ...  \n",
            "115  1.567173 -13.805371  \n",
            "116  1.657664 -14.079529  \n",
            "117  1.797141 -13.458699  \n",
            "118  1.870158 -13.744405  \n",
            "119  1.668395 -14.136694  \n",
            "\n",
            "[120 rows x 9 columns]\n"
          ]
        }
      ],
      "source": [
        "print(df_num)"
      ]
    },
    {
      "cell_type": "code",
      "execution_count": null,
      "metadata": {
        "id": "o9Kso4qz9KSH",
        "outputId": "ff1a0180-f721-4768-80d3-567e07c30a51"
      },
      "outputs": [
        {
          "name": "stdout",
          "output_type": "stream",
          "text": [
            "9\n"
          ]
        }
      ],
      "source": [
        "print(len(df_num.columns))"
      ]
    },
    {
      "cell_type": "code",
      "execution_count": null,
      "metadata": {
        "id": "xEtZQ1Hq9KSI",
        "outputId": "280008d7-bfd7-4520-ed32-9fa69974e7c7"
      },
      "outputs": [
        {
          "name": "stdout",
          "output_type": "stream",
          "text": [
            "(120, 9)\n"
          ]
        },
        {
          "data": {
            "text/html": [
              "<div>\n",
              "<style scoped>\n",
              "    .dataframe tbody tr th:only-of-type {\n",
              "        vertical-align: middle;\n",
              "    }\n",
              "\n",
              "    .dataframe tbody tr th {\n",
              "        vertical-align: top;\n",
              "    }\n",
              "\n",
              "    .dataframe thead th {\n",
              "        text-align: right;\n",
              "    }\n",
              "</style>\n",
              "<table border=\"1\" class=\"dataframe\">\n",
              "  <thead>\n",
              "    <tr style=\"text-align: right;\">\n",
              "      <th></th>\n",
              "      <th>BR</th>\n",
              "      <th>WL</th>\n",
              "      <th>MAV</th>\n",
              "      <th>MV</th>\n",
              "      <th>STD</th>\n",
              "      <th>RMSE</th>\n",
              "      <th>Max</th>\n",
              "      <th>Min</th>\n",
              "      <th>VAR</th>\n",
              "      <th>SEN</th>\n",
              "      <th>MDF</th>\n",
              "      <th>MNF</th>\n",
              "      <th>Max_p</th>\n",
              "      <th>Min_p</th>\n",
              "      <th>r_axis</th>\n",
              "      <th>target</th>\n",
              "    </tr>\n",
              "  </thead>\n",
              "  <tbody>\n",
              "    <tr>\n",
              "      <th>0</th>\n",
              "      <td>0.240080</td>\n",
              "      <td>-49.489306</td>\n",
              "      <td>0.016496</td>\n",
              "      <td>-0.016496</td>\n",
              "      <td>0.828765</td>\n",
              "      <td>0.024225</td>\n",
              "      <td>2.856031</td>\n",
              "      <td>-2.129246</td>\n",
              "      <td>-0.016502</td>\n",
              "      <td>10121.076678</td>\n",
              "      <td>50.301781</td>\n",
              "      <td>46.663023</td>\n",
              "      <td>711.235976</td>\n",
              "      <td>2.753353e-14</td>\n",
              "      <td>z</td>\n",
              "      <td>supine</td>\n",
              "    </tr>\n",
              "    <tr>\n",
              "      <th>1</th>\n",
              "      <td>0.220073</td>\n",
              "      <td>0.478272</td>\n",
              "      <td>0.000159</td>\n",
              "      <td>0.000159</td>\n",
              "      <td>0.507935</td>\n",
              "      <td>0.012104</td>\n",
              "      <td>1.034132</td>\n",
              "      <td>-1.496247</td>\n",
              "      <td>0.000160</td>\n",
              "      <td>34.109931</td>\n",
              "      <td>2.920185</td>\n",
              "      <td>18.695023</td>\n",
              "      <td>439.457656</td>\n",
              "      <td>4.096723e-14</td>\n",
              "      <td>z</td>\n",
              "      <td>supine</td>\n",
              "    </tr>\n",
              "    <tr>\n",
              "      <th>2</th>\n",
              "      <td>0.220073</td>\n",
              "      <td>16.022720</td>\n",
              "      <td>0.005343</td>\n",
              "      <td>0.005343</td>\n",
              "      <td>0.531967</td>\n",
              "      <td>0.012163</td>\n",
              "      <td>0.933654</td>\n",
              "      <td>-1.088899</td>\n",
              "      <td>0.005344</td>\n",
              "      <td>1189.987977</td>\n",
              "      <td>17.248101</td>\n",
              "      <td>40.609365</td>\n",
              "      <td>860.553796</td>\n",
              "      <td>1.476597e-14</td>\n",
              "      <td>z</td>\n",
              "      <td>supine</td>\n",
              "    </tr>\n",
              "    <tr>\n",
              "      <th>3</th>\n",
              "      <td>0.260087</td>\n",
              "      <td>-72.349807</td>\n",
              "      <td>0.024117</td>\n",
              "      <td>-0.024117</td>\n",
              "      <td>0.618624</td>\n",
              "      <td>0.017500</td>\n",
              "      <td>1.620029</td>\n",
              "      <td>-1.553317</td>\n",
              "      <td>-0.024125</td>\n",
              "      <td>19177.751270</td>\n",
              "      <td>69.241879</td>\n",
              "      <td>39.344414</td>\n",
              "      <td>526.384057</td>\n",
              "      <td>3.186340e-14</td>\n",
              "      <td>x</td>\n",
              "      <td>lateral R</td>\n",
              "    </tr>\n",
              "    <tr>\n",
              "      <th>4</th>\n",
              "      <td>0.260087</td>\n",
              "      <td>4.426925</td>\n",
              "      <td>0.001476</td>\n",
              "      <td>0.001476</td>\n",
              "      <td>0.415343</td>\n",
              "      <td>0.011135</td>\n",
              "      <td>0.848615</td>\n",
              "      <td>-0.834289</td>\n",
              "      <td>0.001477</td>\n",
              "      <td>15.765618</td>\n",
              "      <td>1.985297</td>\n",
              "      <td>96.913984</td>\n",
              "      <td>583.295626</td>\n",
              "      <td>1.665335e-16</td>\n",
              "      <td>x</td>\n",
              "      <td>lateral R</td>\n",
              "    </tr>\n",
              "  </tbody>\n",
              "</table>\n",
              "</div>"
            ],
            "text/plain": [
              "         BR         WL       MAV        MV       STD      RMSE       Max  \\\n",
              "0  0.240080 -49.489306  0.016496 -0.016496  0.828765  0.024225  2.856031   \n",
              "1  0.220073   0.478272  0.000159  0.000159  0.507935  0.012104  1.034132   \n",
              "2  0.220073  16.022720  0.005343  0.005343  0.531967  0.012163  0.933654   \n",
              "3  0.260087 -72.349807  0.024117 -0.024117  0.618624  0.017500  1.620029   \n",
              "4  0.260087   4.426925  0.001476  0.001476  0.415343  0.011135  0.848615   \n",
              "\n",
              "        Min       VAR           SEN        MDF        MNF       Max_p  \\\n",
              "0 -2.129246 -0.016502  10121.076678  50.301781  46.663023  711.235976   \n",
              "1 -1.496247  0.000160     34.109931   2.920185  18.695023  439.457656   \n",
              "2 -1.088899  0.005344   1189.987977  17.248101  40.609365  860.553796   \n",
              "3 -1.553317 -0.024125  19177.751270  69.241879  39.344414  526.384057   \n",
              "4 -0.834289  0.001477     15.765618   1.985297  96.913984  583.295626   \n",
              "\n",
              "          Min_p r_axis     target  \n",
              "0  2.753353e-14      z     supine  \n",
              "1  4.096723e-14      z     supine  \n",
              "2  1.476597e-14      z     supine  \n",
              "3  3.186340e-14      x  lateral R  \n",
              "4  1.665335e-16      x  lateral R  "
            ]
          },
          "execution_count": 173,
          "metadata": {},
          "output_type": "execute_result"
        }
      ],
      "source": [
        "print(df_num.shape)\n",
        "df.head()"
      ]
    },
    {
      "cell_type": "code",
      "execution_count": null,
      "metadata": {
        "id": "TVmwniT99KSI",
        "outputId": "0aa2126a-1f8e-486f-fb00-c35b6f43fcc6"
      },
      "outputs": [
        {
          "data": {
            "text/plain": [
              "array([[<AxesSubplot:title={'center':'BR'}>,\n",
              "        <AxesSubplot:title={'center':'WL'}>,\n",
              "        <AxesSubplot:title={'center':'MAV'}>],\n",
              "       [<AxesSubplot:title={'center':'MV'}>,\n",
              "        <AxesSubplot:title={'center':'RMSE'}>,\n",
              "        <AxesSubplot:title={'center':'Max'}>],\n",
              "       [<AxesSubplot:title={'center':'SEN'}>,\n",
              "        <AxesSubplot:title={'center':'MNF'}>,\n",
              "        <AxesSubplot:title={'center':'Min_p'}>]], dtype=object)"
            ]
          },
          "execution_count": 174,
          "metadata": {},
          "output_type": "execute_result"
        },
        {
          "data": {
            "image/png": "[encoded data removed]",
            "text/plain": [
              "<Figure size 720x720 with 9 Axes>"
            ]
          },
          "metadata": {
            "needs_background": "light"
          },
          "output_type": "display_data"
        }
      ],
      "source": [
        "df_num.hist(figsize=(10,10), bins=30)"
      ]
    },
    {
      "cell_type": "markdown",
      "metadata": {
        "id": "lmjHWRex9KSJ"
      },
      "source": [
        "## Standardization"
      ]
    },
    {
      "cell_type": "code",
      "execution_count": null,
      "metadata": {
        "id": "x_-t3tMA9KSJ",
        "outputId": "e3bf467d-9969-4eba-b801-571019221893"
      },
      "outputs": [
        {
          "data": {
            "text/html": [
              "<div>\n",
              "<style scoped>\n",
              "    .dataframe tbody tr th:only-of-type {\n",
              "        vertical-align: middle;\n",
              "    }\n",
              "\n",
              "    .dataframe tbody tr th {\n",
              "        vertical-align: top;\n",
              "    }\n",
              "\n",
              "    .dataframe thead th {\n",
              "        text-align: right;\n",
              "    }\n",
              "</style>\n",
              "<table border=\"1\" class=\"dataframe\">\n",
              "  <thead>\n",
              "    <tr style=\"text-align: right;\">\n",
              "      <th></th>\n",
              "      <th>BR</th>\n",
              "      <th>WL</th>\n",
              "      <th>MAV</th>\n",
              "      <th>MV</th>\n",
              "      <th>RMSE</th>\n",
              "      <th>Max</th>\n",
              "      <th>SEN</th>\n",
              "      <th>MNF</th>\n",
              "      <th>Min_p</th>\n",
              "    </tr>\n",
              "  </thead>\n",
              "  <tbody>\n",
              "    <tr>\n",
              "      <th>0</th>\n",
              "      <td>0.704054</td>\n",
              "      <td>0.000000</td>\n",
              "      <td>1.558654</td>\n",
              "      <td>-4.002316e-17</td>\n",
              "      <td>3.131055</td>\n",
              "      <td>2.177324</td>\n",
              "      <td>1.352775</td>\n",
              "      <td>0.006931</td>\n",
              "      <td>4.707924e-01</td>\n",
              "    </tr>\n",
              "    <tr>\n",
              "      <th>1</th>\n",
              "      <td>0.458358</td>\n",
              "      <td>-0.223579</td>\n",
              "      <td>-0.943160</td>\n",
              "      <td>-2.235735e-01</td>\n",
              "      <td>0.481702</td>\n",
              "      <td>-0.190918</td>\n",
              "      <td>-1.153135</td>\n",
              "      <td>0.000000</td>\n",
              "      <td>8.757131e-01</td>\n",
              "    </tr>\n",
              "    <tr>\n",
              "      <th>2</th>\n",
              "      <td>0.458358</td>\n",
              "      <td>0.733023</td>\n",
              "      <td>-0.149412</td>\n",
              "      <td>7.331136e-01</td>\n",
              "      <td>0.494537</td>\n",
              "      <td>-0.321527</td>\n",
              "      <td>0.410469</td>\n",
              "      <td>-0.717355</td>\n",
              "      <td>-1.641302e-01</td>\n",
              "    </tr>\n",
              "    <tr>\n",
              "      <th>3</th>\n",
              "      <td>0.949751</td>\n",
              "      <td>0.000000</td>\n",
              "      <td>2.725593</td>\n",
              "      <td>-4.002316e-17</td>\n",
              "      <td>1.661147</td>\n",
              "      <td>0.570676</td>\n",
              "      <td>1.634114</td>\n",
              "      <td>-0.882301</td>\n",
              "      <td>6.196219e-01</td>\n",
              "    </tr>\n",
              "    <tr>\n",
              "      <th>4</th>\n",
              "      <td>0.949751</td>\n",
              "      <td>0.019420</td>\n",
              "      <td>-0.741529</td>\n",
              "      <td>1.944731e-02</td>\n",
              "      <td>0.269921</td>\n",
              "      <td>-0.432067</td>\n",
              "      <td>-1.492855</td>\n",
              "      <td>0.000000</td>\n",
              "      <td>-8.335912e-15</td>\n",
              "    </tr>\n",
              "  </tbody>\n",
              "</table>\n",
              "</div>"
            ],
            "text/plain": [
              "         BR        WL       MAV            MV      RMSE       Max       SEN  \\\n",
              "0  0.704054  0.000000  1.558654 -4.002316e-17  3.131055  2.177324  1.352775   \n",
              "1  0.458358 -0.223579 -0.943160 -2.235735e-01  0.481702 -0.190918 -1.153135   \n",
              "2  0.458358  0.733023 -0.149412  7.331136e-01  0.494537 -0.321527  0.410469   \n",
              "3  0.949751  0.000000  2.725593 -4.002316e-17  1.661147  0.570676  1.634114   \n",
              "4  0.949751  0.019420 -0.741529  1.944731e-02  0.269921 -0.432067 -1.492855   \n",
              "\n",
              "        MNF         Min_p  \n",
              "0  0.006931  4.707924e-01  \n",
              "1  0.000000  8.757131e-01  \n",
              "2 -0.717355 -1.641302e-01  \n",
              "3 -0.882301  6.196219e-01  \n",
              "4  0.000000 -8.335912e-15  "
            ]
          },
          "execution_count": 175,
          "metadata": {},
          "output_type": "execute_result"
        }
      ],
      "source": [
        "from sklearn.preprocessing import StandardScaler\n",
        "scaler = StandardScaler().fit(df_num)\n",
        "scaled_df = pd.DataFrame(scaler.transform(df_num))\n",
        "scaled_df.columns = df_num.columns\n",
        "scaled_df.index=df_num.index\n",
        "scaled_df.head()\n",
        "\n"
      ]
    },
    {
      "cell_type": "code",
      "execution_count": null,
      "metadata": {
        "id": "jsMcm7Q49KSJ"
      },
      "outputs": [],
      "source": [
        "df_num=scaled_df"
      ]
    },
    {
      "cell_type": "code",
      "execution_count": null,
      "metadata": {
        "id": "JvOcH2W19KSJ",
        "outputId": "a6840b8a-fdc3-43a5-e21d-3144178998d4"
      },
      "outputs": [
        {
          "data": {
            "text/plain": [
              "<AxesSubplot:>"
            ]
          },
          "execution_count": 177,
          "metadata": {},
          "output_type": "execute_result"
        },
        {
          "data": {
            "image/png": "[encoded data removed]",
            "text/plain": [
              "<Figure size 432x288 with 1 Axes>"
            ]
          },
          "metadata": {
            "needs_background": "light"
          },
          "output_type": "display_data"
        }
      ],
      "source": [
        "scaled_df.boxplot()"
      ]
    },
    {
      "cell_type": "code",
      "execution_count": null,
      "metadata": {
        "id": "qRp8OOop9KSK",
        "outputId": "6649f61b-1bc3-4176-c153-13d2e4897137"
      },
      "outputs": [
        {
          "data": {
            "text/plain": [
              "array([[<AxesSubplot:title={'center':'BR'}>,\n",
              "        <AxesSubplot:title={'center':'WL'}>,\n",
              "        <AxesSubplot:title={'center':'MAV'}>],\n",
              "       [<AxesSubplot:title={'center':'MV'}>,\n",
              "        <AxesSubplot:title={'center':'RMSE'}>,\n",
              "        <AxesSubplot:title={'center':'Max'}>],\n",
              "       [<AxesSubplot:title={'center':'SEN'}>,\n",
              "        <AxesSubplot:title={'center':'MNF'}>,\n",
              "        <AxesSubplot:title={'center':'Min_p'}>]], dtype=object)"
            ]
          },
          "execution_count": 178,
          "metadata": {},
          "output_type": "execute_result"
        },
        {
          "data": {
            "image/png": "[encoded data removed]",
            "text/plain": [
              "<Figure size 720x720 with 9 Axes>"
            ]
          },
          "metadata": {
            "needs_background": "light"
          },
          "output_type": "display_data"
        }
      ],
      "source": [
        "df_num.hist(figsize=(10,10), bins=30)"
      ]
    },
    {
      "cell_type": "code",
      "execution_count": null,
      "metadata": {
        "id": "5D8IHqny9KSL",
        "outputId": "5a1a61cd-6516-478e-cd31-03b2dbce81a2"
      },
      "outputs": [
        {
          "data": {
            "text/html": [
              "<div>\n",
              "<style scoped>\n",
              "    .dataframe tbody tr th:only-of-type {\n",
              "        vertical-align: middle;\n",
              "    }\n",
              "\n",
              "    .dataframe tbody tr th {\n",
              "        vertical-align: top;\n",
              "    }\n",
              "\n",
              "    .dataframe thead th {\n",
              "        text-align: right;\n",
              "    }\n",
              "</style>\n",
              "<table border=\"1\" class=\"dataframe\">\n",
              "  <thead>\n",
              "    <tr style=\"text-align: right;\">\n",
              "      <th></th>\n",
              "      <th>BR</th>\n",
              "      <th>WL</th>\n",
              "      <th>MAV</th>\n",
              "      <th>MV</th>\n",
              "      <th>RMSE</th>\n",
              "      <th>Max</th>\n",
              "      <th>SEN</th>\n",
              "      <th>MNF</th>\n",
              "      <th>Min_p</th>\n",
              "    </tr>\n",
              "  </thead>\n",
              "  <tbody>\n",
              "    <tr>\n",
              "      <th>BR</th>\n",
              "      <td>1.000000</td>\n",
              "      <td>-0.106884</td>\n",
              "      <td>-0.051050</td>\n",
              "      <td>-0.106871</td>\n",
              "      <td>0.060659</td>\n",
              "      <td>-0.092938</td>\n",
              "      <td>-0.103387</td>\n",
              "      <td>-0.186808</td>\n",
              "      <td>-0.248561</td>\n",
              "    </tr>\n",
              "    <tr>\n",
              "      <th>WL</th>\n",
              "      <td>-0.106884</td>\n",
              "      <td>1.000000</td>\n",
              "      <td>0.215950</td>\n",
              "      <td>1.000000</td>\n",
              "      <td>0.124745</td>\n",
              "      <td>0.089433</td>\n",
              "      <td>0.241602</td>\n",
              "      <td>-0.050879</td>\n",
              "      <td>0.220336</td>\n",
              "    </tr>\n",
              "    <tr>\n",
              "      <th>MAV</th>\n",
              "      <td>-0.051050</td>\n",
              "      <td>0.215950</td>\n",
              "      <td>1.000000</td>\n",
              "      <td>0.215962</td>\n",
              "      <td>0.202951</td>\n",
              "      <td>0.201121</td>\n",
              "      <td>0.831441</td>\n",
              "      <td>-0.269017</td>\n",
              "      <td>0.457720</td>\n",
              "    </tr>\n",
              "    <tr>\n",
              "      <th>MV</th>\n",
              "      <td>-0.106871</td>\n",
              "      <td>1.000000</td>\n",
              "      <td>0.215962</td>\n",
              "      <td>1.000000</td>\n",
              "      <td>0.124735</td>\n",
              "      <td>0.089429</td>\n",
              "      <td>0.241613</td>\n",
              "      <td>-0.050883</td>\n",
              "      <td>0.220331</td>\n",
              "    </tr>\n",
              "    <tr>\n",
              "      <th>RMSE</th>\n",
              "      <td>0.060659</td>\n",
              "      <td>0.124745</td>\n",
              "      <td>0.202951</td>\n",
              "      <td>0.124735</td>\n",
              "      <td>1.000000</td>\n",
              "      <td>0.845936</td>\n",
              "      <td>0.252193</td>\n",
              "      <td>0.029019</td>\n",
              "      <td>0.409354</td>\n",
              "    </tr>\n",
              "    <tr>\n",
              "      <th>Max</th>\n",
              "      <td>-0.092938</td>\n",
              "      <td>0.089433</td>\n",
              "      <td>0.201121</td>\n",
              "      <td>0.089429</td>\n",
              "      <td>0.845936</td>\n",
              "      <td>1.000000</td>\n",
              "      <td>0.219361</td>\n",
              "      <td>0.083973</td>\n",
              "      <td>0.391082</td>\n",
              "    </tr>\n",
              "    <tr>\n",
              "      <th>SEN</th>\n",
              "      <td>-0.103387</td>\n",
              "      <td>0.241602</td>\n",
              "      <td>0.831441</td>\n",
              "      <td>0.241613</td>\n",
              "      <td>0.252193</td>\n",
              "      <td>0.219361</td>\n",
              "      <td>1.000000</td>\n",
              "      <td>-0.221353</td>\n",
              "      <td>0.451971</td>\n",
              "    </tr>\n",
              "    <tr>\n",
              "      <th>MNF</th>\n",
              "      <td>-0.186808</td>\n",
              "      <td>-0.050879</td>\n",
              "      <td>-0.269017</td>\n",
              "      <td>-0.050883</td>\n",
              "      <td>0.029019</td>\n",
              "      <td>0.083973</td>\n",
              "      <td>-0.221353</td>\n",
              "      <td>1.000000</td>\n",
              "      <td>-0.103918</td>\n",
              "    </tr>\n",
              "    <tr>\n",
              "      <th>Min_p</th>\n",
              "      <td>-0.248561</td>\n",
              "      <td>0.220336</td>\n",
              "      <td>0.457720</td>\n",
              "      <td>0.220331</td>\n",
              "      <td>0.409354</td>\n",
              "      <td>0.391082</td>\n",
              "      <td>0.451971</td>\n",
              "      <td>-0.103918</td>\n",
              "      <td>1.000000</td>\n",
              "    </tr>\n",
              "  </tbody>\n",
              "</table>\n",
              "</div>"
            ],
            "text/plain": [
              "             BR        WL       MAV        MV      RMSE       Max       SEN  \\\n",
              "BR     1.000000 -0.106884 -0.051050 -0.106871  0.060659 -0.092938 -0.103387   \n",
              "WL    -0.106884  1.000000  0.215950  1.000000  0.124745  0.089433  0.241602   \n",
              "MAV   -0.051050  0.215950  1.000000  0.215962  0.202951  0.201121  0.831441   \n",
              "MV    -0.106871  1.000000  0.215962  1.000000  0.124735  0.089429  0.241613   \n",
              "RMSE   0.060659  0.124745  0.202951  0.124735  1.000000  0.845936  0.252193   \n",
              "Max   -0.092938  0.089433  0.201121  0.089429  0.845936  1.000000  0.219361   \n",
              "SEN   -0.103387  0.241602  0.831441  0.241613  0.252193  0.219361  1.000000   \n",
              "MNF   -0.186808 -0.050879 -0.269017 -0.050883  0.029019  0.083973 -0.221353   \n",
              "Min_p -0.248561  0.220336  0.457720  0.220331  0.409354  0.391082  0.451971   \n",
              "\n",
              "            MNF     Min_p  \n",
              "BR    -0.186808 -0.248561  \n",
              "WL    -0.050879  0.220336  \n",
              "MAV   -0.269017  0.457720  \n",
              "MV    -0.050883  0.220331  \n",
              "RMSE   0.029019  0.409354  \n",
              "Max    0.083973  0.391082  \n",
              "SEN   -0.221353  0.451971  \n",
              "MNF    1.000000 -0.103918  \n",
              "Min_p -0.103918  1.000000  "
            ]
          },
          "execution_count": 179,
          "metadata": {},
          "output_type": "execute_result"
        }
      ],
      "source": [
        "df_num.apply(lambda s: df_num.corrwith(s))"
      ]
    },
    {
      "cell_type": "code",
      "execution_count": null,
      "metadata": {
        "id": "GjX-nnQ29KSL"
      },
      "outputs": [],
      "source": [
        ""
      ]
    },
    {
      "cell_type": "markdown",
      "metadata": {
        "id": "mOK95XDA9KSS"
      },
      "source": [
        "## Separate Train set and Test set"
      ]
    },
    {
      "cell_type": "code",
      "execution_count": null,
      "metadata": {
        "id": "1bxM6UPk9KSS",
        "outputId": "0d75068c-b6df-453b-80b2-272365880126"
      },
      "outputs": [
        {
          "name": "stdout",
          "output_type": "stream",
          "text": [
            "           BR        WL       MAV            MV      RMSE       Max       SEN  \\\n",
            "0    0.704054  0.000000  1.558654 -4.002316e-17  3.131055  2.177324  1.352775   \n",
            "1    0.458358 -0.223579 -0.943160 -2.235735e-01  0.481702 -0.190918 -1.153135   \n",
            "2    0.458358  0.733023 -0.149412  7.331136e-01  0.494537 -0.321527  0.410469   \n",
            "3    0.949751  0.000000  2.725593 -4.002316e-17  1.661147  0.570676  1.634114   \n",
            "4    0.949751  0.019420 -0.741529  1.944731e-02  0.269921 -0.432067 -1.492855   \n",
            "..        ...       ...       ...           ...       ...       ...       ...   \n",
            "115  1.441144 -1.726622  0.255158 -1.726751e+00 -0.364919 -0.195256  0.557976   \n",
            "116  0.949751  0.321176 -0.491146  3.212294e-01 -0.831938 -0.802697 -0.148164   \n",
            "117 -1.507214  0.110910 -0.665716  1.108233e-01 -0.538974 -0.516811 -0.442184   \n",
            "118 -1.015821 -0.424369 -0.825397 -4.243812e-01 -0.866187 -0.923831 -0.338391   \n",
            "119  1.195448 -0.336800 -0.898058 -3.368047e-01 -1.083957 -0.901250 -1.884142   \n",
            "\n",
            "          MNF         Min_p  \n",
            "0    0.006931  4.707924e-01  \n",
            "1    0.000000  8.757131e-01  \n",
            "2   -0.717355 -1.641302e-01  \n",
            "3   -0.882301  6.196219e-01  \n",
            "4    0.000000 -8.335912e-15  \n",
            "..        ...           ...  \n",
            "115 -1.214877 -1.046092e-01  \n",
            "116 -0.128795 -7.478797e-01  \n",
            "117  1.545219  7.088048e-01  \n",
            "118  2.421577  3.843745e-02  \n",
            "119  0.000000 -8.820100e-01  \n",
            "\n",
            "[120 rows x 9 columns]\n"
          ]
        }
      ],
      "source": [
        "print(df_num)"
      ]
    },
    {
      "cell_type": "code",
      "execution_count": null,
      "metadata": {
        "id": "U-9XDHrF9KST"
      },
      "outputs": [],
      "source": [
        "df_num=pd.concat([df_num,dummy],axis=1)"
      ]
    },
    {
      "cell_type": "code",
      "execution_count": null,
      "metadata": {
        "id": "gf6ElJI99KST"
      },
      "outputs": [],
      "source": [
        "y=df['target']\n"
      ]
    },
    {
      "cell_type": "code",
      "execution_count": null,
      "metadata": {
        "id": "LkZg1ozK9KST",
        "outputId": "e2b12c1b-6018-4cc2-a869-fb01579e43c0"
      },
      "outputs": [
        {
          "name": "stdout",
          "output_type": "stream",
          "text": [
            "           BR        WL       MAV            MV      RMSE       Max       SEN  \\\n",
            "0    0.704054  0.000000  1.558654 -4.002316e-17  3.131055  2.177324  1.352775   \n",
            "1    0.458358 -0.223579 -0.943160 -2.235735e-01  0.481702 -0.190918 -1.153135   \n",
            "2    0.458358  0.733023 -0.149412  7.331136e-01  0.494537 -0.321527  0.410469   \n",
            "3    0.949751  0.000000  2.725593 -4.002316e-17  1.661147  0.570676  1.634114   \n",
            "4    0.949751  0.019420 -0.741529  1.944731e-02  0.269921 -0.432067 -1.492855   \n",
            "..        ...       ...       ...           ...       ...       ...       ...   \n",
            "115  1.441144 -1.726622  0.255158 -1.726751e+00 -0.364919 -0.195256  0.557976   \n",
            "116  0.949751  0.321176 -0.491146  3.212294e-01 -0.831938 -0.802697 -0.148164   \n",
            "117 -1.507214  0.110910 -0.665716  1.108233e-01 -0.538974 -0.516811 -0.442184   \n",
            "118 -1.015821 -0.424369 -0.825397 -4.243812e-01 -0.866187 -0.923831 -0.338391   \n",
            "119  1.195448 -0.336800 -0.898058 -3.368047e-01 -1.083957 -0.901250 -1.884142   \n",
            "\n",
            "          MNF         Min_p  z  \n",
            "0    0.006931  4.707924e-01  1  \n",
            "1    0.000000  8.757131e-01  1  \n",
            "2   -0.717355 -1.641302e-01  1  \n",
            "3   -0.882301  6.196219e-01  0  \n",
            "4    0.000000 -8.335912e-15  0  \n",
            "..        ...           ... ..  \n",
            "115 -1.214877 -1.046092e-01  0  \n",
            "116 -0.128795 -7.478797e-01  0  \n",
            "117  1.545219  7.088048e-01  1  \n",
            "118  2.421577  3.843745e-02  1  \n",
            "119  0.000000 -8.820100e-01  1  \n",
            "\n",
            "[120 rows x 10 columns]\n"
          ]
        }
      ],
      "source": [
        "print(df_num)"
      ]
    },
    {
      "cell_type": "code",
      "execution_count": null,
      "metadata": {
        "id": "H_z5zdko9KSU"
      },
      "outputs": [],
      "source": [
        "x=df_num\n"
      ]
    },
    {
      "cell_type": "code",
      "execution_count": null,
      "metadata": {
        "id": "Jm7wrEYk9KSU",
        "outputId": "4ba22701-3e84-4426-f62e-63b8bf80c20a"
      },
      "outputs": [
        {
          "name": "stdout",
          "output_type": "stream",
          "text": [
            "(84, 10) (36, 10) (84,) (36,)\n"
          ]
        }
      ],
      "source": [
        "from sklearn.model_selection import train_test_split\n",
        "\n",
        "X_train, X_test, y_train, y_test = train_test_split(x, y, \n",
        "                                                    test_size =0.30,\n",
        "                                                    stratify=y,\n",
        "                                                    random_state= 123) \n",
        "print(X_train.shape, X_test.shape, y_train.shape, y_test.shape)\n"
      ]
    },
    {
      "cell_type": "markdown",
      "metadata": {
        "id": "h5Brcb7n9KSU"
      },
      "source": [
        "## Models"
      ]
    },
    {
      "cell_type": "code",
      "execution_count": null,
      "metadata": {
        "id": "r_G4Nd4w9KSV"
      },
      "outputs": [],
      "source": [
        "from sklearn.model_selection import GridSearchCV\n",
        "from sklearn.metrics import confusion_matrix\n",
        "from sklearn.metrics import classification_report\n",
        "from sklearn import metrics \n",
        "from sklearn.metrics import f1_score\n"
      ]
    },
    {
      "cell_type": "markdown",
      "metadata": {
        "id": "-AQL6P9q9KSV"
      },
      "source": [
        "### KNN"
      ]
    },
    {
      "cell_type": "code",
      "execution_count": null,
      "metadata": {
        "id": "FuNhOlHD9KSW"
      },
      "outputs": [],
      "source": [
        "from sklearn.neighbors import KNeighborsClassifier\n",
        "classifier = KNeighborsClassifier()\n",
        "parameters = {'n_neighbors':np.arange(5,20,1)} \n",
        "\n",
        "\n",
        "\n",
        "\n"
      ]
    },
    {
      "cell_type": "code",
      "execution_count": null,
      "metadata": {
        "id": "vz8AbbdF9KSX"
      },
      "outputs": [],
      "source": [
        "def hyperp_search(classifier, parameters):\n",
        "    gs = GridSearchCV(classifier, parameters, cv=3, scoring = 'accuracy', verbose=0, n_jobs=-1)\n",
        "    gs = gs.fit(X_train, y_train)\n",
        "    print(\"accuracy_train: %f using %s\" % (gs.best_score_, gs.best_params_))\n"
      ]
    },
    {
      "cell_type": "code",
      "execution_count": null,
      "metadata": {
        "id": "1LyRdgzH9KSX",
        "outputId": "4ba218f3-62f9-4704-dff4-f3ab3efc99bc"
      },
      "outputs": [
        {
          "name": "stdout",
          "output_type": "stream",
          "text": [
            "Fitting 10 folds for each of 15 candidates, totalling 150 fits\n"
          ]
        }
      ],
      "source": [
        "knn = KNeighborsClassifier()\n",
        "from sklearn.model_selection import GridSearchCV\n",
        "  \n",
        "# defining parameter range\n",
        "grid = GridSearchCV(knn, parameters, cv=10, scoring='accuracy', return_train_score=False,verbose=1)\n",
        "  \n",
        "# fitting the model for grid search\n",
        "grid_search=grid.fit(X_train, y_train)"
      ]
    },
    {
      "cell_type": "code",
      "execution_count": null,
      "metadata": {
        "id": "12P_YUQz9KSX",
        "outputId": "6beeb371-c488-42c3-81d3-86c3464a4070"
      },
      "outputs": [
        {
          "name": "stdout",
          "output_type": "stream",
          "text": [
            "{'n_neighbors': 19}\n"
          ]
        }
      ],
      "source": [
        "print(grid_search.best_params_)"
      ]
    },
    {
      "cell_type": "code",
      "execution_count": null,
      "metadata": {
        "id": "ZO0j_vet9KSX"
      },
      "outputs": [],
      "source": [
        "model_knn = KNeighborsClassifier(n_neighbors=19)"
      ]
    },
    {
      "cell_type": "code",
      "execution_count": null,
      "metadata": {
        "id": "1GM9mIBF9KSX",
        "outputId": "1ebb3164-c934-4769-86f3-644d7d51fd66"
      },
      "outputs": [
        {
          "name": "stdout",
          "output_type": "stream",
          "text": [
            "Confusion Matrix:\n",
            "[[4 3 1 1]\n",
            " [2 4 1 2]\n",
            " [2 1 4 2]\n",
            " [2 0 3 4]]\n",
            "Classification Report:”\n",
            "              precision    recall  f1-score   support\n",
            "\n",
            "   lateral L       0.40      0.44      0.42         9\n",
            "   lateral R       0.50      0.44      0.47         9\n",
            "       prone       0.44      0.44      0.44         9\n",
            "      supine       0.44      0.44      0.44         9\n",
            "\n",
            "    accuracy                           0.44        36\n",
            "   macro avg       0.45      0.44      0.45        36\n",
            "weighted avg       0.45      0.44      0.45        36\n",
            "\n",
            "Accuracy: 0.4444444444444444\n"
          ]
        }
      ],
      "source": [
        "from sklearn.metrics import classification_report, confusion_matrix, accuracy_score\n",
        "\n",
        "model_knn.fit(X_train, y_train)\n",
        "y_pred = model_knn.predict(X_test)\n",
        "result = confusion_matrix(y_test, y_pred)\n",
        "\n",
        "\n",
        "print('Confusion Matrix:')\n",
        "print(result)"
      ]
    },
    {
      "cell_type": "code",
      "execution_count": null,
      "metadata": {
        "id": "T38xwPog9KSY",
        "outputId": "e365cc23-b17d-4734-ba34-52cf1d5fec87"
      },
      "outputs": [
        {
          "name": "stdout",
          "output_type": "stream",
          "text": [
            "***RESULTS ON TEST SET***\n",
            "precision:  0.44722222222222224\n",
            "recall:  0.4444444444444444\n",
            "f1_score:  0.4451324389404885\n",
            "accuracy:  0.4444444444444444\n"
          ]
        }
      ],
      "source": [
        "## EVALUATE THE PREDICTION (ON Y TEST)\n",
        "model_knn.fit(X_train, y_train)\n",
        "y_pred=model_knn.predict(X_test)\n",
        "from sklearn import metrics \n",
        "print('***RESULTS ON TEST SET***')\n",
        "print(\"precision: \", metrics.precision_score(y_test, y_pred, average='macro')) # tp / (tp + fp)\n",
        "print(\"recall: \", metrics.recall_score(y_test, y_pred, average='macro')) # tp / (tp + fn)\n",
        "print(\"f1_score: \", metrics.f1_score(y_test, y_pred, average='macro')) #F1 = 2 * (precision * recall) / (precision + recall)\n",
        "print(\"accuracy: \", metrics.accuracy_score(y_test, y_pred)) # (tp+tn)/m\n",
        "\n"
      ]
    },
    {
      "cell_type": "code",
      "execution_count": null,
      "metadata": {
        "id": "uBUtk0uo9KSY",
        "outputId": "3d7d93f7-aba1-4ffd-a47f-f5e7c78066cd"
      },
      "outputs": [
        {
          "name": "stdout",
          "output_type": "stream",
          "text": [
            "[[4 3 1 1]\n",
            " [2 4 1 2]\n",
            " [2 1 4 2]\n",
            " [2 0 3 4]]\n"
          ]
        }
      ],
      "source": [
        "print(confusion_matrix(y_test, y_pred))"
      ]
    },
    {
      "cell_type": "code",
      "execution_count": null,
      "metadata": {
        "id": "ttij7iBe9KSZ"
      },
      "outputs": [],
      "source": [
        "## We can try on the train data\n",
        "y_pred_train=model_knn.predict(X_train)"
      ]
    },
    {
      "cell_type": "code",
      "execution_count": null,
      "metadata": {
        "id": "jDA7JnZO9KSZ",
        "outputId": "7f2b81fb-e093-47b9-a66a-7f0d4e3c0686"
      },
      "outputs": [
        {
          "data": {
            "text/plain": [
              "0.5121774585374181"
            ]
          },
          "execution_count": 247,
          "metadata": {},
          "output_type": "execute_result"
        }
      ],
      "source": [
        "metrics.f1_score(y_train, y_pred_train, average='macro')"
      ]
    },
    {
      "cell_type": "code",
      "execution_count": null,
      "metadata": {
        "id": "4JiDkF109KSZ"
      },
      "outputs": [],
      "source": [
        "## f1 train is similar to f1 test--> No overfitting"
      ]
    },
    {
      "cell_type": "markdown",
      "metadata": {
        "id": "ihgowiIm9KSa"
      },
      "source": [
        "### Tree Classifier"
      ]
    },
    {
      "cell_type": "code",
      "execution_count": null,
      "metadata": {
        "id": "lTbRdV4A9KSa"
      },
      "outputs": [],
      "source": [
        "from sklearn.tree import DecisionTreeClassifier\n",
        "\n",
        "classifier = DecisionTreeClassifier()\n",
        "parameters = {'criterion': ['entropy','gini'], \n",
        "              'max_depth': [2,3,4], \n",
        "              'min_samples_split': [5,10,20,100],\n",
        "              'min_samples_leaf': [2,4,10]} \n"
      ]
    },
    {
      "cell_type": "code",
      "execution_count": null,
      "metadata": {
        "id": "AJkET78V9KSa",
        "outputId": "c9c6d9c1-84b2-48c1-b037-710e84f0be0c"
      },
      "outputs": [
        {
          "name": "stdout",
          "output_type": "stream",
          "text": [
            "accuracy_train: 0.678571 using {'criterion': 'gini', 'max_depth': 3, 'min_samples_leaf': 2, 'min_samples_split': 5}\n"
          ]
        }
      ],
      "source": [
        "hyperp_search(classifier,parameters)"
      ]
    },
    {
      "cell_type": "code",
      "execution_count": null,
      "metadata": {
        "id": "3Z1sS33i9KSb"
      },
      "outputs": [],
      "source": [
        "model_tree = DecisionTreeClassifier(criterion='gini', max_depth=3, min_samples_leaf=2, min_samples_split=5)"
      ]
    },
    {
      "cell_type": "code",
      "execution_count": null,
      "metadata": {
        "id": "5NyUpPxE9KSb"
      },
      "outputs": [],
      "source": [
        ""
      ]
    },
    {
      "cell_type": "code",
      "execution_count": null,
      "metadata": {
        "id": "s4ATJptx9KSc",
        "outputId": "94753b6d-a939-4ca5-a584-b45ae2cb28d3"
      },
      "outputs": [
        {
          "name": "stdout",
          "output_type": "stream",
          "text": [
            "[[7 2 0 0]\n",
            " [4 5 0 0]\n",
            " [0 0 4 5]\n",
            " [0 0 3 6]]\n"
          ]
        },
        {
          "data": {
            "image/png": "[encoded data removed]",
            "text/plain": [
              "<Figure size 432x288 with 1 Axes>"
            ]
          },
          "metadata": {
            "needs_background": "light"
          },
          "output_type": "display_data"
        }
      ],
      "source": [
        "model_tree.fit(X_train, y_train)\n",
        "y_pred=model_tree.predict(X_test)\n",
        "from sklearn.metrics import confusion_matrix\n",
        "print(confusion_matrix(y_test, y_pred))\n",
        "# Plot confusion matrix\n",
        "sns.heatmap(confusion_matrix(y_test, y_pred), annot=True, fmt='d', cmap=\"Reds\", cbar=False);\n"
      ]
    },
    {
      "cell_type": "code",
      "execution_count": null,
      "metadata": {
        "id": "hAbpmHYB9KSc",
        "outputId": "53dfa9e7-1fc6-4312-d040-30c9c4b0d6e4"
      },
      "outputs": [
        {
          "name": "stdout",
          "output_type": "stream",
          "text": [
            "***RESULTS ON TEST SET***\n",
            "precision:  0.6168831168831168\n",
            "recall:  0.6111111111111112\n",
            "f1_score:  0.6062500000000001\n",
            "accuracy:  0.6111111111111112\n"
          ]
        }
      ],
      "source": [
        "## EVALUATE THE PREDICTION (ON Y TEST)\n",
        "from sklearn import metrics \n",
        "print('***RESULTS ON TEST SET***')\n",
        "print(\"precision: \", metrics.precision_score(y_test, y_pred, average='macro')) # tp / (tp + fp)\n",
        "print(\"recall: \", metrics.recall_score(y_test, y_pred, average='macro')) # tp / (tp + fn)\n",
        "print(\"f1_score: \", metrics.f1_score(y_test, y_pred, average='macro')) #F1 = 2 * (precision * recall) / (precision + recall)\n",
        "print(\"accuracy: \", metrics.accuracy_score(y_test, y_pred)) # (tp+tn)/m"
      ]
    },
    {
      "cell_type": "code",
      "execution_count": null,
      "metadata": {
        "id": "6uHHZatx9KSd",
        "outputId": "d9d01017-ba60-46d6-cf2f-f9c440e8d60e"
      },
      "outputs": [
        {
          "data": {
            "text/plain": [
              "0.831628787878788"
            ]
          },
          "execution_count": 203,
          "metadata": {},
          "output_type": "execute_result"
        }
      ],
      "source": [
        "## We can try on the train data\n",
        "y_pred_train=model_tree.predict(X_train)\n",
        "metrics.f1_score(y_train, y_pred_train, average='macro')"
      ]
    },
    {
      "cell_type": "code",
      "execution_count": null,
      "metadata": {
        "id": "7pv7oZzW9KSe",
        "outputId": "306023d5-0a66-4303-e73c-388b497502bd"
      },
      "outputs": [
        {
          "name": "stdout",
          "output_type": "stream",
          "text": [
            "|--- z <= 0.50\n",
            "|   |--- BR <= 0.21\n",
            "|   |   |--- MAV <= 1.52\n",
            "|   |   |   |--- class: lateral L\n",
            "|   |   |--- MAV >  1.52\n",
            "|   |   |   |--- class: lateral R\n",
            "|   |--- BR >  0.21\n",
            "|   |   |--- Max <= -0.48\n",
            "|   |   |   |--- class: lateral L\n",
            "|   |   |--- Max >  -0.48\n",
            "|   |   |   |--- class: lateral R\n",
            "|--- z >  0.50\n",
            "|   |--- Min_p <= 0.88\n",
            "|   |   |--- MV <= -0.26\n",
            "|   |   |   |--- class: prone\n",
            "|   |   |--- MV >  -0.26\n",
            "|   |   |   |--- class: supine\n",
            "|   |--- Min_p >  0.88\n",
            "|   |   |--- MNF <= -0.19\n",
            "|   |   |   |--- class: prone\n",
            "|   |   |--- MNF >  -0.19\n",
            "|   |   |   |--- class: prone\n",
            "\n"
          ]
        }
      ],
      "source": [
        "### Plotting the tree\n",
        "from sklearn import tree\n",
        "r = tree.export_text(model_tree,feature_names=X_test.columns.tolist(),max_depth=5)\n",
        "print(r)\n"
      ]
    },
    {
      "cell_type": "markdown",
      "metadata": {
        "id": "nYQxDKl59KSe"
      },
      "source": [
        "### Naive Bayes"
      ]
    },
    {
      "cell_type": "code",
      "execution_count": null,
      "metadata": {
        "id": "e-Oy5MiR9KSe"
      },
      "outputs": [],
      "source": [
        "from sklearn.naive_bayes import GaussianNB\n",
        "modelNB=GaussianNB()"
      ]
    },
    {
      "cell_type": "code",
      "execution_count": null,
      "metadata": {
        "id": "9es0NEpX9KSg"
      },
      "outputs": [],
      "source": [
        "modelNB.fit(X_train, y_train)\n",
        "y_pred=modelNB.predict(X_test)"
      ]
    },
    {
      "cell_type": "code",
      "execution_count": null,
      "metadata": {
        "id": "k6YxeB839KSg",
        "outputId": "98c82313-dfd5-49b6-e67d-f39fd34d50fa"
      },
      "outputs": [
        {
          "name": "stdout",
          "output_type": "stream",
          "text": [
            "f1_score:  0.4984520123839009\n",
            "f1_test:  0.4984520123839009\n"
          ]
        }
      ],
      "source": [
        "from sklearn.metrics import f1_score\n",
        "print(\"f1_score: \", f1_score(y_test, y_pred, average='macro'))\n",
        "\n",
        "print(\"f1_test: \", f1_score(y_test, y_pred, average='macro'))"
      ]
    },
    {
      "cell_type": "code",
      "execution_count": null,
      "metadata": {
        "id": "uZxdpjYS9KSh",
        "outputId": "c6335594-8666-4e67-d684-8c9736f6680a"
      },
      "outputs": [
        {
          "name": "stdout",
          "output_type": "stream",
          "text": [
            "[[4 5 0 0]\n",
            " [4 5 0 0]\n",
            " [0 0 5 4]\n",
            " [0 0 5 4]]\n"
          ]
        },
        {
          "data": {
            "image/png": "[encoded data removed]",
            "text/plain": [
              "<Figure size 432x288 with 1 Axes>"
            ]
          },
          "metadata": {
            "needs_background": "light"
          },
          "output_type": "display_data"
        }
      ],
      "source": [
        "print(confusion_matrix(y_test, y_pred))\n",
        "sns.heatmap(confusion_matrix(y_test, y_pred), annot=True, fmt='d', cmap=\"Reds\", cbar=False);\n"
      ]
    },
    {
      "cell_type": "code",
      "execution_count": null,
      "metadata": {
        "id": "G1zgtxTh9KSi",
        "outputId": "76caa521-634f-4b5e-f91a-72edeb3718de"
      },
      "outputs": [
        {
          "data": {
            "text/plain": [
              "0.7211779598747684"
            ]
          },
          "execution_count": 209,
          "metadata": {},
          "output_type": "execute_result"
        }
      ],
      "source": [
        "## We can try on the train data\n",
        "y_pred_train=modelNB.predict(X_train)\n",
        "metrics.f1_score(y_train, y_pred_train, average='macro')"
      ]
    },
    {
      "cell_type": "code",
      "execution_count": null,
      "metadata": {
        "id": "NOgHjpwD9KSi",
        "outputId": "653a613e-cb56-4472-c8f5-5fb2b12d8dd6"
      },
      "outputs": [
        {
          "name": "stdout",
          "output_type": "stream",
          "text": [
            "***RESULTS ON TEST SET***\n",
            "precision:  0.5\n",
            "recall:  0.5\n",
            "f1_score:  0.4984520123839009\n",
            "accuracy:  0.5\n"
          ]
        }
      ],
      "source": [
        "from sklearn import metrics \n",
        "print('***RESULTS ON TEST SET***')\n",
        "print(\"precision: \", metrics.precision_score(y_test, y_pred, average='macro')) # tp / (tp + fp)\n",
        "print(\"recall: \", metrics.recall_score(y_test, y_pred, average='macro')) # tp / (tp + fn)\n",
        "print(\"f1_score: \", metrics.f1_score(y_test, y_pred, average='macro')) #F1 = 2 * (precision * recall) / (precision + recall)\n",
        "print(\"accuracy: \", metrics.accuracy_score(y_test, y_pred)) # (tp+tn)/m"
      ]
    },
    {
      "cell_type": "code",
      "execution_count": null,
      "metadata": {
        "id": "Q3VcHtzA9KSj"
      },
      "outputs": [],
      "source": [
        ""
      ]
    },
    {
      "cell_type": "markdown",
      "metadata": {
        "id": "seBUxb-E9KSj"
      },
      "source": [
        "### Logistic Regression"
      ]
    },
    {
      "cell_type": "code",
      "execution_count": null,
      "metadata": {
        "id": "bxM8fn1J9KSk",
        "outputId": "35b3aa33-7726-4ac8-e0ea-d3022d282787"
      },
      "outputs": [
        {
          "name": "stdout",
          "output_type": "stream",
          "text": [
            "accuracy_train: 0.511905 using {'C': 100, 'max_iter': 1000, 'penalty': 'l2'}\n"
          ]
        }
      ],
      "source": [
        "from sklearn.linear_model import LogisticRegression\n",
        "\n",
        "classifier = LogisticRegression()\n",
        "parameters = {\"C\":[0.1,1,10,100],\"penalty\":['l2'], \"max_iter\":[1000] }\n",
        "\n",
        "\n",
        "hyperp_search(classifier,parameters)\n"
      ]
    },
    {
      "cell_type": "code",
      "execution_count": null,
      "metadata": {
        "id": "oYgJiDsn9KSl"
      },
      "outputs": [],
      "source": [
        "model = LogisticRegression(C=1, penalty='l2', max_iter=1000)"
      ]
    },
    {
      "cell_type": "code",
      "execution_count": null,
      "metadata": {
        "id": "zfzzdSSW9KSn",
        "outputId": "fbddf425-e6a9-4ce6-bb6a-d6a0515bf34d"
      },
      "outputs": [
        {
          "name": "stdout",
          "output_type": "stream",
          "text": [
            "f1_score:  0.5492260061919504\n",
            "f1_test:  0.5492260061919504\n"
          ]
        }
      ],
      "source": [
        "model.fit(X_train, y_train)\n",
        "y_pred=model.predict(X_test)\n",
        "\n",
        "from sklearn.metrics import f1_score\n",
        "print(\"f1_score: \", f1_score(y_test, y_pred, average='macro'))\n",
        "\n",
        "print(\"f1_test: \", f1_score(y_test, y_pred, average='macro'))\n",
        "\n"
      ]
    },
    {
      "cell_type": "code",
      "execution_count": null,
      "metadata": {
        "id": "enMzPJcQ9KSo",
        "outputId": "631e8054-e194-4ad2-f14b-cd1ce364875a"
      },
      "outputs": [
        {
          "name": "stdout",
          "output_type": "stream",
          "text": [
            "[[4 5 0 0]\n",
            " [2 7 0 0]\n",
            " [0 0 4 5]\n",
            " [0 0 4 5]]\n"
          ]
        },
        {
          "data": {
            "image/png": "[encoded data removed]",
            "text/plain": [
              "<Figure size 432x288 with 1 Axes>"
            ]
          },
          "metadata": {
            "needs_background": "light"
          },
          "output_type": "display_data"
        }
      ],
      "source": [
        "print(confusion_matrix(y_test, y_pred))\n",
        "sns.heatmap(confusion_matrix(y_test, y_pred), annot=True, fmt='d', cmap=\"Reds\", cbar=False);"
      ]
    },
    {
      "cell_type": "code",
      "execution_count": null,
      "metadata": {
        "id": "tIGyxgrE9KSo",
        "outputId": "913e857f-4ac7-417f-d0b8-8bf9b967f447"
      },
      "outputs": [
        {
          "data": {
            "text/plain": [
              "0.6771625233148718"
            ]
          },
          "execution_count": 215,
          "metadata": {},
          "output_type": "execute_result"
        }
      ],
      "source": [
        "## We can try on the train data\n",
        "y_pred_train=model.predict(X_train)\n",
        "metrics.f1_score(y_train, y_pred_train, average='macro')"
      ]
    },
    {
      "cell_type": "code",
      "execution_count": null,
      "metadata": {
        "id": "dG33zgLf9KSo",
        "outputId": "1a482afb-ed16-46d0-e963-8e2f5d00d5c8"
      },
      "outputs": [
        {
          "name": "stdout",
          "output_type": "stream",
          "text": [
            "***RESULTS ON TEST SET***\n",
            "precision:  0.5625\n",
            "recall:  0.5555555555555556\n",
            "f1_score:  0.5492260061919504\n",
            "accuracy:  0.5555555555555556\n"
          ]
        }
      ],
      "source": [
        "from sklearn import metrics \n",
        "print('***RESULTS ON TEST SET***')\n",
        "print(\"precision: \", metrics.precision_score(y_test, y_pred, average='macro')) # tp / (tp + fp)\n",
        "print(\"recall: \", metrics.recall_score(y_test, y_pred, average='macro')) # tp / (tp + fn)\n",
        "print(\"f1_score: \", metrics.f1_score(y_test, y_pred, average='macro')) #F1 = 2 * (precision * recall) / (precision + recall)\n",
        "print(\"accuracy: \", metrics.accuracy_score(y_test, y_pred)) # (tp+tn)/m"
      ]
    },
    {
      "cell_type": "code",
      "execution_count": null,
      "metadata": {
        "id": "w7L7mTQ-9KSp"
      },
      "outputs": [],
      "source": [
        ""
      ]
    },
    {
      "cell_type": "markdown",
      "metadata": {
        "id": "TmXdG0Mr9KSq"
      },
      "source": [
        "### Multi-layer Perceptron Classifier"
      ]
    },
    {
      "cell_type": "code",
      "execution_count": null,
      "metadata": {
        "id": "Z3nKyWyy9KSq",
        "outputId": "9c19bcb1-1c5c-47a0-d013-7b6d8ba46a15"
      },
      "outputs": [
        {
          "name": "stdout",
          "output_type": "stream",
          "text": [
            "accuracy_train: 0.642857 using {'alpha': 0.0001, 'hidden_layer_sizes': (100, 20, 5), 'max_iter': 10000}\n"
          ]
        }
      ],
      "source": [
        "# Multi-layer Perceptron classifier\n",
        "\n",
        "from sklearn.neural_network import MLPClassifier\n",
        "\n",
        "classifier = MLPClassifier()\n",
        "parameters = {\"hidden_layer_sizes\":[(10, 5),(100,20,5)],  \"max_iter\": [2000,10000], \"alpha\": [0.001,0.0001]}\n",
        "\n",
        "hyperp_search(classifier,parameters)\n"
      ]
    },
    {
      "cell_type": "code",
      "execution_count": null,
      "metadata": {
        "id": "A8WJEZU09KSs"
      },
      "outputs": [],
      "source": [
        "model_MLP=MLPClassifier(hidden_layer_sizes=(100,20,5), alpha=0.001, max_iter=2000)\n",
        "\n"
      ]
    },
    {
      "cell_type": "code",
      "execution_count": null,
      "metadata": {
        "id": "FWvTd0uN9KSs"
      },
      "outputs": [],
      "source": [
        "model_MLP.fit(X_train, y_train)\n",
        "y_pred=model_MLP.predict(X_test)\n",
        "\n"
      ]
    },
    {
      "cell_type": "code",
      "execution_count": null,
      "metadata": {
        "id": "A76sxD629KSs",
        "outputId": "74d0073c-3650-442b-cf32-4bb1bb42351d"
      },
      "outputs": [
        {
          "name": "stdout",
          "output_type": "stream",
          "text": [
            "[[2 7 0 0]\n",
            " [2 7 0 0]\n",
            " [0 1 4 4]\n",
            " [1 0 5 3]]\n"
          ]
        },
        {
          "name": "stderr",
          "output_type": "stream",
          "text": [
            "C:\\Users\\Laura\\AppData\\Local\\Temp\\ipykernel_25388\\2586729041.py:3: UserWarning: FixedFormatter should only be used together with FixedLocator\n",
            "  ax.xaxis.set_ticklabels(['supino','destra','sinistra']); ax.yaxis.set_ticklabels(['supino','destra','sinistra']);\n"
          ]
        },
        {
          "data": {
            "image/png": "[encoded data removed]",
            "text/plain": [
              "<Figure size 432x288 with 1 Axes>"
            ]
          },
          "metadata": {
            "needs_background": "light"
          },
          "output_type": "display_data"
        }
      ],
      "source": [
        "print(confusion_matrix(y_test, y_pred))\n",
        "sns.heatmap(confusion_matrix(y_test, y_pred), annot=True, fmt='d', cmap=\"Reds\", cbar=False);\n",
        "ax.xaxis.set_ticklabels(['supino','destra','sinistra']); ax.yaxis.set_ticklabels(['supino','destra','sinistra']);"
      ]
    },
    {
      "cell_type": "code",
      "execution_count": null,
      "metadata": {
        "id": "CmOpuhut9KSt",
        "outputId": "b311b1e2-6263-4ad6-f1f2-3f0c52f79e9c"
      },
      "outputs": [
        {
          "data": {
            "text/plain": [
              "1.0"
            ]
          },
          "execution_count": 221,
          "metadata": {},
          "output_type": "execute_result"
        }
      ],
      "source": [
        "## We can try on the train data\n",
        "y_pred_train=model_MLP.predict(X_train)\n",
        "metrics.f1_score(y_train, y_pred_train, average='macro')"
      ]
    },
    {
      "cell_type": "code",
      "execution_count": null,
      "metadata": {
        "id": "LxAC92SS9KSt",
        "outputId": "6a5febbd-995e-4852-dceb-baa38661780a"
      },
      "outputs": [
        {
          "name": "stdout",
          "output_type": "stream",
          "text": [
            "***RESULTS ON TEST SET***\n",
            "precision:  0.43492063492063493\n",
            "recall:  0.4444444444444444\n",
            "f1_score:  0.42212301587301587\n",
            "accuracy:  0.4444444444444444\n"
          ]
        }
      ],
      "source": [
        "from sklearn import metrics \n",
        "print('***RESULTS ON TEST SET***')\n",
        "print(\"precision: \", metrics.precision_score(y_test, y_pred, average='macro')) # tp / (tp + fp)\n",
        "print(\"recall: \", metrics.recall_score(y_test, y_pred, average='macro')) # tp / (tp + fn)\n",
        "print(\"f1_score: \", metrics.f1_score(y_test, y_pred, average='macro')) #F1 = 2 * (precision * recall) / (precision + recall)\n",
        "print(\"accuracy: \", metrics.accuracy_score(y_test, y_pred)) # (tp+tn)/m"
      ]
    },
    {
      "cell_type": "markdown",
      "metadata": {
        "id": "_7pe-ZaV9KSt"
      },
      "source": [
        "### SVM"
      ]
    },
    {
      "cell_type": "code",
      "execution_count": null,
      "metadata": {
        "id": "6G-0mXAU9KSu"
      },
      "outputs": [],
      "source": [
        "from sklearn.svm import SVC\n",
        "\n",
        "classifier = SVC()\n",
        "model_SVM=SVC(kernel='linear',probability=True)\n",
        "\n"
      ]
    },
    {
      "cell_type": "code",
      "execution_count": null,
      "metadata": {
        "id": "474hVQ0X9KSu"
      },
      "outputs": [],
      "source": [
        ""
      ]
    },
    {
      "cell_type": "code",
      "execution_count": null,
      "metadata": {
        "id": "3i_Kr93x9KSu"
      },
      "outputs": [],
      "source": [
        "model_SVM.fit(X_train, y_train)\n",
        "y_pred=model_SVM.predict(X_test)\n"
      ]
    },
    {
      "cell_type": "code",
      "execution_count": null,
      "metadata": {
        "id": "BuUXym6k9KSv",
        "outputId": "8f490331-ec7c-4e23-9767-486b3e44d904"
      },
      "outputs": [
        {
          "name": "stdout",
          "output_type": "stream",
          "text": [
            "[[5 4 0 0]\n",
            " [2 7 0 0]\n",
            " [0 0 6 3]\n",
            " [0 0 6 3]]\n"
          ]
        },
        {
          "data": {
            "image/png": "[encoded data removed]",
            "text/plain": [
              "<Figure size 432x288 with 1 Axes>"
            ]
          },
          "metadata": {
            "needs_background": "light"
          },
          "output_type": "display_data"
        }
      ],
      "source": [
        "print(confusion_matrix(y_test, y_pred))\n",
        "sns.heatmap(confusion_matrix(y_test, y_pred), annot=True, fmt='d', cmap=\"Reds\", cbar=False);"
      ]
    },
    {
      "cell_type": "code",
      "execution_count": null,
      "metadata": {
        "id": "2TwlpDEd9KSw",
        "outputId": "ef4eedb5-1cbf-4163-997a-bb1f9d1e15b2"
      },
      "outputs": [
        {
          "data": {
            "text/plain": [
              "0.6852607709750567"
            ]
          },
          "execution_count": 226,
          "metadata": {},
          "output_type": "execute_result"
        }
      ],
      "source": [
        "## We can try on the train data\n",
        "y_pred_train=model_SVM.predict(X_train)\n",
        "metrics.f1_score(y_train, y_pred_train, average='macro')"
      ]
    },
    {
      "cell_type": "code",
      "execution_count": null,
      "metadata": {
        "id": "jtsMsLpH9KSx",
        "outputId": "efcdbdc1-c713-4175-8c67-89dbaa63c8ac"
      },
      "outputs": [
        {
          "name": "stdout",
          "output_type": "stream",
          "text": [
            "***RESULTS ON TEST SET***\n",
            "precision:  0.5876623376623377\n",
            "recall:  0.5833333333333334\n",
            "f1_score:  0.5741071428571429\n",
            "accuracy:  0.5833333333333334\n"
          ]
        }
      ],
      "source": [
        "from sklearn import metrics \n",
        "print('***RESULTS ON TEST SET***')\n",
        "print(\"precision: \", metrics.precision_score(y_test, y_pred, average='macro')) # tp / (tp + fp)\n",
        "print(\"recall: \", metrics.recall_score(y_test, y_pred,average='macro')) # tp / (tp + fn)\n",
        "print(\"f1_score: \", metrics.f1_score(y_test, y_pred, average='macro')) #F1 = 2 * (precision * recall) / (precision + recall)\n",
        "print(\"accuracy: \", metrics.accuracy_score(y_test, y_pred)) # (tp+tn)/m"
      ]
    },
    {
      "cell_type": "markdown",
      "metadata": {
        "id": "ZfS1Owrr9KSy"
      },
      "source": [
        "### Random Forest"
      ]
    },
    {
      "cell_type": "code",
      "execution_count": null,
      "metadata": {
        "id": "qMypBXW29KSy"
      },
      "outputs": [],
      "source": [
        "parameters = {'n_estimators':np.arange(1,100,20),\n",
        "              'criterion': ['entropy','gini'], \n",
        "              'max_depth': np.arange(2,5,1), \n",
        "              'min_samples_split': np.arange(1,40,10),\n",
        "              'min_samples_leaf': np.arange(1,40,10)} \n",
        "\n"
      ]
    },
    {
      "cell_type": "code",
      "execution_count": null,
      "metadata": {
        "id": "4euZUzJ99KSz",
        "outputId": "59ff1a6d-f8c4-46ff-e39a-f4104e64e1f6"
      },
      "outputs": [
        {
          "name": "stdout",
          "output_type": "stream",
          "text": [
            "accuracy_train: 0.666667 using {'criterion': 'entropy', 'max_depth': 4, 'min_samples_leaf': 11, 'min_samples_split': 11, 'n_estimators': 81}\n"
          ]
        },
        {
          "name": "stderr",
          "output_type": "stream",
          "text": [
            "c:\\Users\\Laura\\AppData\\Local\\Programs\\Python\\Python310\\lib\\site-packages\\sklearn\\model_selection\\_validation.py:378: FitFailedWarning: \n",
            "360 fits failed out of a total of 1440.\n",
            "The score on these train-test partitions for these parameters will be set to nan.\n",
            "If these failures are not expected, you can try to debug them by setting error_score='raise'.\n",
            "\n",
            "Below are more details about the failures:\n",
            "--------------------------------------------------------------------------------\n",
            "360 fits failed with the following error:\n",
            "Traceback (most recent call last):\n",
            "  File \"c:\\Users\\Laura\\AppData\\Local\\Programs\\Python\\Python310\\lib\\site-packages\\sklearn\\model_selection\\_validation.py\", line 686, in _fit_and_score\n",
            "    estimator.fit(X_train, y_train, **fit_params)\n",
            "  File \"c:\\Users\\Laura\\AppData\\Local\\Programs\\Python\\Python310\\lib\\site-packages\\sklearn\\ensemble\\_forest.py\", line 476, in fit\n",
            "    trees = Parallel(\n",
            "  File \"c:\\Users\\Laura\\AppData\\Local\\Programs\\Python\\Python310\\lib\\site-packages\\joblib\\parallel.py\", line 1043, in __call__\n",
            "    if self.dispatch_one_batch(iterator):\n",
            "  File \"c:\\Users\\Laura\\AppData\\Local\\Programs\\Python\\Python310\\lib\\site-packages\\joblib\\parallel.py\", line 861, in dispatch_one_batch\n",
            "    self._dispatch(tasks)\n",
            "  File \"c:\\Users\\Laura\\AppData\\Local\\Programs\\Python\\Python310\\lib\\site-packages\\joblib\\parallel.py\", line 779, in _dispatch\n",
            "    job = self._backend.apply_async(batch, callback=cb)\n",
            "  File \"c:\\Users\\Laura\\AppData\\Local\\Programs\\Python\\Python310\\lib\\site-packages\\joblib\\_parallel_backends.py\", line 208, in apply_async\n",
            "    result = ImmediateResult(func)\n",
            "  File \"c:\\Users\\Laura\\AppData\\Local\\Programs\\Python\\Python310\\lib\\site-packages\\joblib\\_parallel_backends.py\", line 572, in __init__\n",
            "    self.results = batch()\n",
            "  File \"c:\\Users\\Laura\\AppData\\Local\\Programs\\Python\\Python310\\lib\\site-packages\\joblib\\parallel.py\", line 262, in __call__\n",
            "    return [func(*args, **kwargs)\n",
            "  File \"c:\\Users\\Laura\\AppData\\Local\\Programs\\Python\\Python310\\lib\\site-packages\\joblib\\parallel.py\", line 262, in <listcomp>\n",
            "    return [func(*args, **kwargs)\n",
            "  File \"c:\\Users\\Laura\\AppData\\Local\\Programs\\Python\\Python310\\lib\\site-packages\\sklearn\\utils\\fixes.py\", line 117, in __call__\n",
            "    return self.function(*args, **kwargs)\n",
            "  File \"c:\\Users\\Laura\\AppData\\Local\\Programs\\Python\\Python310\\lib\\site-packages\\sklearn\\ensemble\\_forest.py\", line 189, in _parallel_build_trees\n",
            "    tree.fit(X, y, sample_weight=curr_sample_weight, check_input=False)\n",
            "  File \"c:\\Users\\Laura\\AppData\\Local\\Programs\\Python\\Python310\\lib\\site-packages\\sklearn\\tree\\_classes.py\", line 969, in fit\n",
            "    super().fit(\n",
            "  File \"c:\\Users\\Laura\\AppData\\Local\\Programs\\Python\\Python310\\lib\\site-packages\\sklearn\\tree\\_classes.py\", line 265, in fit\n",
            "    check_scalar(\n",
            "  File \"c:\\Users\\Laura\\AppData\\Local\\Programs\\Python\\Python310\\lib\\site-packages\\sklearn\\utils\\validation.py\", line 1476, in check_scalar\n",
            "    raise ValueError(\n",
            "ValueError: min_samples_split == 1, must be >= 2.\n",
            "\n",
            "  warnings.warn(some_fits_failed_message, FitFailedWarning)\n",
            "c:\\Users\\Laura\\AppData\\Local\\Programs\\Python\\Python310\\lib\\site-packages\\sklearn\\model_selection\\_search.py:953: UserWarning: One or more of the test scores are non-finite: [       nan        nan        nan        nan        nan 0.46428571\n",
            " 0.55952381 0.55952381 0.57142857 0.61904762 0.4047619  0.61904762\n",
            " 0.58333333 0.54761905 0.5952381  0.3452381  0.5952381  0.53571429\n",
            " 0.47619048 0.60714286        nan        nan        nan        nan\n",
            "        nan 0.30952381 0.63095238 0.5952381  0.60714286 0.6547619\n",
            " 0.26190476 0.5952381  0.61904762 0.5952381  0.58333333 0.30952381\n",
            " 0.61904762 0.5952381  0.58333333 0.64285714        nan        nan\n",
            "        nan        nan        nan 0.25       0.25       0.25\n",
            " 0.33333333 0.25       0.25       0.25       0.25       0.25\n",
            " 0.33333333 0.25       0.25       0.25       0.21428571 0.25\n",
            "        nan        nan        nan        nan        nan 0.25\n",
            " 0.25       0.25       0.25       0.25       0.25       0.25\n",
            " 0.25       0.25       0.25       0.25       0.25       0.25\n",
            " 0.25       0.25              nan        nan        nan        nan\n",
            "        nan 0.3452381  0.60714286 0.58333333 0.60714286 0.58333333\n",
            " 0.3452381  0.61904762 0.60714286 0.63095238 0.55952381 0.29761905\n",
            " 0.52380952 0.64285714 0.57142857 0.53571429        nan        nan\n",
            "        nan        nan        nan 0.46428571 0.6547619  0.60714286\n",
            " 0.57142857 0.6547619  0.27380952 0.55952381 0.64285714 0.63095238\n",
            " 0.63095238 0.41666667 0.55952381 0.58333333 0.57142857 0.61904762\n",
            "        nan        nan        nan        nan        nan 0.25\n",
            " 0.25       0.25       0.25       0.25       0.25       0.25\n",
            " 0.25       0.25       0.25       0.25       0.25       0.25\n",
            " 0.25       0.25              nan        nan        nan        nan\n",
            "        nan 0.25       0.25       0.25       0.25       0.25\n",
            " 0.25       0.25       0.25       0.25       0.25       0.25\n",
            " 0.25       0.25       0.25       0.25              nan        nan\n",
            "        nan        nan        nan 0.48809524 0.58333333 0.60714286\n",
            " 0.5952381  0.6547619  0.39285714 0.58333333 0.54761905 0.60714286\n",
            " 0.63095238 0.32142857 0.54761905 0.55952381 0.53571429 0.57142857\n",
            "        nan        nan        nan        nan        nan 0.33333333\n",
            " 0.63095238 0.63095238 0.57142857 0.66666667 0.41666667 0.58333333\n",
            " 0.58333333 0.64285714 0.60714286 0.33333333 0.5952381  0.55952381\n",
            " 0.64285714 0.64285714        nan        nan        nan        nan\n",
            "        nan 0.25       0.25       0.23809524 0.25       0.25\n",
            " 0.25       0.25       0.25       0.25       0.25       0.25\n",
            " 0.25       0.25       0.25       0.25              nan        nan\n",
            "        nan        nan        nan 0.25       0.25       0.25\n",
            " 0.25       0.25       0.25       0.25       0.25       0.25\n",
            " 0.25       0.25       0.25       0.25       0.25       0.25\n",
            "        nan        nan        nan        nan        nan 0.4047619\n",
            " 0.57142857 0.55952381 0.64285714 0.63095238 0.22619048 0.5952381\n",
            " 0.57142857 0.57142857 0.5952381  0.27380952 0.6547619  0.5952381\n",
            " 0.55952381 0.63095238        nan        nan        nan        nan\n",
            "        nan 0.3452381  0.58333333 0.5952381  0.6547619  0.6547619\n",
            " 0.42857143 0.61904762 0.5952381  0.64285714 0.64285714 0.41666667\n",
            " 0.63095238 0.53571429 0.57142857 0.6547619         nan        nan\n",
            "        nan        nan        nan 0.25       0.25       0.25\n",
            " 0.21428571 0.26190476 0.25       0.25       0.25       0.25\n",
            " 0.25       0.25       0.28571429 0.25       0.25       0.33333333\n",
            "        nan        nan        nan        nan        nan 0.25\n",
            " 0.25       0.25       0.25       0.25       0.25       0.25\n",
            " 0.25       0.25       0.25       0.25       0.25       0.25\n",
            " 0.25       0.25              nan        nan        nan        nan\n",
            "        nan 0.55952381 0.58333333 0.58333333 0.5952381  0.60714286\n",
            " 0.4047619  0.53571429 0.57142857 0.5952381  0.5952381  0.36904762\n",
            " 0.60714286 0.5952381  0.5952381  0.5952381         nan        nan\n",
            "        nan        nan        nan 0.42857143 0.54761905 0.63095238\n",
            " 0.5952381  0.63095238 0.36904762 0.60714286 0.61904762 0.60714286\n",
            " 0.63095238 0.35714286 0.54761905 0.63095238 0.58333333 0.6547619\n",
            "        nan        nan        nan        nan        nan 0.25\n",
            " 0.25       0.25       0.25       0.25       0.25       0.25\n",
            " 0.25       0.25       0.25       0.25       0.25       0.25\n",
            " 0.25       0.25              nan        nan        nan        nan\n",
            "        nan 0.25       0.25       0.25       0.25       0.25\n",
            " 0.25       0.25       0.25       0.25       0.25       0.25\n",
            " 0.25       0.25       0.25       0.25              nan        nan\n",
            "        nan        nan        nan 0.41666667 0.5952381  0.58333333\n",
            " 0.58333333 0.58333333 0.36904762 0.58333333 0.64285714 0.60714286\n",
            " 0.63095238 0.41666667 0.55952381 0.61904762 0.6547619  0.61904762\n",
            "        nan        nan        nan        nan        nan 0.32142857\n",
            " 0.53571429 0.63095238 0.60714286 0.58333333 0.28571429 0.5952381\n",
            " 0.60714286 0.61904762 0.66666667 0.32142857 0.5952381  0.54761905\n",
            " 0.58333333 0.64285714        nan        nan        nan        nan\n",
            "        nan 0.25       0.25       0.25       0.25       0.28571429\n",
            " 0.25       0.25       0.25       0.25       0.25       0.25\n",
            " 0.25       0.25       0.25       0.25              nan        nan\n",
            "        nan        nan        nan 0.25       0.25       0.25\n",
            " 0.25       0.25       0.25       0.25       0.25       0.25\n",
            " 0.25       0.25       0.25       0.25       0.25       0.25      ]\n",
            "  warnings.warn(\n"
          ]
        }
      ],
      "source": [
        "from sklearn.ensemble import RandomForestClassifier\n",
        "\n",
        "classifier = RandomForestClassifier()\n",
        "hyperp_search(classifier,parameters)"
      ]
    },
    {
      "cell_type": "code",
      "execution_count": null,
      "metadata": {
        "id": "Dbpnj71c9KSz"
      },
      "outputs": [],
      "source": [
        "model_RF=RandomForestClassifier(n_estimators=81, criterion='entropy', max_depth=4, min_samples_split=11, min_samples_leaf=11)"
      ]
    },
    {
      "cell_type": "code",
      "execution_count": null,
      "metadata": {
        "id": "A2u-icuv9KSz"
      },
      "outputs": [],
      "source": [
        "model_RF.fit(X_train, y_train)\n",
        "y_pred=model_RF.predict(X_test)"
      ]
    },
    {
      "cell_type": "code",
      "execution_count": null,
      "metadata": {
        "id": "9vmXwmg09KS0",
        "outputId": "799429c0-f78e-4fb4-b0a2-ec353a9d92c4"
      },
      "outputs": [
        {
          "name": "stdout",
          "output_type": "stream",
          "text": [
            "[[5 4 0 0]\n",
            " [3 6 0 0]\n",
            " [0 0 6 3]\n",
            " [0 0 6 3]]\n"
          ]
        },
        {
          "name": "stderr",
          "output_type": "stream",
          "text": [
            "C:\\Users\\Laura\\AppData\\Local\\Temp\\ipykernel_25388\\2804557806.py:3: UserWarning: FixedFormatter should only be used together with FixedLocator\n",
            "  ax.xaxis.set_ticklabels(['supino','destra','sinistra']); ax.yaxis.set_ticklabels(['supino','destra','sinistra']);\n"
          ]
        },
        {
          "data": {
            "image/png": "[encoded data removed]",
            "text/plain": [
              "<Figure size 432x288 with 1 Axes>"
            ]
          },
          "metadata": {
            "needs_background": "light"
          },
          "output_type": "display_data"
        }
      ],
      "source": [
        "\n",
        "print(confusion_matrix(y_test, y_pred))\n",
        "sns.heatmap(confusion_matrix(y_test, y_pred), annot=True, fmt='d', cmap=\"Reds\", cbar=False);\n",
        "ax.xaxis.set_ticklabels(['supino','destra','sinistra']); ax.yaxis.set_ticklabels(['supino','destra','sinistra']);"
      ]
    },
    {
      "cell_type": "code",
      "execution_count": null,
      "metadata": {
        "id": "i52Q46vR9KS0",
        "outputId": "a8c09c8e-9f4c-450c-9627-cdf5e14e99ce"
      },
      "outputs": [
        {
          "data": {
            "text/plain": [
              "0.8685120435120435"
            ]
          },
          "execution_count": 260,
          "metadata": {},
          "output_type": "execute_result"
        }
      ],
      "source": [
        "## We can try on the train data\n",
        "y_pred_train=model_RF.predict(X_train)\n",
        "metrics.f1_score(y_train, y_pred_train, average='macro')"
      ]
    },
    {
      "cell_type": "code",
      "execution_count": null,
      "metadata": {
        "id": "9jLhjkRR9KS0",
        "outputId": "6678feda-f274-4584-ab35-b5b3e5b92d12"
      },
      "outputs": [
        {
          "name": "stdout",
          "output_type": "stream",
          "text": [
            "***RESULTS ON TEST SET***\n",
            "precision:  0.55625\n",
            "recall:  0.5555555555555556\n",
            "f1_score:  0.5478107032286599\n",
            "accuracy:  0.5555555555555556\n"
          ]
        }
      ],
      "source": [
        "from sklearn import metrics \n",
        "print('***RESULTS ON TEST SET***')\n",
        "print(\"precision: \", metrics.precision_score(y_test, y_pred, average='macro')) # tp / (tp + fp)\n",
        "print(\"recall: \", metrics.recall_score(y_test, y_pred, average='macro'))# tp / (tp + fn)\n",
        "print(\"f1_score: \", metrics.f1_score(y_test, y_pred, average='macro')) #F1 = 2 * (precision * recall) / (precision + recall)\n",
        "print(\"accuracy: \", metrics.accuracy_score(y_test, y_pred)) # (tp+tn)/m"
      ]
    },
    {
      "cell_type": "code",
      "execution_count": null,
      "metadata": {
        "id": "Cktd6Chr9KS1"
      },
      "outputs": [],
      "source": [
        ""
      ]
    },
    {
      "cell_type": "code",
      "execution_count": null,
      "metadata": {
        "id": "oi5vWSu29KS1"
      },
      "outputs": [],
      "source": [
        ""
      ]
    },
    {
      "cell_type": "code",
      "execution_count": null,
      "metadata": {
        "id": "TVmXeVTQ9KS1"
      },
      "outputs": [],
      "source": [
        ""
      ]
    },
    {
      "cell_type": "code",
      "execution_count": null,
      "metadata": {
        "id": "i_Fbo3Vn9KS1"
      },
      "outputs": [],
      "source": [
        ""
      ]
    },
    {
      "cell_type": "code",
      "execution_count": null,
      "metadata": {
        "id": "Ks_G3tM09KS2"
      },
      "outputs": [],
      "source": [
        ""
      ]
    },
    {
      "cell_type": "code",
      "execution_count": null,
      "metadata": {
        "id": "a9vhFt0v9KS2"
      },
      "outputs": [],
      "source": [
        ""
      ]
    },
    {
      "cell_type": "code",
      "execution_count": null,
      "metadata": {
        "id": "aHkKwO_99KS2"
      },
      "outputs": [],
      "source": [
        ""
      ]
    },
    {
      "cell_type": "code",
      "execution_count": null,
      "metadata": {
        "id": "oFvYh_Fo9KS3"
      },
      "outputs": [],
      "source": [
        ""
      ]
    }
  ],
  "metadata": {
    "kernelspec": {
      "display_name": "Python 3",
      "language": "python",
      "name": "python3"
    },
    "language_info": {
      "codemirror_mode": {
        "name": "ipython",
        "version": 3
      },
      "file_extension": ".py",
      "mimetype": "text/x-python",
      "name": "python",
      "nbconvert_exporter": "python",
      "pygments_lexer": "ipython3",
      "version": "3.10.2"
    },
    "vscode": {
      "interpreter": {
        "hash": "d2b845af27abd399253fcde00f15a88f8cf8ce029ac594b283727ea604aa5eb5"
      }
    },
    "colab": {
      "name": "final_script.ipynb",
      "provenance": [],
      "collapsed_sections": [
        "-AQL6P9q9KSV",
        "ihgowiIm9KSa",
        "nYQxDKl59KSe",
        "seBUxb-E9KSj",
        "TmXdG0Mr9KSq",
        "_7pe-ZaV9KSt",
        "ZfS1Owrr9KSy"
      ]
    }
  },
  "nbformat": 4,
  "nbformat_minor": 0
}