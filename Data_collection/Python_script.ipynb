{
 "cells": [
  {
   "cell_type": "markdown",
   "metadata": {},
   "source": [
    "# Cross sale classification"
   ]
  },
  {
   "cell_type": "code",
   "execution_count": null,
   "metadata": {},
   "outputs": [],
   "source": []
  },
  {
   "cell_type": "code",
   "execution_count": null,
   "metadata": {},
   "outputs": [],
   "source": [
    "## downsampling"
   ]
  },
  {
   "cell_type": "markdown",
   "metadata": {},
   "source": [
    "## 1. Data validation"
   ]
  },
  {
   "cell_type": "code",
   "execution_count": 5,
   "metadata": {},
   "outputs": [],
   "source": [
    "import numpy as np\n",
    "import pandas as pd\n",
    "%matplotlib inline\n",
    "import seaborn as sns \n",
    "import matplotlib.pyplot as plt"
   ]
  },
  {
   "cell_type": "code",
   "execution_count": 10,
   "metadata": {},
   "outputs": [],
   "source": [
    "## Data import\n",
    "df=pd.read_csv('totale2.csv')\n"
   ]
  },
  {
   "cell_type": "code",
   "execution_count": 11,
   "metadata": {},
   "outputs": [
    {
     "name": "stdout",
     "output_type": "stream",
     "text": [
      "(120, 16)\n"
     ]
    },
    {
     "data": {
      "text/html": [
       "<div>\n",
       "<style scoped>\n",
       "    .dataframe tbody tr th:only-of-type {\n",
       "        vertical-align: middle;\n",
       "    }\n",
       "\n",
       "    .dataframe tbody tr th {\n",
       "        vertical-align: top;\n",
       "    }\n",
       "\n",
       "    .dataframe thead th {\n",
       "        text-align: right;\n",
       "    }\n",
       "</style>\n",
       "<table border=\"1\" class=\"dataframe\">\n",
       "  <thead>\n",
       "    <tr style=\"text-align: right;\">\n",
       "      <th></th>\n",
       "      <th>BR</th>\n",
       "      <th>WL</th>\n",
       "      <th>MAV</th>\n",
       "      <th>MV</th>\n",
       "      <th>STD</th>\n",
       "      <th>RMSE</th>\n",
       "      <th>Max</th>\n",
       "      <th>Min</th>\n",
       "      <th>VAR</th>\n",
       "      <th>SEN</th>\n",
       "      <th>MDF</th>\n",
       "      <th>MNF</th>\n",
       "      <th>Max_p</th>\n",
       "      <th>Min_p</th>\n",
       "      <th>r_axis</th>\n",
       "      <th>target</th>\n",
       "    </tr>\n",
       "  </thead>\n",
       "  <tbody>\n",
       "    <tr>\n",
       "      <th>0</th>\n",
       "      <td>0.240080</td>\n",
       "      <td>-49.489306</td>\n",
       "      <td>0.016496</td>\n",
       "      <td>-0.016496</td>\n",
       "      <td>0.828765</td>\n",
       "      <td>0.024225</td>\n",
       "      <td>2.856031</td>\n",
       "      <td>-2.129246</td>\n",
       "      <td>-0.016502</td>\n",
       "      <td>10121.076678</td>\n",
       "      <td>50.301781</td>\n",
       "      <td>46.663023</td>\n",
       "      <td>711.235976</td>\n",
       "      <td>9.636736e-14</td>\n",
       "      <td>y</td>\n",
       "      <td>supine</td>\n",
       "    </tr>\n",
       "    <tr>\n",
       "      <th>1</th>\n",
       "      <td>0.220073</td>\n",
       "      <td>0.478272</td>\n",
       "      <td>0.000159</td>\n",
       "      <td>0.000159</td>\n",
       "      <td>0.507935</td>\n",
       "      <td>0.012104</td>\n",
       "      <td>1.034132</td>\n",
       "      <td>-1.496247</td>\n",
       "      <td>0.000160</td>\n",
       "      <td>34.109931</td>\n",
       "      <td>2.920185</td>\n",
       "      <td>18.695023</td>\n",
       "      <td>439.457656</td>\n",
       "      <td>1.265654e-14</td>\n",
       "      <td>y</td>\n",
       "      <td>supine</td>\n",
       "    </tr>\n",
       "    <tr>\n",
       "      <th>2</th>\n",
       "      <td>0.220073</td>\n",
       "      <td>16.022720</td>\n",
       "      <td>0.005343</td>\n",
       "      <td>0.005343</td>\n",
       "      <td>0.531967</td>\n",
       "      <td>0.012163</td>\n",
       "      <td>0.933654</td>\n",
       "      <td>-1.088899</td>\n",
       "      <td>0.005344</td>\n",
       "      <td>1189.987977</td>\n",
       "      <td>17.248101</td>\n",
       "      <td>40.609365</td>\n",
       "      <td>860.553796</td>\n",
       "      <td>3.275158e-15</td>\n",
       "      <td>y</td>\n",
       "      <td>supine</td>\n",
       "    </tr>\n",
       "    <tr>\n",
       "      <th>3</th>\n",
       "      <td>0.260087</td>\n",
       "      <td>-72.349807</td>\n",
       "      <td>0.024117</td>\n",
       "      <td>-0.024117</td>\n",
       "      <td>0.618624</td>\n",
       "      <td>0.017500</td>\n",
       "      <td>1.620029</td>\n",
       "      <td>-1.553317</td>\n",
       "      <td>-0.024125</td>\n",
       "      <td>19177.751270</td>\n",
       "      <td>69.241879</td>\n",
       "      <td>39.344414</td>\n",
       "      <td>526.384057</td>\n",
       "      <td>8.881784e-15</td>\n",
       "      <td>y</td>\n",
       "      <td>lateral R</td>\n",
       "    </tr>\n",
       "    <tr>\n",
       "      <th>4</th>\n",
       "      <td>0.260087</td>\n",
       "      <td>4.426925</td>\n",
       "      <td>0.001476</td>\n",
       "      <td>0.001476</td>\n",
       "      <td>0.415343</td>\n",
       "      <td>0.011135</td>\n",
       "      <td>0.848615</td>\n",
       "      <td>-0.834289</td>\n",
       "      <td>0.001477</td>\n",
       "      <td>15.765618</td>\n",
       "      <td>1.985297</td>\n",
       "      <td>96.913984</td>\n",
       "      <td>583.295626</td>\n",
       "      <td>2.570166e-14</td>\n",
       "      <td>y</td>\n",
       "      <td>lateral R</td>\n",
       "    </tr>\n",
       "  </tbody>\n",
       "</table>\n",
       "</div>"
      ],
      "text/plain": [
       "         BR         WL       MAV        MV       STD      RMSE       Max  \\\n",
       "0  0.240080 -49.489306  0.016496 -0.016496  0.828765  0.024225  2.856031   \n",
       "1  0.220073   0.478272  0.000159  0.000159  0.507935  0.012104  1.034132   \n",
       "2  0.220073  16.022720  0.005343  0.005343  0.531967  0.012163  0.933654   \n",
       "3  0.260087 -72.349807  0.024117 -0.024117  0.618624  0.017500  1.620029   \n",
       "4  0.260087   4.426925  0.001476  0.001476  0.415343  0.011135  0.848615   \n",
       "\n",
       "        Min       VAR           SEN        MDF        MNF       Max_p  \\\n",
       "0 -2.129246 -0.016502  10121.076678  50.301781  46.663023  711.235976   \n",
       "1 -1.496247  0.000160     34.109931   2.920185  18.695023  439.457656   \n",
       "2 -1.088899  0.005344   1189.987977  17.248101  40.609365  860.553796   \n",
       "3 -1.553317 -0.024125  19177.751270  69.241879  39.344414  526.384057   \n",
       "4 -0.834289  0.001477     15.765618   1.985297  96.913984  583.295626   \n",
       "\n",
       "          Min_p r_axis     target  \n",
       "0  9.636736e-14      y     supine  \n",
       "1  1.265654e-14      y     supine  \n",
       "2  3.275158e-15      y     supine  \n",
       "3  8.881784e-15      y  lateral R  \n",
       "4  2.570166e-14      y  lateral R  "
      ]
     },
     "execution_count": 11,
     "metadata": {},
     "output_type": "execute_result"
    }
   ],
   "source": [
    "print(df.shape)\n",
    "df.head()"
   ]
  },
  {
   "cell_type": "code",
   "execution_count": 12,
   "metadata": {},
   "outputs": [
    {
     "data": {
      "text/plain": [
       "BR        0\n",
       "WL        0\n",
       "MAV       0\n",
       "MV        0\n",
       "STD       0\n",
       "RMSE      0\n",
       "Max       0\n",
       "Min       0\n",
       "VAR       0\n",
       "SEN       0\n",
       "MDF       0\n",
       "MNF       0\n",
       "Max_p     0\n",
       "Min_p     0\n",
       "r_axis    0\n",
       "target    0\n",
       "dtype: int64"
      ]
     },
     "execution_count": 12,
     "metadata": {},
     "output_type": "execute_result"
    }
   ],
   "source": [
    "## Check missing data\n",
    "df.isnull().sum()"
   ]
  },
  {
   "cell_type": "markdown",
   "metadata": {},
   "source": [
    "## Split categorical and continuos variables"
   ]
  },
  {
   "cell_type": "code",
   "execution_count": 13,
   "metadata": {},
   "outputs": [
    {
     "data": {
      "text/plain": [
       "BR        float64\n",
       "WL        float64\n",
       "MAV       float64\n",
       "MV        float64\n",
       "STD       float64\n",
       "RMSE      float64\n",
       "Max       float64\n",
       "Min       float64\n",
       "VAR       float64\n",
       "SEN       float64\n",
       "MDF       float64\n",
       "MNF       float64\n",
       "Max_p     float64\n",
       "Min_p     float64\n",
       "r_axis     object\n",
       "target     object\n",
       "dtype: object"
      ]
     },
     "execution_count": 13,
     "metadata": {},
     "output_type": "execute_result"
    }
   ],
   "source": [
    "## Categorical variables\n",
    "df.dtypes"
   ]
  },
  {
   "cell_type": "markdown",
   "metadata": {},
   "source": [
    "## Univariate analisys: numerical data"
   ]
  },
  {
   "cell_type": "code",
   "execution_count": 14,
   "metadata": {},
   "outputs": [
    {
     "name": "stdout",
     "output_type": "stream",
     "text": [
      "16\n"
     ]
    }
   ],
   "source": [
    "print(len(df.columns))"
   ]
  },
  {
   "cell_type": "code",
   "execution_count": 17,
   "metadata": {
    "scrolled": true
   },
   "outputs": [
    {
     "data": {
      "text/html": [
       "<div>\n",
       "<style scoped>\n",
       "    .dataframe tbody tr th:only-of-type {\n",
       "        vertical-align: middle;\n",
       "    }\n",
       "\n",
       "    .dataframe tbody tr th {\n",
       "        vertical-align: top;\n",
       "    }\n",
       "\n",
       "    .dataframe thead th {\n",
       "        text-align: right;\n",
       "    }\n",
       "</style>\n",
       "<table border=\"1\" class=\"dataframe\">\n",
       "  <thead>\n",
       "    <tr style=\"text-align: right;\">\n",
       "      <th></th>\n",
       "      <th>BR</th>\n",
       "      <th>WL</th>\n",
       "      <th>MAV</th>\n",
       "      <th>MV</th>\n",
       "      <th>STD</th>\n",
       "      <th>RMSE</th>\n",
       "      <th>Max</th>\n",
       "      <th>Min</th>\n",
       "      <th>VAR</th>\n",
       "      <th>SEN</th>\n",
       "      <th>MDF</th>\n",
       "      <th>MNF</th>\n",
       "      <th>Max_p</th>\n",
       "      <th>Min_p</th>\n",
       "    </tr>\n",
       "  </thead>\n",
       "  <tbody>\n",
       "    <tr>\n",
       "      <th>0</th>\n",
       "      <td>0.240080</td>\n",
       "      <td>-49.489306</td>\n",
       "      <td>0.016496</td>\n",
       "      <td>-0.016496</td>\n",
       "      <td>0.828765</td>\n",
       "      <td>0.024225</td>\n",
       "      <td>2.856031</td>\n",
       "      <td>-2.129246</td>\n",
       "      <td>-0.016502</td>\n",
       "      <td>10121.076678</td>\n",
       "      <td>50.301781</td>\n",
       "      <td>46.663023</td>\n",
       "      <td>711.235976</td>\n",
       "      <td>9.636736e-14</td>\n",
       "    </tr>\n",
       "    <tr>\n",
       "      <th>1</th>\n",
       "      <td>0.220073</td>\n",
       "      <td>0.478272</td>\n",
       "      <td>0.000159</td>\n",
       "      <td>0.000159</td>\n",
       "      <td>0.507935</td>\n",
       "      <td>0.012104</td>\n",
       "      <td>1.034132</td>\n",
       "      <td>-1.496247</td>\n",
       "      <td>0.000160</td>\n",
       "      <td>34.109931</td>\n",
       "      <td>2.920185</td>\n",
       "      <td>18.695023</td>\n",
       "      <td>439.457656</td>\n",
       "      <td>1.265654e-14</td>\n",
       "    </tr>\n",
       "    <tr>\n",
       "      <th>2</th>\n",
       "      <td>0.220073</td>\n",
       "      <td>16.022720</td>\n",
       "      <td>0.005343</td>\n",
       "      <td>0.005343</td>\n",
       "      <td>0.531967</td>\n",
       "      <td>0.012163</td>\n",
       "      <td>0.933654</td>\n",
       "      <td>-1.088899</td>\n",
       "      <td>0.005344</td>\n",
       "      <td>1189.987977</td>\n",
       "      <td>17.248101</td>\n",
       "      <td>40.609365</td>\n",
       "      <td>860.553796</td>\n",
       "      <td>3.275158e-15</td>\n",
       "    </tr>\n",
       "    <tr>\n",
       "      <th>3</th>\n",
       "      <td>0.260087</td>\n",
       "      <td>-72.349807</td>\n",
       "      <td>0.024117</td>\n",
       "      <td>-0.024117</td>\n",
       "      <td>0.618624</td>\n",
       "      <td>0.017500</td>\n",
       "      <td>1.620029</td>\n",
       "      <td>-1.553317</td>\n",
       "      <td>-0.024125</td>\n",
       "      <td>19177.751270</td>\n",
       "      <td>69.241879</td>\n",
       "      <td>39.344414</td>\n",
       "      <td>526.384057</td>\n",
       "      <td>8.881784e-15</td>\n",
       "    </tr>\n",
       "    <tr>\n",
       "      <th>4</th>\n",
       "      <td>0.260087</td>\n",
       "      <td>4.426925</td>\n",
       "      <td>0.001476</td>\n",
       "      <td>0.001476</td>\n",
       "      <td>0.415343</td>\n",
       "      <td>0.011135</td>\n",
       "      <td>0.848615</td>\n",
       "      <td>-0.834289</td>\n",
       "      <td>0.001477</td>\n",
       "      <td>15.765618</td>\n",
       "      <td>1.985297</td>\n",
       "      <td>96.913984</td>\n",
       "      <td>583.295626</td>\n",
       "      <td>2.570166e-14</td>\n",
       "    </tr>\n",
       "  </tbody>\n",
       "</table>\n",
       "</div>"
      ],
      "text/plain": [
       "         BR         WL       MAV        MV       STD      RMSE       Max  \\\n",
       "0  0.240080 -49.489306  0.016496 -0.016496  0.828765  0.024225  2.856031   \n",
       "1  0.220073   0.478272  0.000159  0.000159  0.507935  0.012104  1.034132   \n",
       "2  0.220073  16.022720  0.005343  0.005343  0.531967  0.012163  0.933654   \n",
       "3  0.260087 -72.349807  0.024117 -0.024117  0.618624  0.017500  1.620029   \n",
       "4  0.260087   4.426925  0.001476  0.001476  0.415343  0.011135  0.848615   \n",
       "\n",
       "        Min       VAR           SEN        MDF        MNF       Max_p  \\\n",
       "0 -2.129246 -0.016502  10121.076678  50.301781  46.663023  711.235976   \n",
       "1 -1.496247  0.000160     34.109931   2.920185  18.695023  439.457656   \n",
       "2 -1.088899  0.005344   1189.987977  17.248101  40.609365  860.553796   \n",
       "3 -1.553317 -0.024125  19177.751270  69.241879  39.344414  526.384057   \n",
       "4 -0.834289  0.001477     15.765618   1.985297  96.913984  583.295626   \n",
       "\n",
       "          Min_p  \n",
       "0  9.636736e-14  \n",
       "1  1.265654e-14  \n",
       "2  3.275158e-15  \n",
       "3  8.881784e-15  \n",
       "4  2.570166e-14  "
      ]
     },
     "execution_count": 17,
     "metadata": {},
     "output_type": "execute_result"
    }
   ],
   "source": [
    "df_num=df.iloc[:,0:(len(df.columns)-2)]\n",
    "\n",
    "\n",
    "\n",
    "df_num.head()\n"
   ]
  },
  {
   "cell_type": "code",
   "execution_count": 18,
   "metadata": {},
   "outputs": [
    {
     "data": {
      "text/html": [
       "<div>\n",
       "<style scoped>\n",
       "    .dataframe tbody tr th:only-of-type {\n",
       "        vertical-align: middle;\n",
       "    }\n",
       "\n",
       "    .dataframe tbody tr th {\n",
       "        vertical-align: top;\n",
       "    }\n",
       "\n",
       "    .dataframe thead th {\n",
       "        text-align: right;\n",
       "    }\n",
       "</style>\n",
       "<table border=\"1\" class=\"dataframe\">\n",
       "  <thead>\n",
       "    <tr style=\"text-align: right;\">\n",
       "      <th></th>\n",
       "      <th>BR</th>\n",
       "      <th>WL</th>\n",
       "      <th>MAV</th>\n",
       "      <th>MV</th>\n",
       "      <th>STD</th>\n",
       "      <th>RMSE</th>\n",
       "      <th>Max</th>\n",
       "      <th>Min</th>\n",
       "      <th>VAR</th>\n",
       "      <th>SEN</th>\n",
       "      <th>MDF</th>\n",
       "      <th>MNF</th>\n",
       "      <th>Max_p</th>\n",
       "      <th>Min_p</th>\n",
       "    </tr>\n",
       "  </thead>\n",
       "  <tbody>\n",
       "    <tr>\n",
       "      <th>0</th>\n",
       "      <td>0.240080</td>\n",
       "      <td>-49.489306</td>\n",
       "      <td>0.016496</td>\n",
       "      <td>-0.016496</td>\n",
       "      <td>0.828765</td>\n",
       "      <td>0.024225</td>\n",
       "      <td>2.856031</td>\n",
       "      <td>-2.129246</td>\n",
       "      <td>-0.016502</td>\n",
       "      <td>10121.076678</td>\n",
       "      <td>50.301781</td>\n",
       "      <td>46.663023</td>\n",
       "      <td>711.235976</td>\n",
       "      <td>9.636736e-14</td>\n",
       "    </tr>\n",
       "    <tr>\n",
       "      <th>1</th>\n",
       "      <td>0.220073</td>\n",
       "      <td>0.478272</td>\n",
       "      <td>0.000159</td>\n",
       "      <td>0.000159</td>\n",
       "      <td>0.507935</td>\n",
       "      <td>0.012104</td>\n",
       "      <td>1.034132</td>\n",
       "      <td>-1.496247</td>\n",
       "      <td>0.000160</td>\n",
       "      <td>34.109931</td>\n",
       "      <td>2.920185</td>\n",
       "      <td>18.695023</td>\n",
       "      <td>439.457656</td>\n",
       "      <td>1.265654e-14</td>\n",
       "    </tr>\n",
       "    <tr>\n",
       "      <th>2</th>\n",
       "      <td>0.220073</td>\n",
       "      <td>16.022720</td>\n",
       "      <td>0.005343</td>\n",
       "      <td>0.005343</td>\n",
       "      <td>0.531967</td>\n",
       "      <td>0.012163</td>\n",
       "      <td>0.933654</td>\n",
       "      <td>-1.088899</td>\n",
       "      <td>0.005344</td>\n",
       "      <td>1189.987977</td>\n",
       "      <td>17.248101</td>\n",
       "      <td>40.609365</td>\n",
       "      <td>860.553796</td>\n",
       "      <td>3.275158e-15</td>\n",
       "    </tr>\n",
       "    <tr>\n",
       "      <th>3</th>\n",
       "      <td>0.260087</td>\n",
       "      <td>-72.349807</td>\n",
       "      <td>0.024117</td>\n",
       "      <td>-0.024117</td>\n",
       "      <td>0.618624</td>\n",
       "      <td>0.017500</td>\n",
       "      <td>1.620029</td>\n",
       "      <td>-1.553317</td>\n",
       "      <td>-0.024125</td>\n",
       "      <td>19177.751270</td>\n",
       "      <td>69.241879</td>\n",
       "      <td>39.344414</td>\n",
       "      <td>526.384057</td>\n",
       "      <td>8.881784e-15</td>\n",
       "    </tr>\n",
       "    <tr>\n",
       "      <th>4</th>\n",
       "      <td>0.260087</td>\n",
       "      <td>4.426925</td>\n",
       "      <td>0.001476</td>\n",
       "      <td>0.001476</td>\n",
       "      <td>0.415343</td>\n",
       "      <td>0.011135</td>\n",
       "      <td>0.848615</td>\n",
       "      <td>-0.834289</td>\n",
       "      <td>0.001477</td>\n",
       "      <td>15.765618</td>\n",
       "      <td>1.985297</td>\n",
       "      <td>96.913984</td>\n",
       "      <td>583.295626</td>\n",
       "      <td>2.570166e-14</td>\n",
       "    </tr>\n",
       "    <tr>\n",
       "      <th>...</th>\n",
       "      <td>...</td>\n",
       "      <td>...</td>\n",
       "      <td>...</td>\n",
       "      <td>...</td>\n",
       "      <td>...</td>\n",
       "      <td>...</td>\n",
       "      <td>...</td>\n",
       "      <td>...</td>\n",
       "      <td>...</td>\n",
       "      <td>...</td>\n",
       "      <td>...</td>\n",
       "      <td>...</td>\n",
       "      <td>...</td>\n",
       "      <td>...</td>\n",
       "    </tr>\n",
       "    <tr>\n",
       "      <th>115</th>\n",
       "      <td>0.300100</td>\n",
       "      <td>-23.945668</td>\n",
       "      <td>0.007985</td>\n",
       "      <td>-0.007985</td>\n",
       "      <td>0.277522</td>\n",
       "      <td>0.008231</td>\n",
       "      <td>1.030795</td>\n",
       "      <td>-0.963738</td>\n",
       "      <td>-0.007987</td>\n",
       "      <td>1663.695798</td>\n",
       "      <td>20.394214</td>\n",
       "      <td>36.912484</td>\n",
       "      <td>299.056282</td>\n",
       "      <td>1.931788e-14</td>\n",
       "    </tr>\n",
       "    <tr>\n",
       "      <th>116</th>\n",
       "      <td>0.260087</td>\n",
       "      <td>9.330342</td>\n",
       "      <td>0.003111</td>\n",
       "      <td>0.003111</td>\n",
       "      <td>0.210104</td>\n",
       "      <td>0.006094</td>\n",
       "      <td>0.563488</td>\n",
       "      <td>-0.757839</td>\n",
       "      <td>0.003112</td>\n",
       "      <td>334.496317</td>\n",
       "      <td>9.144620</td>\n",
       "      <td>45.463654</td>\n",
       "      <td>210.754927</td>\n",
       "      <td>1.332268e-14</td>\n",
       "    </tr>\n",
       "    <tr>\n",
       "      <th>117</th>\n",
       "      <td>0.060020</td>\n",
       "      <td>5.913591</td>\n",
       "      <td>0.001971</td>\n",
       "      <td>0.001971</td>\n",
       "      <td>0.331902</td>\n",
       "      <td>0.007434</td>\n",
       "      <td>0.783421</td>\n",
       "      <td>-0.908550</td>\n",
       "      <td>0.001972</td>\n",
       "      <td>171.517668</td>\n",
       "      <td>6.548238</td>\n",
       "      <td>62.681782</td>\n",
       "      <td>373.320709</td>\n",
       "      <td>3.652634e-14</td>\n",
       "    </tr>\n",
       "    <tr>\n",
       "      <th>118</th>\n",
       "      <td>0.100033</td>\n",
       "      <td>-2.784492</td>\n",
       "      <td>0.000928</td>\n",
       "      <td>-0.000928</td>\n",
       "      <td>0.213264</td>\n",
       "      <td>0.005937</td>\n",
       "      <td>0.470299</td>\n",
       "      <td>-0.624875</td>\n",
       "      <td>-0.000929</td>\n",
       "      <td>217.126050</td>\n",
       "      <td>7.367599</td>\n",
       "      <td>74.158073</td>\n",
       "      <td>205.519786</td>\n",
       "      <td>1.240674e-14</td>\n",
       "    </tr>\n",
       "    <tr>\n",
       "      <th>119</th>\n",
       "      <td>0.280093</td>\n",
       "      <td>-1.361530</td>\n",
       "      <td>0.000454</td>\n",
       "      <td>-0.000454</td>\n",
       "      <td>0.180404</td>\n",
       "      <td>0.004941</td>\n",
       "      <td>0.487671</td>\n",
       "      <td>-0.457190</td>\n",
       "      <td>-0.000454</td>\n",
       "      <td>6.481333</td>\n",
       "      <td>1.272923</td>\n",
       "      <td>191.843629</td>\n",
       "      <td>187.621158</td>\n",
       "      <td>2.886580e-15</td>\n",
       "    </tr>\n",
       "  </tbody>\n",
       "</table>\n",
       "<p>120 rows × 14 columns</p>\n",
       "</div>"
      ],
      "text/plain": [
       "           BR         WL       MAV        MV       STD      RMSE       Max  \\\n",
       "0    0.240080 -49.489306  0.016496 -0.016496  0.828765  0.024225  2.856031   \n",
       "1    0.220073   0.478272  0.000159  0.000159  0.507935  0.012104  1.034132   \n",
       "2    0.220073  16.022720  0.005343  0.005343  0.531967  0.012163  0.933654   \n",
       "3    0.260087 -72.349807  0.024117 -0.024117  0.618624  0.017500  1.620029   \n",
       "4    0.260087   4.426925  0.001476  0.001476  0.415343  0.011135  0.848615   \n",
       "..        ...        ...       ...       ...       ...       ...       ...   \n",
       "115  0.300100 -23.945668  0.007985 -0.007985  0.277522  0.008231  1.030795   \n",
       "116  0.260087   9.330342  0.003111  0.003111  0.210104  0.006094  0.563488   \n",
       "117  0.060020   5.913591  0.001971  0.001971  0.331902  0.007434  0.783421   \n",
       "118  0.100033  -2.784492  0.000928 -0.000928  0.213264  0.005937  0.470299   \n",
       "119  0.280093  -1.361530  0.000454 -0.000454  0.180404  0.004941  0.487671   \n",
       "\n",
       "          Min       VAR           SEN        MDF         MNF       Max_p  \\\n",
       "0   -2.129246 -0.016502  10121.076678  50.301781   46.663023  711.235976   \n",
       "1   -1.496247  0.000160     34.109931   2.920185   18.695023  439.457656   \n",
       "2   -1.088899  0.005344   1189.987977  17.248101   40.609365  860.553796   \n",
       "3   -1.553317 -0.024125  19177.751270  69.241879   39.344414  526.384057   \n",
       "4   -0.834289  0.001477     15.765618   1.985297   96.913984  583.295626   \n",
       "..        ...       ...           ...        ...         ...         ...   \n",
       "115 -0.963738 -0.007987   1663.695798  20.394214   36.912484  299.056282   \n",
       "116 -0.757839  0.003112    334.496317   9.144620   45.463654  210.754927   \n",
       "117 -0.908550  0.001972    171.517668   6.548238   62.681782  373.320709   \n",
       "118 -0.624875 -0.000929    217.126050   7.367599   74.158073  205.519786   \n",
       "119 -0.457190 -0.000454      6.481333   1.272923  191.843629  187.621158   \n",
       "\n",
       "            Min_p  \n",
       "0    9.636736e-14  \n",
       "1    1.265654e-14  \n",
       "2    3.275158e-15  \n",
       "3    8.881784e-15  \n",
       "4    2.570166e-14  \n",
       "..            ...  \n",
       "115  1.931788e-14  \n",
       "116  1.332268e-14  \n",
       "117  3.652634e-14  \n",
       "118  1.240674e-14  \n",
       "119  2.886580e-15  \n",
       "\n",
       "[120 rows x 14 columns]"
      ]
     },
     "execution_count": 18,
     "metadata": {},
     "output_type": "execute_result"
    }
   ],
   "source": [
    "df_num"
   ]
  },
  {
   "cell_type": "markdown",
   "metadata": {},
   "source": [
    "OUTLIER CORRECTION "
   ]
  },
  {
   "cell_type": "code",
   "execution_count": 19,
   "metadata": {},
   "outputs": [
    {
     "data": {
      "text/plain": [
       "array([[<AxesSubplot:title={'center':'BR'}>,\n",
       "        <AxesSubplot:title={'center':'WL'}>,\n",
       "        <AxesSubplot:title={'center':'MAV'}>,\n",
       "        <AxesSubplot:title={'center':'MV'}>],\n",
       "       [<AxesSubplot:title={'center':'STD'}>,\n",
       "        <AxesSubplot:title={'center':'RMSE'}>,\n",
       "        <AxesSubplot:title={'center':'Max'}>,\n",
       "        <AxesSubplot:title={'center':'Min'}>],\n",
       "       [<AxesSubplot:title={'center':'VAR'}>,\n",
       "        <AxesSubplot:title={'center':'SEN'}>,\n",
       "        <AxesSubplot:title={'center':'MDF'}>,\n",
       "        <AxesSubplot:title={'center':'MNF'}>],\n",
       "       [<AxesSubplot:title={'center':'Max_p'}>,\n",
       "        <AxesSubplot:title={'center':'Min_p'}>, <AxesSubplot:>,\n",
       "        <AxesSubplot:>]], dtype=object)"
      ]
     },
     "execution_count": 19,
     "metadata": {},
     "output_type": "execute_result"
    },
    {
     "data": {
      "image/png": "[encoded data removed]",
      "text/plain": [
       "<Figure size 720x720 with 16 Axes>"
      ]
     },
     "metadata": {
      "needs_background": "light"
     },
     "output_type": "display_data"
    }
   ],
   "source": [
    "df_num.hist(figsize=(10,10), bins=30)"
   ]
  },
  {
   "cell_type": "code",
   "execution_count": 20,
   "metadata": {},
   "outputs": [
    {
     "data": {
      "text/plain": [
       "<AxesSubplot:xlabel='WL'>"
      ]
     },
     "execution_count": 20,
     "metadata": {},
     "output_type": "execute_result"
    },
    {
     "data": {
      "image/png": "[encoded data removed]",
      "text/plain": [
       "<Figure size 432x288 with 1 Axes>"
      ]
     },
     "metadata": {
      "needs_background": "light"
     },
     "output_type": "display_data"
    }
   ],
   "source": [
    "\n",
    "for x in ['WL']:\n",
    "    q75,q25 = np.percentile(df_num.loc[:,x],[75,25])\n",
    "    intr_qr = q75-q25\n",
    " \n",
    "    max = q75+(1.5*intr_qr)\n",
    "    min = q25-(1.5*intr_qr)\n",
    " \n",
    "    df_num.loc[df_num[x] < min,x] = np.nan\n",
    "    df_num.loc[df_num[x] > max,x] = np.nan\n",
    "sns.boxplot(x=df_num['WL'])"
   ]
  },
  {
   "cell_type": "code",
   "execution_count": 21,
   "metadata": {},
   "outputs": [
    {
     "data": {
      "text/plain": [
       "<AxesSubplot:xlabel='Max_p'>"
      ]
     },
     "execution_count": 21,
     "metadata": {},
     "output_type": "execute_result"
    },
    {
     "data": {
      "image/png": "[encoded data removed]",
      "text/plain": [
       "<Figure size 432x288 with 1 Axes>"
      ]
     },
     "metadata": {
      "needs_background": "light"
     },
     "output_type": "display_data"
    }
   ],
   "source": [
    "for x in ['Max_p']:\n",
    "    q75,q25 = np.percentile(df_num.loc[:,x],[75,25])\n",
    "    intr_qr = q75-q25\n",
    " \n",
    "    max = q75+(1.5*intr_qr)\n",
    "    min = q25-(1.5*intr_qr)\n",
    " \n",
    "    df_num.loc[df_num[x] < min,x] = np.nan\n",
    "    df_num.loc[df_num[x] > max,x] = np.nan\n",
    "\n",
    "sns.boxplot(x=df_num['Max_p'])"
   ]
  },
  {
   "cell_type": "code",
   "execution_count": 22,
   "metadata": {},
   "outputs": [
    {
     "data": {
      "text/plain": [
       "<AxesSubplot:xlabel='BR'>"
      ]
     },
     "execution_count": 22,
     "metadata": {},
     "output_type": "execute_result"
    },
    {
     "data": {
      "image/png": "[encoded data removed]",
      "text/plain": [
       "<Figure size 432x288 with 1 Axes>"
      ]
     },
     "metadata": {
      "needs_background": "light"
     },
     "output_type": "display_data"
    }
   ],
   "source": [
    "for x in ['BR']:\n",
    "    q75,q25 = np.percentile(df_num.loc[:,x],[75,25])\n",
    "    intr_qr = q75-q25\n",
    " \n",
    "    max = q75+(1.5*intr_qr)\n",
    "    min = q25-(1.5*intr_qr)\n",
    " \n",
    "    df_num.loc[df_num[x] < min,x] = np.nan\n",
    "    df_num.loc[df_num[x] > max,x] = np.nan\n",
    "\n",
    "sns.boxplot(x=df_num['BR'])"
   ]
  },
  {
   "cell_type": "code",
   "execution_count": 23,
   "metadata": {},
   "outputs": [
    {
     "data": {
      "text/plain": [
       "<AxesSubplot:xlabel='MV'>"
      ]
     },
     "execution_count": 23,
     "metadata": {},
     "output_type": "execute_result"
    },
    {
     "data": {
      "image/png": "[encoded data removed]",
      "text/plain": [
       "<Figure size 432x288 with 1 Axes>"
      ]
     },
     "metadata": {
      "needs_background": "light"
     },
     "output_type": "display_data"
    }
   ],
   "source": [
    "for x in ['MV']:\n",
    "    q75,q25 = np.percentile(df_num.loc[:,x],[75,25])\n",
    "    intr_qr = q75-q25\n",
    " \n",
    "    max = q75+(1.5*intr_qr)\n",
    "    min = q25-(1.5*intr_qr)\n",
    " \n",
    "    df_num.loc[df_num[x] < min,x] = np.nan\n",
    "    df_num.loc[df_num[x] > max,x] = np.nan\n",
    "\n",
    "sns.boxplot(x=df_num['MV'])"
   ]
  },
  {
   "cell_type": "code",
   "execution_count": 24,
   "metadata": {},
   "outputs": [
    {
     "data": {
      "text/plain": [
       "<AxesSubplot:xlabel='VAR'>"
      ]
     },
     "execution_count": 24,
     "metadata": {},
     "output_type": "execute_result"
    },
    {
     "data": {
      "image/png": "[encoded data removed]",
      "text/plain": [
       "<Figure size 432x288 with 1 Axes>"
      ]
     },
     "metadata": {
      "needs_background": "light"
     },
     "output_type": "display_data"
    }
   ],
   "source": [
    "for x in ['VAR']:\n",
    "    q75,q25 = np.percentile(df_num.loc[:,x],[75,25])\n",
    "    intr_qr = q75-q25\n",
    " \n",
    "    max = q75+(1.5*intr_qr)\n",
    "    min = q25-(1.5*intr_qr)\n",
    " \n",
    "    df_num.loc[df_num[x] < min,x] = np.nan\n",
    "    df_num.loc[df_num[x] > max,x] = np.nan\n",
    "\n",
    "sns.boxplot(x=df_num['VAR'])"
   ]
  },
  {
   "cell_type": "code",
   "execution_count": 25,
   "metadata": {},
   "outputs": [
    {
     "data": {
      "text/plain": [
       "array([[<AxesSubplot:title={'center':'BR'}>]], dtype=object)"
      ]
     },
     "execution_count": 25,
     "metadata": {},
     "output_type": "execute_result"
    },
    {
     "data": {
      "image/png": "[encoded data removed]",
      "text/plain": [
       "<Figure size 432x288 with 1 Axes>"
      ]
     },
     "metadata": {
      "needs_background": "light"
     },
     "output_type": "display_data"
    }
   ],
   "source": [
    "df_num.hist(column=\"BR\")"
   ]
  },
  {
   "cell_type": "code",
   "execution_count": 26,
   "metadata": {},
   "outputs": [
    {
     "data": {
      "text/plain": [
       "array([[<AxesSubplot:title={'center':'SEN'}>]], dtype=object)"
      ]
     },
     "execution_count": 26,
     "metadata": {},
     "output_type": "execute_result"
    },
    {
     "data": {
      "image/png": "[encoded data removed]",
      "text/plain": [
       "<Figure size 432x288 with 1 Axes>"
      ]
     },
     "metadata": {
      "needs_background": "light"
     },
     "output_type": "display_data"
    }
   ],
   "source": [
    "df_num['SEN']=np.log10(df_num[\"SEN\"])\n",
    "\n",
    "\n",
    "for x in ['SEN']:\n",
    "    q75,q25 = np.percentile(df_num.loc[:,x],[75,25])\n",
    "    intr_qr = q75-q25\n",
    " \n",
    "    max = q75+(1.5*intr_qr)\n",
    "    min = q25-(1.5*intr_qr)\n",
    " \n",
    "    df_num.loc[df_num[x] < min,x] = np.nan\n",
    "    df_num.loc[df_num[x] > max,x] = np.nan\n",
    "\n",
    "df_num.hist(column=\"SEN\")"
   ]
  },
  {
   "cell_type": "code",
   "execution_count": 27,
   "metadata": {},
   "outputs": [
    {
     "data": {
      "text/plain": [
       "array([[<AxesSubplot:title={'center':'MNF'}>]], dtype=object)"
      ]
     },
     "execution_count": 27,
     "metadata": {},
     "output_type": "execute_result"
    },
    {
     "data": {
      "image/png": "[encoded data removed]",
      "text/plain": [
       "<Figure size 432x288 with 1 Axes>"
      ]
     },
     "metadata": {
      "needs_background": "light"
     },
     "output_type": "display_data"
    }
   ],
   "source": [
    "df_num['MNF']=np.log10(df_num[\"MNF\"])\n",
    "\n",
    "\n",
    "for x in ['MNF']:\n",
    "    q75,q25 = np.percentile(df_num.loc[:,x],[75,25])\n",
    "    intr_qr = q75-q25\n",
    " \n",
    "    max = q75+(1.5*intr_qr)\n",
    "    min = q25-(1.5*intr_qr)\n",
    " \n",
    "    df_num.loc[df_num[x] < min,x] = np.nan\n",
    "    df_num.loc[df_num[x] > max,x] = np.nan\n",
    "\n",
    "df_num.hist(column=\"MNF\")"
   ]
  },
  {
   "cell_type": "code",
   "execution_count": 28,
   "metadata": {},
   "outputs": [
    {
     "data": {
      "text/plain": [
       "array([[<AxesSubplot:title={'center':'MDF'}>]], dtype=object)"
      ]
     },
     "execution_count": 28,
     "metadata": {},
     "output_type": "execute_result"
    },
    {
     "data": {
      "image/png": "[encoded data removed]",
      "text/plain": [
       "<Figure size 432x288 with 1 Axes>"
      ]
     },
     "metadata": {
      "needs_background": "light"
     },
     "output_type": "display_data"
    }
   ],
   "source": [
    "\n",
    "\n",
    "\n",
    "for x in ['MDF']:\n",
    "    q75,q25 = np.percentile(df_num.loc[:,x],[75,25])\n",
    "    intr_qr = q75-q25\n",
    " \n",
    "    max = q75+(1.5*intr_qr)\n",
    "    min = q25-(1.5*intr_qr)\n",
    " \n",
    "    df_num.loc[df_num[x] < min,x] = np.nan\n",
    "    df_num.loc[df_num[x] > max,x] = np.nan\n",
    "\n",
    "df_num.hist(column=\"MDF\")"
   ]
  },
  {
   "cell_type": "code",
   "execution_count": null,
   "metadata": {},
   "outputs": [],
   "source": []
  },
  {
   "cell_type": "code",
   "execution_count": 29,
   "metadata": {},
   "outputs": [
    {
     "data": {
      "text/plain": [
       "<AxesSubplot:xlabel='MDF'>"
      ]
     },
     "execution_count": 29,
     "metadata": {},
     "output_type": "execute_result"
    },
    {
     "data": {
      "image/png": "[encoded data removed]",
      "text/plain": [
       "<Figure size 432x288 with 1 Axes>"
      ]
     },
     "metadata": {
      "needs_background": "light"
     },
     "output_type": "display_data"
    }
   ],
   "source": [
    "sns.boxplot(x=df_num['MDF'])"
   ]
  },
  {
   "cell_type": "code",
   "execution_count": 30,
   "metadata": {},
   "outputs": [
    {
     "data": {
      "text/plain": [
       "array([[<AxesSubplot:title={'center':'Min_p'}>]], dtype=object)"
      ]
     },
     "execution_count": 30,
     "metadata": {},
     "output_type": "execute_result"
    },
    {
     "data": {
      "image/png": "[encoded data removed]",
      "text/plain": [
       "<Figure size 432x288 with 1 Axes>"
      ]
     },
     "metadata": {
      "needs_background": "light"
     },
     "output_type": "display_data"
    }
   ],
   "source": [
    "df_num['Min_p']=np.log10(df_num[\"Min_p\"])\n",
    "\n",
    "\n",
    "for x in ['Min_p']:\n",
    "    q75,q25 = np.percentile(df_num.loc[:,x],[75,25])\n",
    "    intr_qr = q75-q25\n",
    " \n",
    "    max = q75+(1.5*intr_qr)\n",
    "    min = q25-(1.5*intr_qr)\n",
    " \n",
    "    df_num.loc[df_num[x] < min,x] = np.nan\n",
    "    df_num.loc[df_num[x] > max,x] = np.nan\n",
    "\n",
    "df_num.hist(column=\"Min_p\")"
   ]
  },
  {
   "cell_type": "code",
   "execution_count": 31,
   "metadata": {},
   "outputs": [
    {
     "data": {
      "text/plain": [
       "array([[<AxesSubplot:title={'center':'BR'}>,\n",
       "        <AxesSubplot:title={'center':'WL'}>,\n",
       "        <AxesSubplot:title={'center':'MAV'}>,\n",
       "        <AxesSubplot:title={'center':'MV'}>],\n",
       "       [<AxesSubplot:title={'center':'STD'}>,\n",
       "        <AxesSubplot:title={'center':'RMSE'}>,\n",
       "        <AxesSubplot:title={'center':'Max'}>,\n",
       "        <AxesSubplot:title={'center':'Min'}>],\n",
       "       [<AxesSubplot:title={'center':'VAR'}>,\n",
       "        <AxesSubplot:title={'center':'SEN'}>,\n",
       "        <AxesSubplot:title={'center':'MDF'}>,\n",
       "        <AxesSubplot:title={'center':'MNF'}>],\n",
       "       [<AxesSubplot:title={'center':'Max_p'}>,\n",
       "        <AxesSubplot:title={'center':'Min_p'}>, <AxesSubplot:>,\n",
       "        <AxesSubplot:>]], dtype=object)"
      ]
     },
     "execution_count": 31,
     "metadata": {},
     "output_type": "execute_result"
    },
    {
     "data": {
      "image/png": "[encoded data removed]",
      "text/plain": [
       "<Figure size 720x720 with 16 Axes>"
      ]
     },
     "metadata": {
      "needs_background": "light"
     },
     "output_type": "display_data"
    }
   ],
   "source": [
    "\n",
    "\n",
    "df_num.hist(figsize=(10,10), bins=30)"
   ]
  },
  {
   "cell_type": "code",
   "execution_count": 32,
   "metadata": {},
   "outputs": [
    {
     "data": {
      "text/plain": [
       "<AxesSubplot:xlabel='MDF'>"
      ]
     },
     "execution_count": 32,
     "metadata": {},
     "output_type": "execute_result"
    },
    {
     "data": {
      "image/png": "[encoded data removed]",
      "text/plain": [
       "<Figure size 432x288 with 1 Axes>"
      ]
     },
     "metadata": {
      "needs_background": "light"
     },
     "output_type": "display_data"
    }
   ],
   "source": [
    "sns.boxplot(x=df_num['MDF'])"
   ]
  },
  {
   "cell_type": "code",
   "execution_count": null,
   "metadata": {},
   "outputs": [],
   "source": [
    "df_num.head"
   ]
  },
  {
   "cell_type": "code",
   "execution_count": 33,
   "metadata": {},
   "outputs": [
    {
     "data": {
      "image/png": "[encoded data removed]",
      "text/plain": [
       "<Figure size 720x720 with 2 Axes>"
      ]
     },
     "metadata": {
      "needs_background": "light"
     },
     "output_type": "display_data"
    }
   ],
   "source": [
    "import matplotlib.pyplot as plt\n",
    "import seaborn as sns\n",
    "%matplotlib inline\n",
    "\n",
    "#plot to visualize the correlations in the matrix\n",
    "\n",
    "plt.figure(figsize = (10,10))\n",
    "sns.heatmap(data=df_num.corr().round(2), cmap='coolwarm', linewidths=.5, annot=True, annot_kws={\"size\":12})\n",
    "plt.show()"
   ]
  },
  {
   "cell_type": "code",
   "execution_count": null,
   "metadata": {},
   "outputs": [],
   "source": [
    "#dummy variable for ais position \n",
    "dummy = pd.get_dummies(df['r_axis'],drop_first=True)  \n",
    "dummy"
   ]
  },
  {
   "cell_type": "code",
   "execution_count": null,
   "metadata": {},
   "outputs": [],
   "source": [
    "y=df['target']"
   ]
  },
  {
   "cell_type": "code",
   "execution_count": null,
   "metadata": {},
   "outputs": [],
   "source": [
    "\n",
    "df_num=pd.concat([df_num,dummy, y],axis=1)\n",
    "df_num"
   ]
  },
  {
   "cell_type": "code",
   "execution_count": null,
   "metadata": {
    "scrolled": true
   },
   "outputs": [],
   "source": [
    "#df_num=df_num.dropna(axis=0,thresh=12)\n",
    "df_num=df_num.fillna(np.mean(df_num))\n",
    "df_num\n",
    "z=df_num[['y','z','target']]\n",
    "df_num=df_num.drop(['y','z','target'], axis = 1)\n"
   ]
  },
  {
   "cell_type": "code",
   "execution_count": null,
   "metadata": {},
   "outputs": [],
   "source": []
  },
  {
   "cell_type": "code",
   "execution_count": null,
   "metadata": {},
   "outputs": [],
   "source": [
    "df_num.head"
   ]
  },
  {
   "cell_type": "code",
   "execution_count": null,
   "metadata": {},
   "outputs": [],
   "source": [
    "print(len(df_num.columns))"
   ]
  },
  {
   "cell_type": "code",
   "execution_count": null,
   "metadata": {},
   "outputs": [],
   "source": [
    "print(df_num.shape)\n",
    "df.head()"
   ]
  },
  {
   "cell_type": "code",
   "execution_count": null,
   "metadata": {},
   "outputs": [],
   "source": [
    "df_num.hist(figsize=(10,10), bins=30)"
   ]
  },
  {
   "cell_type": "markdown",
   "metadata": {},
   "source": [
    "## Standardization"
   ]
  },
  {
   "cell_type": "code",
   "execution_count": null,
   "metadata": {},
   "outputs": [],
   "source": [
    "from sklearn.preprocessing import StandardScaler\n",
    "scaler = StandardScaler().fit(df_num)\n",
    "scaled_df = pd.DataFrame(scaler.transform(df_num))\n",
    "scaled_df.columns = df_num.columns\n",
    "scaled_df.index=df_num.index\n",
    "scaled_df.head()\n",
    "\n"
   ]
  },
  {
   "cell_type": "code",
   "execution_count": null,
   "metadata": {},
   "outputs": [],
   "source": [
    "df_num=scaled_df"
   ]
  },
  {
   "cell_type": "code",
   "execution_count": null,
   "metadata": {},
   "outputs": [],
   "source": [
    "scaled_df.boxplot()"
   ]
  },
  {
   "cell_type": "code",
   "execution_count": null,
   "metadata": {},
   "outputs": [],
   "source": [
    "df_num.hist(figsize=(10,10), bins=30)"
   ]
  },
  {
   "cell_type": "markdown",
   "metadata": {},
   "source": [
    "PCA ANALYSIS"
   ]
  },
  {
   "cell_type": "code",
   "execution_count": null,
   "metadata": {},
   "outputs": [],
   "source": [
    "df_num.apply(lambda s: df_num.corrwith(s))"
   ]
  },
  {
   "cell_type": "code",
   "execution_count": null,
   "metadata": {},
   "outputs": [],
   "source": []
  },
  {
   "cell_type": "code",
   "execution_count": null,
   "metadata": {},
   "outputs": [],
   "source": [
    "#PCA fit\n",
    "from sklearn.decomposition import PCA\n",
    "pca = PCA()\n",
    "pca.fit(scaled_df)"
   ]
  },
  {
   "cell_type": "code",
   "execution_count": null,
   "metadata": {},
   "outputs": [],
   "source": [
    "#Let's analyse what happened\n",
    "#VISUALIZE The amount of variance explained by each of the 10 selected principal components.\n",
    "pd.DataFrame(pca.explained_variance_).transpose()"
   ]
  },
  {
   "cell_type": "code",
   "execution_count": null,
   "metadata": {},
   "outputs": [],
   "source": [
    "#VISUALIZE The percentage of variance explained by each of the selected components.\n",
    "explained_var=pd.DataFrame(pca.explained_variance_ratio_).transpose()\n",
    "explained_var"
   ]
  },
  {
   "cell_type": "code",
   "execution_count": null,
   "metadata": {},
   "outputs": [],
   "source": [
    "cum_explained_var=np.cumsum(pca.explained_variance_ratio_)\n",
    "pd.DataFrame(cum_explained_var).transpose()"
   ]
  },
  {
   "cell_type": "code",
   "execution_count": null,
   "metadata": {},
   "outputs": [],
   "source": [
    "%matplotlib inline\n",
    "import seaborn as sns\n",
    "ax = sns.barplot( data=explained_var)"
   ]
  },
  {
   "cell_type": "code",
   "execution_count": null,
   "metadata": {
    "scrolled": true
   },
   "outputs": [],
   "source": [
    "pd.DataFrame(pca.components_,columns=scaled_df.columns)\n"
   ]
  },
  {
   "cell_type": "code",
   "execution_count": null,
   "metadata": {},
   "outputs": [],
   "source": [
    "# Let see the coordinates of the data in the PCA \n",
    "df_pca = pd.DataFrame(pca.transform(scaled_df),columns = ['pc1', 'pc2','pc3','pc4','pc5','pc6','pc7','pc8','pc9','pc10','pc11','pc12','pc13','pc14']\n",
    "                        ,index=scaled_df.index.values)\n",
    "df_pca "
   ]
  },
  {
   "cell_type": "code",
   "execution_count": null,
   "metadata": {
    "scrolled": true
   },
   "outputs": [],
   "source": [
    "# Let see the coordinates of the data in the PCA \n",
    "# The data in the first two PCA \n",
    "sns.scatterplot(x=df_pca.iloc[:,0], y=df_pca.iloc[:,1],\n",
    "              hue=df['target'], alpha=.3,\n",
    "              data=df_pca);"
   ]
  },
  {
   "cell_type": "code",
   "execution_count": null,
   "metadata": {},
   "outputs": [],
   "source": []
  },
  {
   "cell_type": "markdown",
   "metadata": {},
   "source": [
    "## Separate Train set and Test set"
   ]
  },
  {
   "cell_type": "code",
   "execution_count": null,
   "metadata": {},
   "outputs": [],
   "source": [
    "df_num=pd.concat([df_num,z],axis=1)"
   ]
  },
  {
   "cell_type": "code",
   "execution_count": null,
   "metadata": {},
   "outputs": [],
   "source": [
    "y=df['target']\n",
    "#y"
   ]
  },
  {
   "cell_type": "code",
   "execution_count": null,
   "metadata": {},
   "outputs": [],
   "source": [
    "df_num=df.drop(['target','MAV','BR'], axis = 1)"
   ]
  },
  {
   "cell_type": "code",
   "execution_count": null,
   "metadata": {},
   "outputs": [],
   "source": [
    "x=df_num\n"
   ]
  },
  {
   "cell_type": "code",
   "execution_count": null,
   "metadata": {},
   "outputs": [],
   "source": [
    "from sklearn.model_selection import train_test_split\n",
    "\n",
    "X_train, X_test, y_train, y_test = train_test_split(x, y, \n",
    "                                                    test_size =0.30,\n",
    "                                                    stratify=y,\n",
    "                                                    random_state= 123) \n",
    "print(X_train.shape, X_test.shape, y_train.shape, y_test.shape)\n"
   ]
  },
  {
   "cell_type": "code",
   "execution_count": null,
   "metadata": {},
   "outputs": [],
   "source": []
  },
  {
   "cell_type": "markdown",
   "metadata": {},
   "source": [
    "## Models"
   ]
  },
  {
   "cell_type": "code",
   "execution_count": null,
   "metadata": {},
   "outputs": [],
   "source": [
    "from sklearn.model_selection import GridSearchCV\n",
    "from sklearn.metrics import confusion_matrix\n",
    "from sklearn.metrics import classification_report\n",
    "from sklearn import metrics \n",
    "from sklearn.metrics import f1_score\n"
   ]
  },
  {
   "cell_type": "markdown",
   "metadata": {},
   "source": [
    "### KNN"
   ]
  },
  {
   "cell_type": "code",
   "execution_count": null,
   "metadata": {},
   "outputs": [],
   "source": [
    "from sklearn.neighbors import KNeighborsClassifier\n",
    "classifier = KNeighborsClassifier()\n",
    "parameters = {'n_neighbors':np.arange(1,180,10)} \n",
    "\n",
    "\n",
    "\n",
    "\n"
   ]
  },
  {
   "cell_type": "code",
   "execution_count": null,
   "metadata": {},
   "outputs": [],
   "source": []
  },
  {
   "cell_type": "code",
   "execution_count": null,
   "metadata": {},
   "outputs": [],
   "source": []
  },
  {
   "cell_type": "code",
   "execution_count": null,
   "metadata": {},
   "outputs": [],
   "source": [
    "knn = KNeighborsClassifier()\n",
    "from sklearn.model_selection import GridSearchCV\n",
    "  \n",
    "# defining parameter range\n",
    "grid = GridSearchCV(knn, parameters, cv=4, scoring='accuracy', return_train_score=False,verbose=1)\n",
    "  \n",
    "# fitting the model for grid search\n",
    "grid_search=grid.fit(X_train, y_train)"
   ]
  },
  {
   "cell_type": "code",
   "execution_count": null,
   "metadata": {},
   "outputs": [],
   "source": [
    "print(grid_search.best_params_)"
   ]
  },
  {
   "cell_type": "code",
   "execution_count": null,
   "metadata": {},
   "outputs": [],
   "source": [
    "def hyperp_search(classifier, parameters):\n",
    "    gs = GridSearchCV(classifier, parameters, cv=3, scoring = 'accuracy', verbose=0, n_jobs=-1)\n",
    "    gs = gs.fit(X_train, y_train)\n",
    "    print(\"accuracy_train: %f using %s\" % (gs.best_score_, gs.best_params_))\n"
   ]
  },
  {
   "cell_type": "code",
   "execution_count": null,
   "metadata": {},
   "outputs": [],
   "source": []
  },
  {
   "cell_type": "code",
   "execution_count": null,
   "metadata": {},
   "outputs": [],
   "source": [
    "model_knn = KNeighborsClassifier(n_neighbors=1)"
   ]
  },
  {
   "cell_type": "code",
   "execution_count": null,
   "metadata": {},
   "outputs": [],
   "source": [
    "from sklearn.metrics import classification_report, confusion_matrix, accuracy_score\n",
    "\n",
    "model_knn.fit(X_train, y_train)\n",
    "y_pred = model_knn.predict(X_test)\n",
    "result = confusion_matrix(y_test, y_pred)\n",
    "\n",
    "\n",
    "print('Confusion Matrix:')\n",
    "print(result)\n",
    "result1 = classification_report(y_test, y_pred)\n",
    "print('Classification Report:”')\n",
    "print (result1)\n",
    "result2 = accuracy_score(y_test,y_pred)\n",
    "print('Accuracy:',result2)"
   ]
  },
  {
   "cell_type": "code",
   "execution_count": null,
   "metadata": {},
   "outputs": [],
   "source": []
  },
  {
   "cell_type": "code",
   "execution_count": null,
   "metadata": {},
   "outputs": [],
   "source": []
  },
  {
   "cell_type": "code",
   "execution_count": null,
   "metadata": {},
   "outputs": [],
   "source": [
    "## EVALUATE THE PREDICTION (ON Y TEST)\n",
    "model_knn.fit(X_train, y_train)\n",
    "y_pred=model_knn.predict(X_test)\n",
    "from sklearn import metrics \n",
    "print('***RESULTS ON TEST SET***')\n",
    "print(\"precision: \", metrics.precision_score(y_test, y_pred, average='macro')) # tp / (tp + fp)\n",
    "print(\"recall: \", metrics.recall_score(y_test, y_pred, average='macro')) # tp / (tp + fn)\n",
    "print(\"f1_score: \", metrics.f1_score(y_test, y_pred, average='macro')) #F1 = 2 * (precision * recall) / (precision + recall)\n",
    "print(\"accuracy: \", metrics.accuracy_score(y_test, y_pred)) # (tp+tn)/m\n",
    "\n"
   ]
  },
  {
   "cell_type": "code",
   "execution_count": null,
   "metadata": {},
   "outputs": [],
   "source": [
    "print(confusion_matrix(y_test, y_pred))"
   ]
  },
  {
   "cell_type": "code",
   "execution_count": null,
   "metadata": {},
   "outputs": [],
   "source": [
    "## We can try on the train data\n",
    "y_pred_train=model_knn.predict(X_train)"
   ]
  },
  {
   "cell_type": "code",
   "execution_count": null,
   "metadata": {},
   "outputs": [],
   "source": [
    "metrics.f1_score(y_train, y_pred_train, average='macro')"
   ]
  },
  {
   "cell_type": "code",
   "execution_count": null,
   "metadata": {},
   "outputs": [],
   "source": [
    "## f1 train is similar to f1 test--> No overfitting"
   ]
  },
  {
   "cell_type": "markdown",
   "metadata": {},
   "source": [
    "### Tree Classifier"
   ]
  },
  {
   "cell_type": "code",
   "execution_count": null,
   "metadata": {},
   "outputs": [],
   "source": [
    "from sklearn.tree import DecisionTreeClassifier\n",
    "\n",
    "classifier = DecisionTreeClassifier()\n",
    "parameters = {'criterion': ['entropy','gini'], \n",
    "              'max_depth': [2,3,4], \n",
    "              'min_samples_split': [5,10,20,100],\n",
    "              'min_samples_leaf': [2,4,10]} \n"
   ]
  },
  {
   "cell_type": "code",
   "execution_count": null,
   "metadata": {},
   "outputs": [],
   "source": [
    "hyperp_search(classifier,parameters)"
   ]
  },
  {
   "cell_type": "code",
   "execution_count": null,
   "metadata": {},
   "outputs": [],
   "source": [
    "model_tree = DecisionTreeClassifier(criterion='entropy', max_depth=3, min_samples_leaf=2, min_samples_split=10)"
   ]
  },
  {
   "cell_type": "code",
   "execution_count": null,
   "metadata": {},
   "outputs": [],
   "source": []
  },
  {
   "cell_type": "code",
   "execution_count": null,
   "metadata": {},
   "outputs": [],
   "source": [
    "model_tree.fit(X_train, y_train)\n",
    "y_pred=model_tree.predict(X_test)\n",
    "from sklearn.metrics import confusion_matrix\n",
    "print(confusion_matrix(y_test, y_pred))\n",
    "# Plot confusion matrix\n",
    "sns.heatmap(confusion_matrix(y_test, y_pred), annot=True, fmt='d', cmap=\"Reds\", cbar=False);\n"
   ]
  },
  {
   "cell_type": "code",
   "execution_count": null,
   "metadata": {},
   "outputs": [],
   "source": [
    "## EVALUATE THE PREDICTION (ON Y TEST)\n",
    "from sklearn import metrics \n",
    "print('***RESULTS ON TEST SET***')\n",
    "print(\"precision: \", metrics.precision_score(y_test, y_pred, average='macro')) # tp / (tp + fp)\n",
    "print(\"recall: \", metrics.recall_score(y_test, y_pred, average='macro')) # tp / (tp + fn)\n",
    "print(\"f1_score: \", metrics.f1_score(y_test, y_pred, average='macro')) #F1 = 2 * (precision * recall) / (precision + recall)\n",
    "print(\"accuracy: \", metrics.accuracy_score(y_test, y_pred)) # (tp+tn)/m"
   ]
  },
  {
   "cell_type": "code",
   "execution_count": null,
   "metadata": {},
   "outputs": [],
   "source": [
    "## We can try on the train data\n",
    "y_pred_train=model_tree.predict(X_train)\n",
    "metrics.f1_score(y_train, y_pred_train, average='macro')"
   ]
  },
  {
   "cell_type": "code",
   "execution_count": null,
   "metadata": {},
   "outputs": [],
   "source": [
    "### Plotting the tree\n",
    "from sklearn import tree\n",
    "r = tree.export_text(model_tree,feature_names=X_test.columns.tolist(),max_depth=5)\n",
    "print(r)\n"
   ]
  },
  {
   "cell_type": "markdown",
   "metadata": {},
   "source": [
    "### Naive Bayes"
   ]
  },
  {
   "cell_type": "code",
   "execution_count": null,
   "metadata": {},
   "outputs": [],
   "source": [
    "from sklearn.naive_bayes import GaussianNB\n",
    "modelNB=GaussianNB()"
   ]
  },
  {
   "cell_type": "code",
   "execution_count": null,
   "metadata": {},
   "outputs": [],
   "source": [
    "modelNB.fit(X_train, y_train)\n",
    "y_pred=modelNB.predict(X_test)"
   ]
  },
  {
   "cell_type": "code",
   "execution_count": null,
   "metadata": {},
   "outputs": [],
   "source": [
    "from sklearn.metrics import f1_score\n",
    "print(\"f1_score: \", f1_score(y_test, y_pred, average='macro'))\n",
    "\n",
    "print(\"f1_test: \", f1_score(y_test, y_pred, average='macro'))"
   ]
  },
  {
   "cell_type": "code",
   "execution_count": null,
   "metadata": {},
   "outputs": [],
   "source": [
    "print(confusion_matrix(y_test, y_pred))\n",
    "sns.heatmap(confusion_matrix(y_test, y_pred), annot=True, fmt='d', cmap=\"Reds\", cbar=False);\n"
   ]
  },
  {
   "cell_type": "code",
   "execution_count": null,
   "metadata": {},
   "outputs": [],
   "source": [
    "## We can try on the train data\n",
    "y_pred_train=modelNB.predict(X_train)\n",
    "metrics.f1_score(y_train, y_pred_train, average='macro')"
   ]
  },
  {
   "cell_type": "code",
   "execution_count": null,
   "metadata": {},
   "outputs": [],
   "source": [
    "from sklearn import metrics \n",
    "print('***RESULTS ON TEST SET***')\n",
    "print(\"precision: \", metrics.precision_score(y_test, y_pred, average='macro')) # tp / (tp + fp)\n",
    "print(\"recall: \", metrics.recall_score(y_test, y_pred, average='macro')) # tp / (tp + fn)\n",
    "print(\"f1_score: \", metrics.f1_score(y_test, y_pred, average='macro')) #F1 = 2 * (precision * recall) / (precision + recall)\n",
    "print(\"accuracy: \", metrics.accuracy_score(y_test, y_pred)) # (tp+tn)/m"
   ]
  },
  {
   "cell_type": "code",
   "execution_count": null,
   "metadata": {},
   "outputs": [],
   "source": []
  },
  {
   "cell_type": "markdown",
   "metadata": {},
   "source": [
    "### Logistic Regression"
   ]
  },
  {
   "cell_type": "code",
   "execution_count": null,
   "metadata": {},
   "outputs": [],
   "source": [
    "from sklearn.linear_model import LogisticRegression\n",
    "\n",
    "classifier = LogisticRegression()\n",
    "parameters = {\"C\":[1e-4,1e-3,1e-2,1e-1,1,10,100],\"penalty\":['l1','l2'], \"max_iter\":[1000] }\n",
    "\n",
    "\n",
    "hyperp_search(classifier,parameters)\n"
   ]
  },
  {
   "cell_type": "code",
   "execution_count": null,
   "metadata": {},
   "outputs": [],
   "source": [
    "model = LogisticRegression(C=0.0001, penalty='l2', max_iter=1000)"
   ]
  },
  {
   "cell_type": "code",
   "execution_count": null,
   "metadata": {},
   "outputs": [],
   "source": [
    "model.fit(X_train, y_train)\n",
    "y_pred=model.predict(X_test)\n",
    "\n",
    "from sklearn.metrics import f1_score\n",
    "print(\"f1_score: \", f1_score(y_test, y_pred, average='macro'))\n",
    "\n",
    "print(\"f1_test: \", f1_score(y_test, y_pred, average='macro'))\n",
    "\n"
   ]
  },
  {
   "cell_type": "code",
   "execution_count": null,
   "metadata": {},
   "outputs": [],
   "source": [
    "print(confusion_matrix(y_test, y_pred))\n",
    "sns.heatmap(confusion_matrix(y_test, y_pred), annot=True, fmt='d', cmap=\"Reds\", cbar=False);"
   ]
  },
  {
   "cell_type": "code",
   "execution_count": null,
   "metadata": {},
   "outputs": [],
   "source": [
    "## We can try on the train data\n",
    "y_pred_train=model.predict(X_train)\n",
    "metrics.f1_score(y_train, y_pred_train, average='macro')"
   ]
  },
  {
   "cell_type": "code",
   "execution_count": null,
   "metadata": {},
   "outputs": [],
   "source": [
    "from sklearn import metrics \n",
    "print('***RESULTS ON TEST SET***')\n",
    "print(\"precision: \", metrics.precision_score(y_test, y_pred, average='macro')) # tp / (tp + fp)\n",
    "print(\"recall: \", metrics.recall_score(y_test, y_pred, average='macro')) # tp / (tp + fn)\n",
    "print(\"f1_score: \", metrics.f1_score(y_test, y_pred, average='macro')) #F1 = 2 * (precision * recall) / (precision + recall)\n",
    "print(\"accuracy: \", metrics.accuracy_score(y_test, y_pred)) # (tp+tn)/m"
   ]
  },
  {
   "cell_type": "code",
   "execution_count": null,
   "metadata": {},
   "outputs": [],
   "source": []
  },
  {
   "cell_type": "markdown",
   "metadata": {},
   "source": [
    "### Multi-layer Perceptron Classifier"
   ]
  },
  {
   "cell_type": "code",
   "execution_count": null,
   "metadata": {},
   "outputs": [],
   "source": [
    "# Multi-layer Perceptron classifier\n",
    "\n",
    "from sklearn.neural_network import MLPClassifier\n",
    "\n",
    "classifier = MLPClassifier()\n",
    "parameters = {\"hidden_layer_sizes\":[(10, 5),(100,20,5)],  \"max_iter\": [2000,10000], \"alpha\": [0.001,0.0001]}\n",
    "\n",
    "hyperp_search(classifier,parameters)\n"
   ]
  },
  {
   "cell_type": "code",
   "execution_count": null,
   "metadata": {},
   "outputs": [],
   "source": [
    "model_MLP=MLPClassifier(hidden_layer_sizes=(10,5), alpha=0.001, max_iter=2000)\n",
    "\n"
   ]
  },
  {
   "cell_type": "code",
   "execution_count": null,
   "metadata": {},
   "outputs": [],
   "source": [
    "model_MLP.fit(X_train, y_train)\n",
    "y_pred=model_MLP.predict(X_test)\n",
    "\n"
   ]
  },
  {
   "cell_type": "code",
   "execution_count": null,
   "metadata": {},
   "outputs": [],
   "source": [
    "print(confusion_matrix(y_test, y_pred))\n",
    "sns.heatmap(confusion_matrix(y_test, y_pred), annot=True, fmt='d', cmap=\"Reds\", cbar=False);"
   ]
  },
  {
   "cell_type": "code",
   "execution_count": null,
   "metadata": {},
   "outputs": [],
   "source": [
    "## We can try on the train data\n",
    "y_pred_train=model_MLP.predict(X_train)\n",
    "metrics.f1_score(y_train, y_pred_train, average='macro')"
   ]
  },
  {
   "cell_type": "code",
   "execution_count": null,
   "metadata": {},
   "outputs": [],
   "source": [
    "from sklearn import metrics \n",
    "print('***RESULTS ON TEST SET***')\n",
    "print(\"precision: \", metrics.precision_score(y_test, y_pred, average='macro')) # tp / (tp + fp)\n",
    "print(\"recall: \", metrics.recall_score(y_test, y_pred, average='macro')) # tp / (tp + fn)\n",
    "print(\"f1_score: \", metrics.f1_score(y_test, y_pred, average='macro')) #F1 = 2 * (precision * recall) / (precision + recall)\n",
    "print(\"accuracy: \", metrics.accuracy_score(y_test, y_pred)) # (tp+tn)/m"
   ]
  },
  {
   "cell_type": "markdown",
   "metadata": {},
   "source": [
    "### SVM"
   ]
  },
  {
   "cell_type": "code",
   "execution_count": null,
   "metadata": {},
   "outputs": [],
   "source": [
    "from sklearn.svm import SVC\n",
    "\n",
    "classifier = SVC()\n",
    "model_SVM=SVC(kernel='linear',probability=True)\n",
    "\n"
   ]
  },
  {
   "cell_type": "code",
   "execution_count": null,
   "metadata": {},
   "outputs": [],
   "source": []
  },
  {
   "cell_type": "code",
   "execution_count": null,
   "metadata": {},
   "outputs": [],
   "source": [
    "model_SVM.fit(X_train, y_train)\n",
    "y_pred=model_SVM.predict(X_test)\n"
   ]
  },
  {
   "cell_type": "code",
   "execution_count": null,
   "metadata": {},
   "outputs": [],
   "source": [
    "print(confusion_matrix(y_test, y_pred))\n",
    "sns.heatmap(confusion_matrix(y_test, y_pred), annot=True, fmt='d', cmap=\"Reds\", cbar=False);"
   ]
  },
  {
   "cell_type": "code",
   "execution_count": null,
   "metadata": {},
   "outputs": [],
   "source": [
    "## We can try on the train data\n",
    "y_pred_train=model_SVM.predict(X_train)\n",
    "metrics.f1_score(y_train, y_pred_train, average='macro')"
   ]
  },
  {
   "cell_type": "code",
   "execution_count": null,
   "metadata": {},
   "outputs": [],
   "source": [
    "from sklearn import metrics \n",
    "print('***RESULTS ON TEST SET***')\n",
    "print(\"precision: \", metrics.precision_score(y_test, y_pred, average='macro')) # tp / (tp + fp)\n",
    "print(\"recall: \", metrics.recall_score(y_test, y_pred,average='macro')) # tp / (tp + fn)\n",
    "print(\"f1_score: \", metrics.f1_score(y_test, y_pred, average='macro')) #F1 = 2 * (precision * recall) / (precision + recall)\n",
    "print(\"accuracy: \", metrics.accuracy_score(y_test, y_pred)) # (tp+tn)/m"
   ]
  },
  {
   "cell_type": "markdown",
   "metadata": {},
   "source": [
    "### Random Forest"
   ]
  },
  {
   "cell_type": "code",
   "execution_count": null,
   "metadata": {},
   "outputs": [],
   "source": [
    "parameters = {'n_estimators':np.arange(1,100,20),\n",
    "              'criterion': ['entropy','gini'], \n",
    "              'max_depth': np.arange(1,40,20), \n",
    "              'min_samples_split': np.arange(1,40,10),\n",
    "              'min_samples_leaf': np.arange(1,40,10)} \n",
    "\n"
   ]
  },
  {
   "cell_type": "code",
   "execution_count": null,
   "metadata": {},
   "outputs": [],
   "source": [
    "from sklearn.ensemble import RandomForestClassifier\n",
    "\n",
    "classifier = RandomForestClassifier()\n",
    "hyperp_search(classifier,parameters)"
   ]
  },
  {
   "cell_type": "code",
   "execution_count": null,
   "metadata": {},
   "outputs": [],
   "source": [
    "model_RF=RandomForestClassifier(n_estimators=10, criterion='gini', max_depth=5, min_samples_split=20, min_samples_leaf=2)"
   ]
  },
  {
   "cell_type": "code",
   "execution_count": null,
   "metadata": {},
   "outputs": [],
   "source": [
    "model_RF.fit(X_train, y_train)\n",
    "y_pred=model_RF.predict(X_test)"
   ]
  },
  {
   "cell_type": "code",
   "execution_count": null,
   "metadata": {},
   "outputs": [],
   "source": [
    "print(confusion_matrix(y_test, y_pred))\n",
    "sns.heatmap(confusion_matrix(y_test, y_pred), annot=True, fmt='d', cmap=\"Reds\", cbar=False);"
   ]
  },
  {
   "cell_type": "code",
   "execution_count": null,
   "metadata": {},
   "outputs": [],
   "source": [
    "## We can try on the train data\n",
    "y_pred_train=model_RF.predict(X_train)\n",
    "metrics.f1_score(y_train, y_pred_train, average='macro')"
   ]
  },
  {
   "cell_type": "code",
   "execution_count": null,
   "metadata": {},
   "outputs": [],
   "source": [
    "from sklearn import metrics \n",
    "print('***RESULTS ON TEST SET***')\n",
    "print(\"precision: \", metrics.precision_score(y_test, y_pred, average='macro')) # tp / (tp + fp)\n",
    "print(\"recall: \", metrics.recall_score(y_test, y_pred, average='macro'))# tp / (tp + fn)\n",
    "print(\"f1_score: \", metrics.f1_score(y_test, y_pred, average='macro')) #F1 = 2 * (precision * recall) / (precision + recall)\n",
    "print(\"accuracy: \", metrics.accuracy_score(y_test, y_pred)) # (tp+tn)/m"
   ]
  },
  {
   "cell_type": "code",
   "execution_count": null,
   "metadata": {},
   "outputs": [],
   "source": []
  },
  {
   "cell_type": "code",
   "execution_count": null,
   "metadata": {},
   "outputs": [],
   "source": []
  },
  {
   "cell_type": "code",
   "execution_count": null,
   "metadata": {},
   "outputs": [],
   "source": []
  }
 ],
 "metadata": {
  "kernelspec": {
   "display_name": "Python 3",
   "language": "python",
   "name": "python3"
  },
  "language_info": {
   "codemirror_mode": {
    "name": "ipython",
    "version": 3
   },
   "file_extension": ".py",
   "mimetype": "text/x-python",
   "name": "python",
   "nbconvert_exporter": "python",
   "pygments_lexer": "ipython3",
   "version": "3.8.8"
  },
  "vscode": {
   "interpreter": {
    "hash": "d2b845af27abd399253fcde00f15a88f8cf8ce029ac594b283727ea604aa5eb5"
   }
  }
 },
 "nbformat": 4,
 "nbformat_minor": 4
}
